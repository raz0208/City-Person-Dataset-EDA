{
  "nbformat": 4,
  "nbformat_minor": 0,
  "metadata": {
    "colab": {
      "provenance": [],
      "mount_file_id": "1ceBIYz3o4K0bPxZhO9Ac0FTB1asOYXJe",
      "authorship_tag": "ABX9TyP803VFpea1eJUkebHhZwtJ",
      "include_colab_link": true
    },
    "kernelspec": {
      "name": "python3",
      "display_name": "Python 3"
    },
    "language_info": {
      "name": "python"
    }
  },
  "cells": [
    {
      "cell_type": "markdown",
      "metadata": {
        "id": "view-in-github",
        "colab_type": "text"
      },
      "source": [
        "<a href=\"https://colab.research.google.com/github/raz0208/City-Person-Dataset-EDA/blob/main/CityPersonDatasetEDA.ipynb\" target=\"_parent\"><img src=\"https://colab.research.google.com/assets/colab-badge.svg\" alt=\"Open In Colab\"/></a>"
      ]
      "source": [
        "<a href=\"https://www.kaggle.com/code/rezaazariaghouieh/citypersoneda/edit" target=\"_parent\"><img src=\"https://kaggle.com/static/images/open-in-kaggle.svg" alt=\"Open In Kaggle\"/></a>"
      ]
    },
    {
      "cell_type": "markdown",
      "source": [
        "# **CityPerson Dataset EDA (Exploratory Data Analysis)**\n",
        "A complete EDA (Exploratory Data Analysis) for CityPerson dataset\n",
        "\n",
        "## Dataset:\n",
        "\n",
        "\n",
        "*   gtFine_trainvaltest\n",
        "*   gtFinePanopticParts_trainval\n",
        "\n",
        "\n",
        "\n"
      ],
      "metadata": {
        "id": "bQ8RbBdhtShN"
      }
    },
    {
      "cell_type": "code",
      "source": [
        "# Instal Required Libraries\n",
        "import zipfile\n",
        "import os"
      ],
      "metadata": {
        "id": "wssMK8lr5UWm"
      },
      "execution_count": 1,
      "outputs": []
    },
    {
      "cell_type": "code",
      "source": [
        "# Dataset zip files path from Google Drive\n",
        "gtFine = '/content/drive/MyDrive/CityPersonDataset/gtFine_trainvaltest.zip'\n",
        "gtFinePanopticParts = '/content/drive/MyDrive/CityPersonDataset/gtFinePanopticParts_trainval.zip'\n",
        "\n",
        "gtFine_ExtPath = '/content/drive/MyDrive/CityPersonDataset/gtFine_trainvaltest'\n",
        "gtFinePano_ExtPath = '/content/drive/MyDrive/CityPersonDataset/gtFinePanopticParts_trainval'"
      ],
      "metadata": {
        "id": "UOzEjiM3CMFC"
      },
      "execution_count": 5,
      "outputs": []
    },
    {
      "cell_type": "code",
      "source": [
        "# Extracting files function\n",
        "def extract_zip(zip_path, ext_path):\n",
        "  if not os.path.exists(ext_path):\n",
        "    os.makedirs(ext_path)\n",
        "  with zipfile.ZipFile(zip_path, 'r') as zip_ref:\n",
        "    zip_ref.extractall(ext_path)\n",
        "\n",
        "# Extract both datasets zip files\n",
        "extract_zip(gtFine, gtFine_ExtPath)\n",
        "extract_zip(gtFinePanopticParts, gtFinePano_ExtPath)"
      ],
      "metadata": {
        "id": "1RJm7Ar9KzpR"
      },
      "execution_count": 8,
      "outputs": []
    },
    {
      "cell_type": "code",
      "source": [
        "# List the extracted content from both datasets\n",
        "gtFine_Files = os.listdir(gtFine_ExtPath)\n",
        "gtFinepano_Files = os.listdir(gtFinePano_ExtPath)\n",
        "\n",
        "gtFine_Files, gtFinepano_Files"
      ],
      "metadata": {
        "colab": {
          "base_uri": "https://localhost:8080/"
        },
        "id": "1S5xqqyzVt4O",
        "outputId": "e62a047e-4c4a-457a-90c2-7063cd1cf8e7"
      },
      "execution_count": 10,
      "outputs": [
        {
          "output_type": "execute_result",
          "data": {
            "text/plain": [
              "(['README', 'license.txt', 'gtFine'],\n",
              " ['README_panopticParts.md', 'license.txt', 'gtFinePanopticParts'])"
            ]
          },
          "metadata": {},
          "execution_count": 10
        }
      ]
    },
    {
      "cell_type": "code",
      "source": [
        "# Path to core folder\n",
        "gtFine_CorePath = os.path.join(gtFine_ExtPath, 'gtFine')\n",
        "gtFinePano_CorePath = os.path.join(gtFinePano_ExtPath, 'gtFinePanopticParts')\n",
        "\n",
        "# List driectories inside core folders\n",
        "gtFine_Dirs = os.listdir(gtFine_CorePath) if os.path.exists(gtFine_CorePath) else []\n",
        "gtFinePano_Dirs = os.listdir(gtFinePano_CorePath) if os.path.exists(gtFinePano_CorePath) else []\n",
        "\n",
        "gtFine_Dirs, gtFinePano_Dirs"
      ],
      "metadata": {
        "colab": {
          "base_uri": "https://localhost:8080/"
        },
        "id": "6tJWaokHVJiA",
        "outputId": "6c7c55dc-714c-43e9-d415-a3ff5a1bb46c"
      },
      "execution_count": 13,
      "outputs": [
        {
          "output_type": "execute_result",
          "data": {
            "text/plain": [
              "(['train', 'val', 'test'], ['train', 'val'])"
            ]
          },
          "metadata": {},
          "execution_count": 13
        }
      ]
    },
    {
      "cell_type": "code",
      "source": [
        "# # Listing the sample files from the 'train' directory if it exists in both datasets\n",
        "# gtfine_trainSample = os.listdir(os.path.join(gtFine_CorePath, 'train')) if 'train' in gtFine_Dirs else []\n",
        "# gtFinePano_trainSample = os.listdir(os.path.join(gtFinePano_CorePath, 'train')) if 'train' in gtFinePano_Dirs else []\n",
        "\n",
        "# gtFine_Dirs, gtfine_trainSample[:], gtFinePano_Dirs, gtFinePano_trainSample[:]\n",
        "\n",
        "# Define the subdirectories\n",
        "subdirs = [\"train\", \"val\", \"test\"]\n",
        "\n",
        "# Initialize dictionaries to store samples from each subdirectory\n",
        "gtFine_Samples = {}\n",
        "gtFinePano_Samples = {}\n",
        "\n",
        "# Process each subdirectory\n",
        "for subdir in subdirs:\n",
        "    gtFine_Samples[subdir] = os.listdir(os.path.join(gtFine_CorePath, subdir)) if subdir in gtFine_Dirs else []\n",
        "    gtFinePano_Samples[subdir] = os.listdir(os.path.join(gtFinePano_CorePath, subdir)) if subdir in gtFinePano_Dirs else []\n",
        "\n",
        "# Output the first few files for each subdirectory\n",
        "gtFine_Samples_Preview = {key: value[:] for key, value in gtFine_Samples.items()}\n",
        "gtFinePano_Samples_Preview = {key: value[:] for key, value in gtFinePano_Samples.items()}\n",
        "\n",
        "gtFine_Samples_Preview, gtFinePano_Samples_Preview"
      ],
      "metadata": {
        "colab": {
          "base_uri": "https://localhost:8080/"
        },
        "id": "gX2w78jifYvT",
        "outputId": "070fc71c-7763-49f6-c66b-b388427ea5c2"
      },
      "execution_count": 22,
      "outputs": [
        {
          "output_type": "execute_result",
          "data": {
            "text/plain": [
              "({'train': ['jena',\n",
              "   'stuttgart',\n",
              "   'ulm',\n",
              "   'dusseldorf',\n",
              "   'darmstadt',\n",
              "   'zurich',\n",
              "   'bremen',\n",
              "   'bochum',\n",
              "   'hamburg',\n",
              "   'tubingen',\n",
              "   'aachen',\n",
              "   'krefeld',\n",
              "   'hanover',\n",
              "   'weimar',\n",
              "   'strasbourg',\n",
              "   'cologne',\n",
              "   'erfurt',\n",
              "   'monchengladbach'],\n",
              "  'val': ['frankfurt', 'munster', 'lindau'],\n",
              "  'test': ['berlin', 'mainz', 'bielefeld', 'leverkusen', 'bonn', 'munich']},\n",
              " {'train': ['zurich',\n",
              "   'strasbourg',\n",
              "   'weimar',\n",
              "   'aachen',\n",
              "   'tubingen',\n",
              "   'jena',\n",
              "   'bochum',\n",
              "   'darmstadt',\n",
              "   'dusseldorf',\n",
              "   'hamburg',\n",
              "   'cologne',\n",
              "   'monchengladbach',\n",
              "   'krefeld',\n",
              "   'ulm',\n",
              "   'hanover',\n",
              "   'stuttgart',\n",
              "   'erfurt',\n",
              "   'bremen'],\n",
              "  'val': ['munster', 'lindau', 'frankfurt'],\n",
              "  'test': []})"
            ]
          },
          "metadata": {},
          "execution_count": 22
        }
      ]
    },
    {
      "cell_type": "code",
      "source": [],
      "metadata": {
        "id": "joGhITHVihWb"
      },
      "execution_count": null,
      "outputs": []
    }
  ]
}
