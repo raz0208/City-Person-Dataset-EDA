{
  "nbformat": 4,
  "nbformat_minor": 0,
  "metadata": {
    "colab": {
      "provenance": [],
      "mount_file_id": "1ceBIYz3o4K0bPxZhO9Ac0FTB1asOYXJe",
      "authorship_tag": "ABX9TyP85m1p5k1Lh/A1oHMJgiRK",
      "include_colab_link": true
    },
    "kernelspec": {
      "name": "python3",
      "display_name": "Python 3"
    },
    "language_info": {
      "name": "python"
    }
  },
  "cells": [
    {
      "cell_type": "markdown",
      "metadata": {
        "id": "view-in-github",
        "colab_type": "text"
      },
      "source": [
        "<a href=\"https://colab.research.google.com/github/raz0208/City-Person-Dataset-EDA/blob/main/CityPersonDatasetEDA.ipynb\" target=\"_parent\"><img src=\"https://colab.research.google.com/assets/colab-badge.svg\" alt=\"Open In Colab\"/></a>"
      ]
    },
    {
      "cell_type": "markdown",
      "source": [
        "# **CityPerson Dataset EDA (Exploratory Data Analysis)**\n",
        "A complete EDA (Exploratory Data Analysis) for CityPerson dataset\n",
        "\n",
        "## Used Dataset:\n",
        "\n",
        "\n",
        "*   gtFine_trainvaltest\n",
        "*   gtFinePanopticParts_trainval"
      ],
      "metadata": {
        "id": "bQ8RbBdhtShN"
      }
    },
    {
      "cell_type": "markdown",
      "source": [
        "## Step 1: Extract and read the datasets"
      ],
      "metadata": {
        "id": "1UyNlpjTMyXB"
      }
    },
    {
      "cell_type": "code",
      "source": [
        "# Instal Required Libraries\n",
        "import zipfile\n",
        "import os\n",
        "import random"
      ],
      "metadata": {
        "id": "wssMK8lr5UWm"
      },
      "execution_count": 1,
      "outputs": []
    },
    {
      "cell_type": "code",
      "source": [
        "# Dataset zip files path from Google Drive\n",
        "gtFine = '/content/drive/MyDrive/CityPersonDataset/gtFine_trainvaltest.zip'\n",
        "gtFinePanopticParts = '/content/drive/MyDrive/CityPersonDataset/gtFinePanopticParts_trainval.zip'\n",
        "\n",
        "gtFine_ExtPath = '/content/CityPersonDataset/gtFine_trainvaltest'\n",
        "gtFinePano_ExtPath = '/content/CityPersonDataset/gtFinePanopticParts_trainval'"
      ],
      "metadata": {
        "id": "UOzEjiM3CMFC"
      },
      "execution_count": 2,
      "outputs": []
    },
    {
      "cell_type": "code",
      "source": [
        "# Extracting files function\n",
        "def extract_zip(file_path, extract_path):\n",
        "    if not os.path.exists(extract_path):\n",
        "        os.makedirs(extract_path)\n",
        "    with zipfile.ZipFile(file_path, 'r') as zip_ref:\n",
        "        zip_ref.extractall(extract_path)\n",
        "\n",
        "# Extract both datasets zip files\n",
        "extract_zip(gtFine, gtFine_ExtPath)\n",
        "extract_zip(gtFinePanopticParts, gtFinePano_ExtPath)"
      ],
      "metadata": {
        "id": "1RJm7Ar9KzpR"
      },
      "execution_count": 3,
      "outputs": []
    },
    {
      "cell_type": "markdown",
      "source": [
        "## Dataset Structure:\n",
        "\n",
        "1.   gtFine_trainvaltest\n",
        "  *   Contains PNG and JSON files.\n",
        "  *   Organized by:\n",
        "       * Train, validation, and test folders.\n",
        "  *   Files Type:\n",
        "      * *_color.png: Color-coded images for segmentation.\n",
        "      * *_instanceIds.png: Encoded image masks where each pedestrian is represented with a unique ID.\n",
        "      * *_labelIds.png: Encoded image masks for class labels.\n",
        "      * *_polygons.json: Contains polygonal annotations for semantic segmentation, instance\n",
        "2. gtFinePanopticParts_trainval:\n",
        "    * Contains TIF files.\n",
        "    * Organized similarly to gtFine_trainvaltest.\n",
        "    * File type:\n",
        "      * *_gtFinePanopticParts.tif: Panoptic segmentation with part-level annotations (e.g., parts of a pedestrian like arms or legs)."
      ],
      "metadata": {
        "id": "ibmobcBAlOJY"
      }
    },
    {
      "cell_type": "code",
      "source": [
        "# List the extracted content from both datasets\n",
        "gtFine_Files = os.listdir(gtFine_ExtPath)\n",
        "gtFinepano_Files = os.listdir(gtFinePano_ExtPath)\n",
        "\n",
        "gtFine_Files, gtFinepano_Files"
      ],
      "metadata": {
        "id": "1S5xqqyzVt4O",
        "colab": {
          "base_uri": "https://localhost:8080/"
        },
        "outputId": "59175a02-92fe-4ae6-d560-c3f06d22344c"
      },
      "execution_count": 4,
      "outputs": [
        {
          "output_type": "execute_result",
          "data": {
            "text/plain": [
              "(['license.txt', 'README', 'gtFine'],\n",
              " ['license.txt', 'README_panopticParts.md', 'gtFinePanopticParts'])"
            ]
          },
          "metadata": {},
          "execution_count": 4
        }
      ]
    },
    {
      "cell_type": "code",
      "source": [
        "# Path to core folder\n",
        "gtFine_CorePath = os.path.join(gtFine_ExtPath, 'gtFine')\n",
        "gtFinePano_CorePath = os.path.join(gtFinePano_ExtPath, 'gtFinePanopticParts')\n",
        "\n",
        "# List driectories inside core folders\n",
        "gtFine_Dirs = os.listdir(gtFine_CorePath) if os.path.exists(gtFine_CorePath) else []\n",
        "gtFinePano_Dirs = os.listdir(gtFinePano_CorePath) if os.path.exists(gtFinePano_CorePath) else []\n",
        "\n",
        "gtFine_Dirs, gtFinePano_Dirs"
      ],
      "metadata": {
        "id": "6tJWaokHVJiA",
        "colab": {
          "base_uri": "https://localhost:8080/"
        },
        "outputId": "6aef8d07-8ac3-42e8-8acd-bffeaeac79ae"
      },
      "execution_count": 5,
      "outputs": [
        {
          "output_type": "execute_result",
          "data": {
            "text/plain": [
              "(['test', 'train', 'val'], ['train', 'val'])"
            ]
          },
          "metadata": {},
          "execution_count": 5
        }
      ]
    },
    {
      "cell_type": "code",
      "source": [
        "##### SIMPLE IMPLEMENTATION\n",
        "\n",
        "# # Listing the sample files from the 'train' directory if it exists in both datasets\n",
        "# gtfine_trainSample = os.listdir(os.path.join(gtFine_CorePath, 'train')) if 'train' in gtFine_Dirs else []\n",
        "# gtFinePano_trainSample = os.listdir(os.path.join(gtFinePano_CorePath, 'train')) if 'train' in gtFinePano_Dirs else []\n",
        "\n",
        "# gtFine_Dirs, gtfine_trainSample[:], gtFinePano_Dirs, gtFinePano_trainSample[:]\n",
        "\n",
        "######\n",
        "\n",
        "# Define the subdirectories\n",
        "subdirs = gtFine_Dirs #[\"train\", \"val\", \"test\"]\n",
        "\n",
        "# Initialize dictionaries to store samples from each subdirectory\n",
        "gtFine_CityFolders = {}\n",
        "gtFinePano_CityFolders = {}\n",
        "\n",
        "# Process each subdirectory\n",
        "for subdir in subdirs:\n",
        "    gtFine_CityFolders[subdir] = os.listdir(os.path.join(gtFine_CorePath, subdir)) if subdir in gtFine_Dirs else []\n",
        "    gtFinePano_CityFolders[subdir] = os.listdir(os.path.join(gtFinePano_CorePath, subdir)) if subdir in gtFinePano_Dirs else []\n",
        "\n",
        "# Output the first few files for each subdirectory\n",
        "gtFine_CityFolders_Preview = {key: value[:] for key, value in gtFine_CityFolders.items()}\n",
        "gtFinePano_CityFolders_Preview = {key: value[:] for key, value in gtFinePano_CityFolders.items()}\n",
        "\n",
        "gtFine_CityFolders_Preview, gtFinePano_CityFolders_Preview"
      ],
      "metadata": {
        "id": "gX2w78jifYvT",
        "colab": {
          "base_uri": "https://localhost:8080/"
        },
        "outputId": "056031fc-05cc-4ecb-ef57-11d27e315a22"
      },
      "execution_count": 6,
      "outputs": [
        {
          "output_type": "execute_result",
          "data": {
            "text/plain": [
              "({'test': ['bonn', 'leverkusen', 'mainz', 'munich', 'berlin', 'bielefeld'],\n",
              "  'train': ['stuttgart',\n",
              "   'hamburg',\n",
              "   'hanover',\n",
              "   'bremen',\n",
              "   'tubingen',\n",
              "   'zurich',\n",
              "   'weimar',\n",
              "   'krefeld',\n",
              "   'bochum',\n",
              "   'ulm',\n",
              "   'erfurt',\n",
              "   'darmstadt',\n",
              "   'monchengladbach',\n",
              "   'jena',\n",
              "   'aachen',\n",
              "   'dusseldorf',\n",
              "   'cologne',\n",
              "   'strasbourg'],\n",
              "  'val': ['lindau', 'munster', 'frankfurt']},\n",
              " {'test': [],\n",
              "  'train': ['stuttgart',\n",
              "   'hamburg',\n",
              "   'hanover',\n",
              "   'bremen',\n",
              "   'tubingen',\n",
              "   'zurich',\n",
              "   'weimar',\n",
              "   'krefeld',\n",
              "   'bochum',\n",
              "   'ulm',\n",
              "   'erfurt',\n",
              "   'darmstadt',\n",
              "   'monchengladbach',\n",
              "   'jena',\n",
              "   'aachen',\n",
              "   'dusseldorf',\n",
              "   'cologne',\n",
              "   'strasbourg'],\n",
              "  'val': ['lindau', 'munster', 'frankfurt']})"
            ]
          },
          "metadata": {},
          "execution_count": 6
        }
      ]
    },
    {
      "cell_type": "markdown",
      "source": [
        "## Files structure\n",
        "\n",
        "For example: the file structure in the \"bochum\" city directory confirms the expected dataset formats and relationships:\n",
        "\n",
        "1. gtFine Dataset (bochum):\n",
        "    - Files include:\n",
        "       - Color-coded images (e.g., bochum_000000_000313_gtFine_color.png).\n",
        "       - Instance masks (e.g., bochum_000000_000313_gtFine_instanceIds.png).\n",
        "       - Label masks (e.g., bochum_000000_000313_gtFine_labelIds.png).\n",
        "       - Polygon annotations (e.g., bochum_000000_000313_gtFine_polygons.json).\n",
        "\n",
        "2. gtFinePanopticParts Dataset (bochum):\n",
        "    - Files include:\n",
        "      - Panoptic segmentation with part-level detail (e.g., bochum_000000_000313_gtFinePanopticParts.tif).\n",
        "\n",
        "## Observed Relationship:\n",
        "- The filenames match across datasets, indicating alignment.\n",
        "  - For example: bochum_000000_000313_gtFinePanopticParts.tif aligns with the corresponding files in gtFine for color, instance, label, and polygons."
      ],
      "metadata": {
        "id": "5olphY6ykIeF"
      }
    },
    {
      "cell_type": "code",
      "source": [
        "# Select 3 cities name randomly from 'train' folder to check files\n",
        "selected_cities = random.sample(gtFine_CityFolders['train'], 3)\n",
        "\n",
        "# List files for each selected city\n",
        "gtFine_city_files = {}\n",
        "gtFinePano_city_files = {}\n",
        "\n",
        "for city in selected_cities:\n",
        "    gtFine_city_path = os.path.join(gtFine_CorePath, \"train\", city)\n",
        "    gtFinePano_city_path = os.path.join(gtFinePano_CorePath, \"train\", city)\n",
        "\n",
        "    gtFine_city_files[city] = sorted(os.listdir(gtFine_city_path)[0:5] if os.path.exists(gtFine_city_path) else [])\n",
        "    gtFinePano_city_files[city] = sorted(os.listdir(gtFinePano_city_path)[0:5] if os.path.exists(gtFinePano_city_path) else [])\n",
        "\n",
        "# Preview sample files for each city\n",
        "gtFine_city_files, gtFinePano_city_files"
      ],
      "metadata": {
        "id": "joGhITHVihWb",
        "colab": {
          "base_uri": "https://localhost:8080/"
        },
        "outputId": "75637382-f905-43a2-f7e7-de8a8e428bbb"
      },
      "execution_count": 26,
      "outputs": [
        {
          "output_type": "execute_result",
          "data": {
            "text/plain": [
              "({'bochum': ['bochum_000000_007150_gtFine_polygons.json',\n",
              "   'bochum_000000_011255_gtFine_instanceIds.png',\n",
              "   'bochum_000000_025833_gtFine_color.png',\n",
              "   'bochum_000000_032169_gtFine_color.png',\n",
              "   'bochum_000000_038150_gtFine_polygons.json'],\n",
              "  'erfurt': ['erfurt_000000_000019_gtFine_labelIds.png',\n",
              "   'erfurt_000025_000019_gtFine_color.png',\n",
              "   'erfurt_000073_000019_gtFine_labelIds.png',\n",
              "   'erfurt_000080_000019_gtFine_polygons.json',\n",
              "   'erfurt_000107_000019_gtFine_labelIds.png'],\n",
              "  'krefeld': ['krefeld_000000_000316_gtFine_color.png',\n",
              "   'krefeld_000000_008239_gtFine_color.png',\n",
              "   'krefeld_000000_023698_gtFine_color.png',\n",
              "   'krefeld_000000_030560_gtFine_instanceIds.png',\n",
              "   'krefeld_000000_030701_gtFine_labelIds.png']},\n",
              " {'bochum': ['bochum_000000_001828_gtFinePanopticParts.tif',\n",
              "   'bochum_000000_008804_gtFinePanopticParts.tif',\n",
              "   'bochum_000000_021606_gtFinePanopticParts.tif',\n",
              "   'bochum_000000_023435_gtFinePanopticParts.tif',\n",
              "   'bochum_000000_030913_gtFinePanopticParts.tif'],\n",
              "  'erfurt': ['erfurt_000049_000019_gtFinePanopticParts.tif',\n",
              "   'erfurt_000059_000019_gtFinePanopticParts.tif',\n",
              "   'erfurt_000065_000019_gtFinePanopticParts.tif',\n",
              "   'erfurt_000089_000019_gtFinePanopticParts.tif',\n",
              "   'erfurt_000099_000019_gtFinePanopticParts.tif'],\n",
              "  'krefeld': ['krefeld_000000_010653_gtFinePanopticParts.tif',\n",
              "   'krefeld_000000_011483_gtFinePanopticParts.tif',\n",
              "   'krefeld_000000_020624_gtFinePanopticParts.tif',\n",
              "   'krefeld_000000_025812_gtFinePanopticParts.tif',\n",
              "   'krefeld_000000_034686_gtFinePanopticParts.tif']})"
            ]
          },
          "metadata": {},
          "execution_count": 26
        }
      ]
    },
    {
      "cell_type": "code",
      "source": [],
      "metadata": {
        "id": "AmHX9szCGNzK"
      },
      "execution_count": 7,
      "outputs": []
    }
  ]
}