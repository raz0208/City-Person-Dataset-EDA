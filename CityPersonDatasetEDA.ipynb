{
  "nbformat": 4,
  "nbformat_minor": 0,
  "metadata": {
    "colab": {
      "provenance": [],
      "mount_file_id": "1ceBIYz3o4K0bPxZhO9Ac0FTB1asOYXJe",
      "authorship_tag": "ABX9TyP60Iyypltqfrrca7oXqOO0",
      "include_colab_link": true
    },
    "kernelspec": {
      "name": "python3",
      "display_name": "Python 3"
    },
    "language_info": {
      "name": "python"
    }
  },
  "cells": [
    {
      "cell_type": "markdown",
      "metadata": {
        "id": "view-in-github",
        "colab_type": "text"
      },
      "source": [
        "<a href=\"https://colab.research.google.com/github/raz0208/City-Person-Dataset-EDA/blob/main/CityPersonDatasetEDA.ipynb\" target=\"_parent\"><img src=\"https://colab.research.google.com/assets/colab-badge.svg\" alt=\"Open In Colab\"/></a>"
      ]
    },
    {
      "cell_type": "markdown",
      "source": [
        "# **CityPerson Dataset EDA (Exploratory Data Analysis)**\n",
        "A complete EDA (Exploratory Data Analysis) for CityPerson dataset\n",
        "\n",
        "## Used Dataset:\n",
        "\n",
        "\n",
        "*   gtFine_trainvaltest\n",
        "*   gtFinePanopticParts_trainval"
      ],
      "metadata": {
        "id": "bQ8RbBdhtShN"
      }
    },
    {
      "cell_type": "markdown",
      "source": [
        "## Step 1: Extract and read the datasets"
      ],
      "metadata": {
        "id": "1UyNlpjTMyXB"
      }
    },
    {
      "cell_type": "code",
      "source": [
        "# Instal Required Libraries\n",
        "import zipfile\n",
        "import os\n",
        "import random"
      ],
      "metadata": {
        "id": "wssMK8lr5UWm"
      },
      "execution_count": 19,
      "outputs": []
    },
    {
      "cell_type": "code",
      "source": [
        "# Dataset zip files path from Google Drive\n",
        "gtFine = '/content/drive/MyDrive/CityPersonDataset/gtFine_trainvaltest.zip'\n",
        "gtFinePanopticParts = '/content/drive/MyDrive/CityPersonDataset/gtFinePanopticParts_trainval.zip'\n",
        "\n",
        "gtFine_ExtPath = '/content/CityPersonDataset/gtFine_trainvaltest'\n",
        "gtFinePano_ExtPath = '/content/CityPersonDataset/gtFinePanopticParts_trainval'"
      ],
      "metadata": {
        "id": "UOzEjiM3CMFC"
      },
      "execution_count": 9,
      "outputs": []
    },
    {
      "cell_type": "code",
      "source": [
        "# Extracting files function\n",
        "def extract_zip(file_path, extract_path):\n",
        "    if not os.path.exists(extract_path):\n",
        "        os.makedirs(extract_path)\n",
        "    with zipfile.ZipFile(file_path, 'r') as zip_ref:\n",
        "        zip_ref.extractall(extract_path)\n",
        "\n",
        "# Extract both datasets zip files\n",
        "extract_zip(gtFine, gtFine_ExtPath)\n",
        "extract_zip(gtFinePanopticParts, gtFinePano_ExtPath)"
      ],
      "metadata": {
        "id": "1RJm7Ar9KzpR"
      },
      "execution_count": 10,
      "outputs": []
    },
    {
      "cell_type": "markdown",
      "source": [
        "## Dataset Structure:\n",
        "\n",
        "1.   gtFine_trainvaltest\n",
        "  *   Contains PNG and JSON files.\n",
        "  *   Organized by:\n",
        "       * Train, validation, and test folders.\n",
        "  *   Files Type:\n",
        "      * *_color.png: Color-coded images for segmentation.\n",
        "      * *_instanceIds.png: Encoded image masks where each pedestrian is represented with a unique ID.\n",
        "      * *_labelIds.png: Encoded image masks for class labels.\n",
        "      * *_polygons.json: Contains polygonal annotations for semantic segmentation, instance\n",
        "2. gtFinePanopticParts_trainval:\n",
        "    * Contains TIF files.\n",
        "    * Organized similarly to gtFine_trainvaltest.\n",
        "    * File type:\n",
        "      * *_gtFinePanopticParts.tif: Panoptic segmentation with part-level annotations (e.g., parts of a pedestrian like arms or legs)."
      ],
      "metadata": {
        "id": "ibmobcBAlOJY"
      }
    },
    {
      "cell_type": "code",
      "source": [
        "# List the extracted content from both datasets\n",
        "gtFine_Files = os.listdir(gtFine_ExtPath)\n",
        "gtFinepano_Files = os.listdir(gtFinePano_ExtPath)\n",
        "\n",
        "gtFine_Files, gtFinepano_Files"
      ],
      "metadata": {
        "id": "1S5xqqyzVt4O",
        "colab": {
          "base_uri": "https://localhost:8080/"
        },
        "outputId": "b0aa0a16-7caa-481e-dbbd-132bd03cfbc2"
      },
      "execution_count": 11,
      "outputs": [
        {
          "output_type": "execute_result",
          "data": {
            "text/plain": [
              "(['license.txt', 'README', 'gtFine'],\n",
              " ['license.txt', 'README_panopticParts.md', 'gtFinePanopticParts'])"
            ]
          },
          "metadata": {},
          "execution_count": 11
        }
      ]
    },
    {
      "cell_type": "code",
      "source": [
        "# Path to core folder\n",
        "gtFine_CorePath = os.path.join(gtFine_ExtPath, 'gtFine')\n",
        "gtFinePano_CorePath = os.path.join(gtFinePano_ExtPath, 'gtFinePanopticParts')\n",
        "\n",
        "# List driectories inside core folders\n",
        "gtFine_Dirs = os.listdir(gtFine_CorePath) if os.path.exists(gtFine_CorePath) else []\n",
        "gtFinePano_Dirs = os.listdir(gtFinePano_CorePath) if os.path.exists(gtFinePano_CorePath) else []\n",
        "\n",
        "gtFine_Dirs, gtFinePano_Dirs"
      ],
      "metadata": {
        "id": "6tJWaokHVJiA",
        "colab": {
          "base_uri": "https://localhost:8080/"
        },
        "outputId": "0199b313-f42a-4595-ec36-65990f9ed55f"
      },
      "execution_count": 12,
      "outputs": [
        {
          "output_type": "execute_result",
          "data": {
            "text/plain": [
              "(['val', 'test', 'train'], ['val', 'train'])"
            ]
          },
          "metadata": {},
          "execution_count": 12
        }
      ]
    },
    {
      "cell_type": "code",
      "source": [
        "##### SIMPLE IMPLEMENTATION\n",
        "\n",
        "# # Listing the sample files from the 'train' directory if it exists in both datasets\n",
        "# gtfine_trainSample = os.listdir(os.path.join(gtFine_CorePath, 'train')) if 'train' in gtFine_Dirs else []\n",
        "# gtFinePano_trainSample = os.listdir(os.path.join(gtFinePano_CorePath, 'train')) if 'train' in gtFinePano_Dirs else []\n",
        "\n",
        "# gtFine_Dirs, gtfine_trainSample[:], gtFinePano_Dirs, gtFinePano_trainSample[:]\n",
        "\n",
        "######\n",
        "\n",
        "# Define the subdirectories\n",
        "subdirs = gtFine_Dirs #[\"train\", \"val\", \"test\"]\n",
        "\n",
        "# Initialize dictionaries to store samples from each subdirectory\n",
        "gtFine_CityFolders = {}\n",
        "gtFinePano_CityFolders = {}\n",
        "\n",
        "# Process each subdirectory\n",
        "for subdir in subdirs:\n",
        "    gtFine_CityFolders[subdir] = os.listdir(os.path.join(gtFine_CorePath, subdir)) if subdir in gtFine_Dirs else []\n",
        "    gtFinePano_CityFolders[subdir] = os.listdir(os.path.join(gtFinePano_CorePath, subdir)) if subdir in gtFinePano_Dirs else []\n",
        "\n",
        "# Output the first few files for each subdirectory\n",
        "gtFine_CityFolders_Preview = {key: value[:] for key, value in gtFine_CityFolders.items()}\n",
        "gtFinePano_CityFolders_Preview = {key: value[:] for key, value in gtFinePano_CityFolders.items()}\n",
        "\n",
        "gtFine_CityFolders_Preview, gtFinePano_CityFolders_Preview"
      ],
      "metadata": {
        "id": "gX2w78jifYvT",
        "colab": {
          "base_uri": "https://localhost:8080/"
        },
        "outputId": "9e1bc354-14f8-48a1-aaaa-04120865381b"
      },
      "execution_count": 23,
      "outputs": [
        {
          "output_type": "execute_result",
          "data": {
            "text/plain": [
              "({'val': ['lindau', 'frankfurt', 'munster'],\n",
              "  'test': ['bonn', 'munich', 'leverkusen', 'berlin', 'mainz', 'bielefeld'],\n",
              "  'train': ['weimar',\n",
              "   'bremen',\n",
              "   'bochum',\n",
              "   'darmstadt',\n",
              "   'ulm',\n",
              "   'stuttgart',\n",
              "   'hanover',\n",
              "   'hamburg',\n",
              "   'tubingen',\n",
              "   'monchengladbach',\n",
              "   'dusseldorf',\n",
              "   'cologne',\n",
              "   'strasbourg',\n",
              "   'erfurt',\n",
              "   'jena',\n",
              "   'krefeld',\n",
              "   'aachen',\n",
              "   'zurich']},\n",
              " {'val': ['lindau', 'frankfurt', 'munster'],\n",
              "  'test': [],\n",
              "  'train': ['weimar',\n",
              "   'bremen',\n",
              "   'bochum',\n",
              "   'darmstadt',\n",
              "   'ulm',\n",
              "   'stuttgart',\n",
              "   'hanover',\n",
              "   'hamburg',\n",
              "   'tubingen',\n",
              "   'monchengladbach',\n",
              "   'dusseldorf',\n",
              "   'cologne',\n",
              "   'strasbourg',\n",
              "   'erfurt',\n",
              "   'jena',\n",
              "   'krefeld',\n",
              "   'aachen',\n",
              "   'zurich']})"
            ]
          },
          "metadata": {},
          "execution_count": 23
        }
      ]
    },
    {
      "cell_type": "markdown",
      "source": [
        "## Files structure\n",
        "\n",
        "For example: the file structure in the \"bochum\" city directory confirms the expected dataset formats and relationships:\n",
        "\n",
        "1. gtFine Dataset (bochum):\n",
        "    - Files include:\n",
        "       - Color-coded images (e.g., bochum_000000_000313_gtFine_color.png).\n",
        "       - Instance masks (e.g., bochum_000000_000313_gtFine_instanceIds.png).\n",
        "       - Label masks (e.g., bochum_000000_000313_gtFine_labelIds.png).\n",
        "       - Polygon annotations (e.g., bochum_000000_000313_gtFine_polygons.json).\n",
        "\n",
        "2. gtFinePanopticParts Dataset (bochum):\n",
        "    - Files include:\n",
        "      - Panoptic segmentation with part-level detail (e.g., bochum_000000_000313_gtFinePanopticParts.tif).\n",
        "\n",
        "## Observed Relationship:\n",
        "- The filenames match across datasets, indicating alignment.\n",
        "  - For example: bochum_000000_000313_gtFinePanopticParts.tif aligns with the corresponding files in gtFine for color, instance, label, and polygons."
      ],
      "metadata": {
        "id": "5olphY6ykIeF"
      }
    },
    {
      "cell_type": "code",
      "source": [
        "# Select random 3 city names from the 'train' folder\n",
        "selected_cities = random.sample(gtFine_CityFolders['train'], 3)\n",
        "\n",
        "# List files for each selected city\n",
        "gtFine_city_files = {}\n",
        "gtFinePanopticParts_city_files = {}\n",
        "\n",
        "for city in selected_cities:\n",
        "    gtFine_city_path = os.path.join(gtFine_CorePath, \"train\", city)\n",
        "    gtFinePanopticParts_city_path = os.path.join(gtFinePano_CorePath, \"train\", city)\n",
        "\n",
        "    gtFine_city_files[city] = os.listdir(gtFine_city_path)[:5] if os.path.exists(gtFine_city_path) else []\n",
        "    gtFinePanopticParts_city_files[city] = os.listdir(gtFinePanopticParts_city_path)[:5] if os.path.exists(gtFinePanopticParts_city_path) else []\n",
        "\n",
        "# Preview sample files for each city\n",
        "gtFine_city_files, gtFinePanopticParts_city_files"
      ],
      "metadata": {
        "id": "joGhITHVihWb",
        "colab": {
          "base_uri": "https://localhost:8080/"
        },
        "outputId": "4fb46f1a-fd7f-4b1c-8497-9b4032360c84"
      },
      "execution_count": 24,
      "outputs": [
        {
          "output_type": "execute_result",
          "data": {
            "text/plain": [
              "({'monchengladbach': ['monchengladbach_000000_005686_gtFine_color.png',\n",
              "   'monchengladbach_000000_012376_gtFine_labelIds.png',\n",
              "   'monchengladbach_000000_036139_gtFine_color.png',\n",
              "   'monchengladbach_000000_010733_gtFine_color.png',\n",
              "   'monchengladbach_000000_020856_gtFine_labelIds.png'],\n",
              "  'jena': ['jena_000097_000019_gtFine_polygons.json',\n",
              "   'jena_000115_000019_gtFine_polygons.json',\n",
              "   'jena_000003_000019_gtFine_polygons.json',\n",
              "   'jena_000056_000019_gtFine_labelIds.png',\n",
              "   'jena_000113_000019_gtFine_labelIds.png'],\n",
              "  'hamburg': ['hamburg_000000_021961_gtFine_polygons.json',\n",
              "   'hamburg_000000_091155_gtFine_instanceIds.png',\n",
              "   'hamburg_000000_042885_gtFine_instanceIds.png',\n",
              "   'hamburg_000000_079657_gtFine_polygons.json',\n",
              "   'hamburg_000000_045437_gtFine_instanceIds.png']},\n",
              " {'monchengladbach': ['monchengladbach_000000_010505_gtFinePanopticParts.tif',\n",
              "   'monchengladbach_000000_025215_gtFinePanopticParts.tif',\n",
              "   'monchengladbach_000000_010860_gtFinePanopticParts.tif',\n",
              "   'monchengladbach_000000_023375_gtFinePanopticParts.tif',\n",
              "   'monchengladbach_000000_035650_gtFinePanopticParts.tif'],\n",
              "  'jena': ['jena_000094_000019_gtFinePanopticParts.tif',\n",
              "   'jena_000101_000019_gtFinePanopticParts.tif',\n",
              "   'jena_000089_000019_gtFinePanopticParts.tif',\n",
              "   'jena_000115_000019_gtFinePanopticParts.tif',\n",
              "   'jena_000078_000019_gtFinePanopticParts.tif'],\n",
              "  'hamburg': ['hamburg_000000_004985_gtFinePanopticParts.tif',\n",
              "   'hamburg_000000_026675_gtFinePanopticParts.tif',\n",
              "   'hamburg_000000_062371_gtFinePanopticParts.tif',\n",
              "   'hamburg_000000_088783_gtFinePanopticParts.tif',\n",
              "   'hamburg_000000_019373_gtFinePanopticParts.tif']})"
            ]
          },
          "metadata": {},
          "execution_count": 24
        }
      ]
    }
  ]
}