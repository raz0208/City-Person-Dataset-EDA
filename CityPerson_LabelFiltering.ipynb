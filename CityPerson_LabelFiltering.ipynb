{
  "cells": [
    {
      "cell_type": "markdown",
      "metadata": {
        "id": "view-in-github",
        "colab_type": "text"
      },
      "source": [
        "<a href=\"https://colab.research.google.com/github/raz0208/City-Person-Dataset-EDA/blob/main/CityPerson_LabelFiltering.ipynb\" target=\"_parent\"><img src=\"https://colab.research.google.com/assets/colab-badge.svg\" alt=\"Open In Colab\"/></a>"
      ]
    },
    {
      "cell_type": "markdown",
      "metadata": {
        "id": "Bgac0bchX7To"
      },
      "source": [
        "## Augmentation Procsess"
      ]
    },
    {
      "cell_type": "code",
      "execution_count": null,
      "metadata": {
        "id": "GIXjBkUIX4rH"
      },
      "outputs": [],
      "source": [
        "# Instal Required Libraries\n",
        "import os\n",
        "import zipfile\n",
        "import json\n",
        "import numpy as np\n",
        "import pandas as pd\n",
        "from collections import Counter\n",
        "import shutil\n",
        "import random\n",
        "from PIL import Image\n",
        "import matplotlib.pyplot as plt"
      ]
    },
    {
      "cell_type": "code",
      "execution_count": null,
      "metadata": {
        "id": "EUNGUUlRYtZV"
      },
      "outputs": [],
      "source": [
        "# Dataset zip files path from Google Drive\n",
        "gtFine = '/content/drive/MyDrive/CityPersonDataset/gtFine_trainvaltest.zip'\n",
        "gtFinePanopticParts = '/content/drive/MyDrive/CityPersonDataset/gtFinePanopticParts_trainval.zip'\n",
        "gtBbox = '/content/drive/MyDrive/CityPersonDataset/gtBbox_cityPersons_trainval.zip'\n",
        "\n",
        "gtFine_ExtPath = '/content/CityPersonDataset/gtFine_trainvaltest'\n",
        "gtFinePano_ExtPath = '/content/CityPersonDataset/gtFinePanopticParts_trainval'\n",
        "gtBbox_ExtPath = '/content/CityPersonDataset/gtBbox_cityPersons_trainval'"
      ]
    },
    {
      "cell_type": "code",
      "execution_count": null,
      "metadata": {
        "id": "vV7lcZIwZFAt"
      },
      "outputs": [],
      "source": [
        "# Extracting files function\n",
        "def extract_zip(file_path, extract_path):\n",
        "    if not os.path.exists(extract_path):\n",
        "        os.makedirs(extract_path)\n",
        "    with zipfile.ZipFile(file_path, 'r') as zip_ref:\n",
        "        zip_ref.extractall(extract_path)\n",
        "\n",
        "# Extract both datasets zip files\n",
        "extract_zip(gtFine, gtFine_ExtPath)\n",
        "extract_zip(gtFinePanopticParts, gtFinePano_ExtPath)\n",
        "extract_zip(gtBbox, gtBbox_ExtPath)"
      ]
    },
    {
      "cell_type": "code",
      "execution_count": null,
      "metadata": {
        "colab": {
          "base_uri": "https://localhost:8080/"
        },
        "id": "95dGXa1cZsO9",
        "outputId": "383cf885-b30d-44ac-bbba-61278e7694e2"
      },
      "outputs": [
        {
          "output_type": "execute_result",
          "data": {
            "text/plain": [
              "(['README', 'gtFine', 'license.txt'],\n",
              " ['gtFinePanopticParts', 'README_panopticParts.md', 'license.txt'],\n",
              " ['gtBboxCityPersons', 'README_cityPersons', 'license.txt'])"
            ]
          },
          "metadata": {},
          "execution_count": 4
        }
      ],
      "source": [
        "# List the extracted content from both datasets\n",
        "gtFine_Files = os.listdir(gtFine_ExtPath)\n",
        "gtFinepano_Files = os.listdir(gtFinePano_ExtPath)\n",
        "gtBbox_Files = os.listdir(gtBbox_ExtPath)\n",
        "\n",
        "gtFine_Files, gtFinepano_Files, gtBbox_Files"
      ]
    },
    {
      "cell_type": "code",
      "execution_count": null,
      "metadata": {
        "colab": {
          "base_uri": "https://localhost:8080/"
        },
        "id": "eRqLppBvZvEE",
        "outputId": "70964002-8d21-494b-d966-a3aadc77e623"
      },
      "outputs": [
        {
          "output_type": "execute_result",
          "data": {
            "text/plain": [
              "(['test', 'val', 'train'], ['val', 'train'], ['val', 'train'])"
            ]
          },
          "metadata": {},
          "execution_count": 5
        }
      ],
      "source": [
        "# Path to core folder\n",
        "gtFine_CorePath = os.path.join(gtFine_ExtPath, 'gtFine')\n",
        "gtFinePano_CorePath = os.path.join(gtFinePano_ExtPath, 'gtFinePanopticParts')\n",
        "gtBbox_CorePath = os.path.join(gtBbox_ExtPath, 'gtBboxCityPersons')\n",
        "\n",
        "# List driectories inside core folders\n",
        "gtFine_Dirs = os.listdir(gtFine_CorePath) if os.path.exists(gtFine_CorePath) else []\n",
        "gtFinePano_Dirs = os.listdir(gtFinePano_CorePath) if os.path.exists(gtFinePano_CorePath) else []\n",
        "gtBbox_Dirs = os.listdir(gtBbox_CorePath) if os.path.exists(gtBbox_CorePath) else []\n",
        "\n",
        "gtFine_Dirs, gtFinePano_Dirs, gtBbox_Dirs"
      ]
    },
    {
      "cell_type": "code",
      "execution_count": null,
      "metadata": {
        "colab": {
          "base_uri": "https://localhost:8080/"
        },
        "collapsed": true,
        "id": "OSEmKZrdZ3J9",
        "outputId": "f677df43-fa19-4b12-f665-bc3d4e9a6a3c"
      },
      "outputs": [
        {
          "output_type": "execute_result",
          "data": {
            "text/plain": [
              "({'test': ['bielefeld', 'berlin', 'munich', 'leverkusen', 'mainz', 'bonn'],\n",
              "  'val': ['lindau', 'munster', 'frankfurt'],\n",
              "  'train': ['stuttgart',\n",
              "   'monchengladbach',\n",
              "   'zurich',\n",
              "   'erfurt',\n",
              "   'cologne',\n",
              "   'darmstadt',\n",
              "   'strasbourg',\n",
              "   'bremen',\n",
              "   'aachen',\n",
              "   'jena',\n",
              "   'tubingen',\n",
              "   'hanover',\n",
              "   'dusseldorf',\n",
              "   'krefeld',\n",
              "   'hamburg',\n",
              "   'weimar',\n",
              "   'bochum',\n",
              "   'ulm']},\n",
              " {'test': [],\n",
              "  'val': ['lindau', 'munster', 'frankfurt'],\n",
              "  'train': ['stuttgart',\n",
              "   'monchengladbach',\n",
              "   'zurich',\n",
              "   'erfurt',\n",
              "   'cologne',\n",
              "   'darmstadt',\n",
              "   'strasbourg',\n",
              "   'bremen',\n",
              "   'aachen',\n",
              "   'jena',\n",
              "   'tubingen',\n",
              "   'hanover',\n",
              "   'dusseldorf',\n",
              "   'krefeld',\n",
              "   'hamburg',\n",
              "   'weimar',\n",
              "   'bochum',\n",
              "   'ulm']},\n",
              " {'test': [],\n",
              "  'val': ['lindau', 'munster', 'frankfurt'],\n",
              "  'train': ['stuttgart',\n",
              "   'monchengladbach',\n",
              "   'zurich',\n",
              "   'erfurt',\n",
              "   'cologne',\n",
              "   'darmstadt',\n",
              "   'strasbourg',\n",
              "   'bremen',\n",
              "   'aachen',\n",
              "   'jena',\n",
              "   'tubingen',\n",
              "   'hanover',\n",
              "   'dusseldorf',\n",
              "   'krefeld',\n",
              "   'hamburg',\n",
              "   'weimar',\n",
              "   'bochum',\n",
              "   'ulm']})"
            ]
          },
          "metadata": {},
          "execution_count": 6
        }
      ],
      "source": [
        "# Define the subdirectories\n",
        "subdirs = gtFine_Dirs #[\"train\", \"val\", \"test\"]\n",
        "\n",
        "# Initialize dictionaries to store samples from each subdirectory\n",
        "gtFine_CityFolders = {}\n",
        "gtFinePano_CityFolders = {}\n",
        "gtBbox_CityFolders = {}\n",
        "\n",
        "# Process each subdirectory\n",
        "for subdir in subdirs:\n",
        "    gtFine_CityFolders[subdir] = os.listdir(os.path.join(gtFine_CorePath, subdir)) if subdir in gtFine_Dirs else []\n",
        "    gtFinePano_CityFolders[subdir] = os.listdir(os.path.join(gtFinePano_CorePath, subdir)) if subdir in gtFinePano_Dirs else []\n",
        "    gtBbox_CityFolders[subdir] = os.listdir(os.path.join(gtBbox_CorePath, subdir)) if subdir in gtBbox_Dirs else []\n",
        "\n",
        "# Output the first few files for each subdirectory\n",
        "gtFine_CityFolders_Preview = {key: value[:] for key, value in gtFine_CityFolders.items()}\n",
        "gtFinePano_CityFolders_Preview = {key: value[:] for key, value in gtFinePano_CityFolders.items()}\n",
        "gtBbox_CityFolders_Preview = {key: value[:] for key, value in gtBbox_CityFolders.items()}\n",
        "\n",
        "gtFine_CityFolders_Preview, gtFinePano_CityFolders_Preview, gtBbox_CityFolders_Preview"
      ]
    },
    {
      "cell_type": "code",
      "source": [
        "# Initialize dictionaries to store the last file info for each city\n",
        "# last_file_info_gtFine = {}\n",
        "# last_file_info_gtFinePano = {}\n",
        "last_file_info_gtBbox = {}\n",
        "\n",
        "def get_last_file_info(city_folders, core_path, file_type):\n",
        "    last_file_info = {}\n",
        "    for subdir, city_list in city_folders.items():\n",
        "        last_file_info[subdir] = {}\n",
        "        for city in city_list:\n",
        "            city_path = os.path.join(core_path, subdir, city)\n",
        "            files = [f for f in os.listdir(city_path) if f.endswith(file_type)]\n",
        "            if files:\n",
        "                sorted_files = sorted(files, key=lambda x: int(x.split('_')[1])) # Sort by frame number\n",
        "                last_file = sorted_files[-1]\n",
        "                parts = last_file.split('_')  # Split the filename\n",
        "                if len(parts) >= 3: # Check if there are at least 3 parts\n",
        "                    frame_number1 = parts[1]\n",
        "                    frame_number2 = parts[2]\n",
        "                    last_file_info[subdir][city] = {\n",
        "                        \"filename\": last_file,\n",
        "                        \"frame_number1\": frame_number1,  # Store the 6-digit string directly\n",
        "                        \"frame_number2\": frame_number2   # Store the 6-digit string directly\n",
        "                    }\n",
        "                else:\n",
        "                    last_file_info[subdir][city] = None # Handle cases where filename format is incorrect.\n",
        "\n",
        "            else:\n",
        "                last_file_info[subdir][city] = None\n",
        "    return last_file_info\n",
        "\n",
        "last_file_info_gtBbox = get_last_file_info(gtBbox_CityFolders, gtBbox_CorePath, '_gtBboxCityPersons.json')\n",
        "\n",
        "print(\"\\nLast file info for gtBbox:\")\n",
        "print(json.dumps(last_file_info_gtBbox, indent=4)) # Use json.dumps for better readability."
      ],
      "metadata": {
        "colab": {
          "base_uri": "https://localhost:8080/"
        },
        "id": "p6s4ZdNk5-td",
        "outputId": "e3e71530-fbfd-4473-e55f-fe0b1d1f5a86"
      },
      "execution_count": null,
      "outputs": [
        {
          "output_type": "stream",
          "name": "stdout",
          "text": [
            "\n",
            "Last file info for gtBbox:\n",
            "{\n",
            "    \"test\": {},\n",
            "    \"val\": {\n",
            "        \"lindau\": {\n",
            "            \"filename\": \"lindau_000058_000019_gtBboxCityPersons.json\",\n",
            "            \"frame_number1\": \"000058\",\n",
            "            \"frame_number2\": \"000019\"\n",
            "        },\n",
            "        \"munster\": {\n",
            "            \"filename\": \"munster_000173_000019_gtBboxCityPersons.json\",\n",
            "            \"frame_number1\": \"000173\",\n",
            "            \"frame_number2\": \"000019\"\n",
            "        },\n",
            "        \"frankfurt\": {\n",
            "            \"filename\": \"frankfurt_000001_023235_gtBboxCityPersons.json\",\n",
            "            \"frame_number1\": \"000001\",\n",
            "            \"frame_number2\": \"023235\"\n",
            "        }\n",
            "    },\n",
            "    \"train\": {\n",
            "        \"stuttgart\": {\n",
            "            \"filename\": \"stuttgart_000195_000019_gtBboxCityPersons.json\",\n",
            "            \"frame_number1\": \"000195\",\n",
            "            \"frame_number2\": \"000019\"\n",
            "        },\n",
            "        \"monchengladbach\": {\n",
            "            \"filename\": \"monchengladbach_000001_001936_gtBboxCityPersons.json\",\n",
            "            \"frame_number1\": \"000001\",\n",
            "            \"frame_number2\": \"001936\"\n",
            "        },\n",
            "        \"zurich\": {\n",
            "            \"filename\": \"zurich_000121_000019_gtBboxCityPersons.json\",\n",
            "            \"frame_number1\": \"000121\",\n",
            "            \"frame_number2\": \"000019\"\n",
            "        },\n",
            "        \"erfurt\": {\n",
            "            \"filename\": \"erfurt_000108_000019_gtBboxCityPersons.json\",\n",
            "            \"frame_number1\": \"000108\",\n",
            "            \"frame_number2\": \"000019\"\n",
            "        },\n",
            "        \"cologne\": {\n",
            "            \"filename\": \"cologne_000153_000019_gtBboxCityPersons.json\",\n",
            "            \"frame_number1\": \"000153\",\n",
            "            \"frame_number2\": \"000019\"\n",
            "        },\n",
            "        \"darmstadt\": {\n",
            "            \"filename\": \"darmstadt_000084_000019_gtBboxCityPersons.json\",\n",
            "            \"frame_number1\": \"000084\",\n",
            "            \"frame_number2\": \"000019\"\n",
            "        },\n",
            "        \"strasbourg\": {\n",
            "            \"filename\": \"strasbourg_000001_010445_gtBboxCityPersons.json\",\n",
            "            \"frame_number1\": \"000001\",\n",
            "            \"frame_number2\": \"010445\"\n",
            "        },\n",
            "        \"bremen\": {\n",
            "            \"filename\": \"bremen_000315_000019_gtBboxCityPersons.json\",\n",
            "            \"frame_number1\": \"000315\",\n",
            "            \"frame_number2\": \"000019\"\n",
            "        },\n",
            "        \"aachen\": {\n",
            "            \"filename\": \"aachen_000173_000019_gtBboxCityPersons.json\",\n",
            "            \"frame_number1\": \"000173\",\n",
            "            \"frame_number2\": \"000019\"\n",
            "        },\n",
            "        \"jena\": {\n",
            "            \"filename\": \"jena_000118_000019_gtBboxCityPersons.json\",\n",
            "            \"frame_number1\": \"000118\",\n",
            "            \"frame_number2\": \"000019\"\n",
            "        },\n",
            "        \"tubingen\": {\n",
            "            \"filename\": \"tubingen_000143_000019_gtBboxCityPersons.json\",\n",
            "            \"frame_number1\": \"000143\",\n",
            "            \"frame_number2\": \"000019\"\n",
            "        },\n",
            "        \"hanover\": {\n",
            "            \"filename\": \"hanover_000000_055592_gtBboxCityPersons.json\",\n",
            "            \"frame_number1\": \"000000\",\n",
            "            \"frame_number2\": \"055592\"\n",
            "        },\n",
            "        \"dusseldorf\": {\n",
            "            \"filename\": \"dusseldorf_000220_000019_gtBboxCityPersons.json\",\n",
            "            \"frame_number1\": \"000220\",\n",
            "            \"frame_number2\": \"000019\"\n",
            "        },\n",
            "        \"krefeld\": {\n",
            "            \"filename\": \"krefeld_000000_028378_gtBboxCityPersons.json\",\n",
            "            \"frame_number1\": \"000000\",\n",
            "            \"frame_number2\": \"028378\"\n",
            "        },\n",
            "        \"hamburg\": {\n",
            "            \"filename\": \"hamburg_000000_063403_gtBboxCityPersons.json\",\n",
            "            \"frame_number1\": \"000000\",\n",
            "            \"frame_number2\": \"063403\"\n",
            "        },\n",
            "        \"weimar\": {\n",
            "            \"filename\": \"weimar_000141_000019_gtBboxCityPersons.json\",\n",
            "            \"frame_number1\": \"000141\",\n",
            "            \"frame_number2\": \"000019\"\n",
            "        },\n",
            "        \"bochum\": {\n",
            "            \"filename\": \"bochum_000000_035958_gtBboxCityPersons.json\",\n",
            "            \"frame_number1\": \"000000\",\n",
            "            \"frame_number2\": \"035958\"\n",
            "        },\n",
            "        \"ulm\": {\n",
            "            \"filename\": \"ulm_000094_000019_gtBboxCityPersons.json\",\n",
            "            \"frame_number1\": \"000094\",\n",
            "            \"frame_number2\": \"000019\"\n",
            "        }\n",
            "    }\n",
            "}\n"
          ]
        }
      ]
    },
    {
      "cell_type": "code",
      "execution_count": null,
      "metadata": {
        "colab": {
          "base_uri": "https://localhost:8080/"
        },
        "id": "M3gc0D3UhjaR",
        "outputId": "281ca7e1-7f04-4f0c-864f-bbe216c200cc"
      },
      "outputs": [
        {
          "output_type": "stream",
          "name": "stdout",
          "text": [
            "   subdir             city                                           filename  \\\n",
            "0     val           lindau        lindau_000058_000019_gtBboxCityPersons.json   \n",
            "1     val          munster       munster_000173_000019_gtBboxCityPersons.json   \n",
            "2     val        frankfurt     frankfurt_000001_023235_gtBboxCityPersons.json   \n",
            "3   train        stuttgart     stuttgart_000195_000019_gtBboxCityPersons.json   \n",
            "4   train  monchengladbach  monchengladbach_000001_001936_gtBboxCityPerson...   \n",
            "5   train           zurich        zurich_000121_000019_gtBboxCityPersons.json   \n",
            "6   train           erfurt        erfurt_000108_000019_gtBboxCityPersons.json   \n",
            "7   train          cologne       cologne_000153_000019_gtBboxCityPersons.json   \n",
            "8   train        darmstadt     darmstadt_000084_000019_gtBboxCityPersons.json   \n",
            "9   train       strasbourg    strasbourg_000001_010445_gtBboxCityPersons.json   \n",
            "10  train           bremen        bremen_000315_000019_gtBboxCityPersons.json   \n",
            "11  train           aachen        aachen_000173_000019_gtBboxCityPersons.json   \n",
            "12  train             jena          jena_000118_000019_gtBboxCityPersons.json   \n",
            "13  train         tubingen      tubingen_000143_000019_gtBboxCityPersons.json   \n",
            "14  train          hanover       hanover_000000_055592_gtBboxCityPersons.json   \n",
            "15  train       dusseldorf    dusseldorf_000220_000019_gtBboxCityPersons.json   \n",
            "16  train          krefeld       krefeld_000000_028378_gtBboxCityPersons.json   \n",
            "17  train          hamburg       hamburg_000000_063403_gtBboxCityPersons.json   \n",
            "18  train           weimar        weimar_000141_000019_gtBboxCityPersons.json   \n",
            "19  train           bochum        bochum_000000_035958_gtBboxCityPersons.json   \n",
            "20  train              ulm           ulm_000094_000019_gtBboxCityPersons.json   \n",
            "\n",
            "   frame_number1 frame_number2 dataset_type  \n",
            "0         000058        000019       gtBbox  \n",
            "1         000173        000019       gtBbox  \n",
            "2         000001        023235       gtBbox  \n",
            "3         000195        000019       gtBbox  \n",
            "4         000001        001936       gtBbox  \n",
            "5         000121        000019       gtBbox  \n",
            "6         000108        000019       gtBbox  \n",
            "7         000153        000019       gtBbox  \n",
            "8         000084        000019       gtBbox  \n",
            "9         000001        010445       gtBbox  \n",
            "10        000315        000019       gtBbox  \n",
            "11        000173        000019       gtBbox  \n",
            "12        000118        000019       gtBbox  \n",
            "13        000143        000019       gtBbox  \n",
            "14        000000        055592       gtBbox  \n",
            "15        000220        000019       gtBbox  \n",
            "16        000000        028378       gtBbox  \n",
            "17        000000        063403       gtBbox  \n",
            "18        000141        000019       gtBbox  \n",
            "19        000000        035958       gtBbox  \n",
            "20        000094        000019       gtBbox  \n"
          ]
        }
      ],
      "source": [
        "# Panda dataframe convert function\n",
        "def create_dataframe_from_last_file_info(last_file_info, dataset_type):\n",
        "    data = []\n",
        "    for subdir, city_data in last_file_info.items():\n",
        "        for city, file_info in city_data.items():\n",
        "            if file_info:  # Skip cities where no files were found\n",
        "                data.append({\n",
        "                    \"subdir\": subdir,\n",
        "                    \"city\": city,\n",
        "                    \"filename\": file_info[\"filename\"],\n",
        "                    \"frame_number1\": file_info[\"frame_number1\"],\n",
        "                    \"frame_number2\": file_info[\"frame_number2\"],\n",
        "                    \"dataset_type\": dataset_type  # Add the dataset type\n",
        "                })\n",
        "    return pd.DataFrame(data)\n",
        "\n",
        "# Create DataFrames\n",
        "#df_gtFine = create_dataframe_from_last_file_info(last_file_info_gtFine, \"gtFine\")\n",
        "#df_gtFinePano = create_dataframe_from_last_file_info(last_file_info_gtFinePano, \"gtFinePano\")\n",
        "last_file_info_df_gtBbox = create_dataframe_from_last_file_info(last_file_info_gtBbox, \"gtBbox\")\n",
        "\n",
        "# # Concatenate all dataframes into a single dataframe (optional)\n",
        "# all_dfs = [df_gtFine, df_gtFinePano, df_gtBbox]\n",
        "# df_all = pd.concat(all_dfs, ignore_index=True) #ignore_index=True prevents duplicate index\n",
        "\n",
        "# Display the DataFrames\n",
        "# print(\"gtFine DataFrame:\")\n",
        "# print(df_gtFine)\n",
        "\n",
        "# print(\"\\ngtFinePano DataFrame:\")\n",
        "# print(df_gtFinePano)\n",
        "\n",
        "# print(\"\\ngtBbox DataFrame:\")\n",
        "print(last_file_info_df_gtBbox)\n",
        "\n",
        "# print(\"\\nAll DataFrames (Concatenated):\")\n",
        "# print(df_all)\n",
        "\n",
        "# Example of saving to CSV:\n",
        "# df_all.to_csv(\"last_file_info.csv\", index=False)  # Save all info to one csv\n",
        "# df_gtFine.to_csv(\"last_gtFine_info.csv\", index=False) # Or separate csv files\n",
        "# df_gtFinePano.to_csv(\"last_gtFinePano_info.csv\", index=False)\n",
        "last_file_info_df_gtBbox.to_csv(\"last_gtBbox_info.csv\", index=False)"
      ]
    },
    {
      "cell_type": "markdown",
      "metadata": {
        "id": "7Cf3kyPeorwZ"
      },
      "source": [
        "### gtBbox dataset cleaning"
      ]
    },
    {
      "cell_type": "markdown",
      "metadata": {
        "id": "2GpfjB9ehOOj"
      },
      "source": [
        "##### All json files which contain all labels (classes)"
      ]
    },
    {
      "cell_type": "code",
      "execution_count": null,
      "metadata": {
        "collapsed": true,
        "id": "qwwBJtUgcImE"
      },
      "outputs": [],
      "source": [
        "# Define the required labels to filter them\n",
        "required_labels = {\"pedestrian\", \"ignore\", \"rider\", \"sitting person\", \"person (other)\", \"person group\"}\n",
        "\n",
        "# Initialize a list to store filtered file names\n",
        "filtered_json_files = []\n",
        "\n",
        "# Process each subdirectory (train, val, test)\n",
        "for subdir in os.listdir(gtBbox_CorePath):\n",
        "    subdir_path = os.path.join(gtBbox_CorePath, subdir)\n",
        "\n",
        "    if not os.path.isdir(subdir_path):\n",
        "        continue  # Skip if it's not a directory\n",
        "\n",
        "    for city in os.listdir(subdir_path):\n",
        "        city_path = os.path.join(subdir_path, city)\n",
        "\n",
        "        if not os.path.isdir(city_path):\n",
        "            continue\n",
        "\n",
        "        for file in os.listdir(city_path):\n",
        "            if file.endswith(\"_gtBboxCityPersons.json\"):\n",
        "                file_path = os.path.join(city_path, file)\n",
        "\n",
        "                with open(file_path, \"r\") as json_file:\n",
        "                    data = json.load(json_file)\n",
        "\n",
        "                    # Extract all labels in the current file\n",
        "                    file_labels = {obj[\"label\"] for obj in data.get(\"objects\", [])}\n",
        "\n",
        "                    # Check if all required labels are present\n",
        "                    if required_labels.issubset(file_labels):\n",
        "                        filtered_json_files.append(file_path)\n",
        "\n",
        "# Output filtered JSON files\n",
        "#filtered_json_files"
      ]
    },
    {
      "cell_type": "code",
      "execution_count": null,
      "metadata": {
        "colab": {
          "base_uri": "https://localhost:8080/"
        },
        "id": "Gc_Cg3OphghB",
        "outputId": "54abb24f-3a59-48ac-82ec-92d08c0688c2"
      },
      "outputs": [
        {
          "output_type": "stream",
          "name": "stdout",
          "text": [
            "            Class  Count\n",
            "0      pedestrian    454\n",
            "1  sitting person     81\n",
            "2  person (other)     34\n",
            "3           rider     36\n",
            "4          ignore    100\n",
            "5    person group     88\n"
          ]
        }
      ],
      "source": [
        "# Function to show the distribution of each class\n",
        "def analyze_class_distribution(json_files):\n",
        "    class_counts = Counter()\n",
        "    for file in json_files:\n",
        "        with open(file, 'r') as f:\n",
        "            data = json.load(f)\n",
        "        for obj in data['objects']:\n",
        "            class_counts[obj['label']] += 1\n",
        "    return class_counts\n",
        "\n",
        "# Call class distribution function\n",
        "gtBbox_class_distribution = analyze_class_distribution(filtered_json_files)\n",
        "print(pd.DataFrame(gtBbox_class_distribution.items(), columns=[\"Class\", \"Count\"]))"
      ]
    },
    {
      "cell_type": "markdown",
      "metadata": {
        "id": "diCPt0Jbhbfa"
      },
      "source": [
        "#### All json files which contains more than one unique label (class)"
      ]
    },
    {
      "cell_type": "code",
      "execution_count": null,
      "metadata": {
        "collapsed": true,
        "id": "tJfwo7bVdRPz"
      },
      "outputs": [],
      "source": [
        "filterd_json_files_MoreThanOneLabels = []\n",
        "\n",
        "# Process each subdirectory (train, val, test)\n",
        "for subdir in os.listdir(gtBbox_CorePath):\n",
        "    subdir_path = os.path.join(gtBbox_CorePath, subdir)\n",
        "\n",
        "    if not os.path.isdir(subdir_path):\n",
        "        continue  # Skip if not a directory\n",
        "\n",
        "    for city in os.listdir(subdir_path):\n",
        "        city_path = os.path.join(subdir_path, city)\n",
        "\n",
        "        if not os.path.isdir(city_path):\n",
        "            continue\n",
        "\n",
        "        for file in os.listdir(city_path):\n",
        "            if file.endswith(\"_gtBboxCityPersons.json\"):\n",
        "                file_path = os.path.join(city_path, file)\n",
        "\n",
        "                with open(file_path, \"r\") as json_file:\n",
        "                    data = json.load(json_file)\n",
        "\n",
        "                    # Extract unique labels in the file\n",
        "                    file_labels = {obj[\"label\"] for obj in data.get(\"objects\", [])}\n",
        "\n",
        "                    # Check if more than one unique label exists\n",
        "                    if len(file_labels) > 1:\n",
        "                        filterd_json_files_MoreThanOneLabels.append(file_path)\n",
        "\n",
        "# Output filtered JSON files\n",
        "#filterd_json_files_MoreThanOneLabels"
      ]
    },
    {
      "cell_type": "code",
      "execution_count": null,
      "metadata": {
        "colab": {
          "base_uri": "https://localhost:8080/"
        },
        "id": "ANdG4whmdTcG",
        "outputId": "68232326-3ffe-49e8-8003-f2badfccfaba"
      },
      "outputs": [
        {
          "output_type": "stream",
          "name": "stdout",
          "text": [
            "            Class  Count\n",
            "0      pedestrian  18586\n",
            "1          ignore   7637\n",
            "2           rider   2111\n",
            "3    person group   1569\n",
            "4  sitting person   1209\n",
            "5  person (other)    502\n"
          ]
        }
      ],
      "source": [
        "# Call class distribution function\n",
        "gtBbox_class_distribution = analyze_class_distribution(filterd_json_files_MoreThanOneLabels)\n",
        "print(pd.DataFrame(gtBbox_class_distribution.items(), columns=[\"Class\", \"Count\"]))"
      ]
    },
    {
      "cell_type": "code",
      "execution_count": null,
      "metadata": {
        "colab": {
          "base_uri": "https://localhost:8080/"
        },
        "id": "Z72CZvI8sdbA",
        "outputId": "8b08f8de-8c03-4007-9bd6-7caf77d832ee"
      },
      "outputs": [
        {
          "output_type": "stream",
          "name": "stdout",
          "text": [
            "\n",
            "File Type Distribution in gtBboxCityPersons Dataset:\n",
            "  File Type  Count\n",
            "0     .json   3475\n"
          ]
        }
      ],
      "source": [
        "# Count the distribution of file types in a given directory\n",
        "def count_file_types(directory):\n",
        "    if not os.path.exists(directory):\n",
        "      print(f\"Error: Directory '{directory}' not found.\")\n",
        "      return None\n",
        "\n",
        "    file_type_counts = Counter()\n",
        "    for root, _, files in os.walk(directory):\n",
        "        for file in files:\n",
        "            ext = os.path.splitext(file)[-1].lower()\n",
        "            file_type_counts[ext] += 1\n",
        "    return file_type_counts\n",
        "\n",
        "# Analyze file type distribution for gtBboxCityPersons dataset\n",
        "print(\"\\nFile Type Distribution in gtBboxCityPersons Dataset:\")\n",
        "gtBbox_file_types = count_file_types(gtBbox_CorePath)\n",
        "print(pd.DataFrame(gtBbox_file_types.items(), columns=[\"File Type\", \"Count\"]))"
      ]
    },
    {
      "cell_type": "markdown",
      "metadata": {
        "id": "TtkM7BVqhosb"
      },
      "source": [
        "#### Remove json files which contain just \"pedestrian\", \"ignore\" labels (classes)"
      ]
    },
    {
      "cell_type": "code",
      "execution_count": null,
      "metadata": {
        "collapsed": true,
        "id": "fIAWUMs4th7K"
      },
      "outputs": [],
      "source": [
        "# Define the specific labels we want to check for removal\n",
        "target_labels = {\"pedestrian\", \"ignore\"}\n",
        "gtBbox_removed_json_files = 0\n",
        "\n",
        "# Iterate through subdirectories (train, val, test)\n",
        "for subdir in os.listdir(gtBbox_CorePath):\n",
        "    subdir_path = os.path.join(gtBbox_CorePath, subdir)\n",
        "\n",
        "    if not os.path.isdir(subdir_path):\n",
        "        continue  # Skip if not a directory\n",
        "\n",
        "    for city in os.listdir(subdir_path):\n",
        "        city_path = os.path.join(subdir_path, city)\n",
        "\n",
        "        if not os.path.isdir(city_path):\n",
        "            continue\n",
        "\n",
        "        for file in os.listdir(city_path):\n",
        "            if file.endswith(\"_gtBboxCityPersons.json\"):\n",
        "                file_path = os.path.join(city_path, file)\n",
        "\n",
        "                with open(file_path, \"r\") as json_file:\n",
        "                    data = json.load(json_file)\n",
        "\n",
        "                    # Extract unique labels in the file\n",
        "                    file_labels = {obj[\"label\"] for obj in data.get(\"objects\", [])}\n",
        "\n",
        "                    # Check if the file contains only \"pedestrian\" and \"ignore\"\n",
        "                    if file_labels == target_labels:\n",
        "                        os.remove(file_path)  # Remove the JSON file\n",
        "                        gtBbox_removed_json_files += 1\n",
        "                        #print(f\"Removed: {file_path}\")"
      ]
    },
    {
      "cell_type": "code",
      "execution_count": null,
      "metadata": {
        "colab": {
          "base_uri": "https://localhost:8080/"
        },
        "id": "PkzxWz-reGE_",
        "outputId": "75c790ea-2005-4ac9-86ba-e24ffc0101ee"
      },
      "outputs": [
        {
          "output_type": "stream",
          "name": "stdout",
          "text": [
            "The number of removed json files: 784\n"
          ]
        }
      ],
      "source": [
        "# Show the number of removed files\n",
        "print(f'The number of removed json files: {gtBbox_removed_json_files}')"
      ]
    },
    {
      "cell_type": "code",
      "execution_count": null,
      "metadata": {
        "collapsed": true,
        "id": "-biaAYhM_WFz"
      },
      "outputs": [],
      "source": [
        "Removed_json_files = []\n",
        "Removed_json_files_MoreThanOneLabels = []\n",
        "\n",
        "# Process each subdirectory (train, val, test)\n",
        "for subdir in os.listdir(gtBbox_CorePath):\n",
        "    subdir_path = os.path.join(gtBbox_CorePath, subdir)\n",
        "\n",
        "    if not os.path.isdir(subdir_path):\n",
        "        continue  # Skip if not a directory\n",
        "\n",
        "    for city in os.listdir(subdir_path):\n",
        "        city_path = os.path.join(subdir_path, city)\n",
        "\n",
        "        if not os.path.isdir(city_path):\n",
        "            continue\n",
        "\n",
        "        for file in os.listdir(city_path):\n",
        "            if file.endswith(\"_gtBboxCityPersons.json\"):\n",
        "                file_path = os.path.join(city_path, file)\n",
        "\n",
        "                with open(file_path, \"r\") as json_file:\n",
        "                    data = json.load(json_file)\n",
        "                    Removed_json_files.append(file_path)\n",
        "\n",
        "                    # Extract unique labels in the file\n",
        "                    file_labels = {obj[\"label\"] for obj in data.get(\"objects\", [])}\n",
        "\n",
        "                    # Check if more than one unique label exists\n",
        "                    if len(file_labels) > 1:\n",
        "                        Removed_json_files_MoreThanOneLabels.append(file_path)\n",
        "\n",
        "# # Output removed json files from gtBbox\n",
        "# Removed_json_files\n",
        "# # Output removed json files with MoreThanOneLabels filter\n",
        "# Removed_json_files_MoreThanOneLabels"
      ]
    },
    {
      "cell_type": "code",
      "execution_count": null,
      "metadata": {
        "colab": {
          "base_uri": "https://localhost:8080/"
        },
        "id": "MckrbJgTuTtt",
        "outputId": "77a17845-af42-4351-c924-ba048904c746"
      },
      "outputs": [
        {
          "output_type": "stream",
          "name": "stdout",
          "text": [
            "\n",
            "File Type Distribution in gtBboxCityPersons Dataset:\n",
            "  File Type  Count\n",
            "0     .json   2691\n"
          ]
        }
      ],
      "source": [
        "# Analyze file type distribution for gtBboxCityPersons dataset\n",
        "print(\"\\nFile Type Distribution in gtBboxCityPersons Dataset:\")\n",
        "gtBbox_file_types = count_file_types(gtBbox_CorePath)\n",
        "print(pd.DataFrame(gtBbox_file_types.items(), columns=[\"File Type\", \"Count\"]))"
      ]
    },
    {
      "cell_type": "code",
      "execution_count": null,
      "metadata": {
        "colab": {
          "base_uri": "https://localhost:8080/"
        },
        "id": "_WoC46Z7-AmU",
        "outputId": "d797a1b4-1356-4644-826e-17fa43981335"
      },
      "outputs": [
        {
          "output_type": "stream",
          "name": "stdout",
          "text": [
            "            Class  Count\n",
            "0          ignore   6040\n",
            "1      pedestrian  16354\n",
            "2           rider   2189\n",
            "3    person group   1573\n",
            "4  sitting person   1217\n",
            "5  person (other)    504\n",
            "\n",
            "\n",
            "            Class  Count\n",
            "0           rider   2111\n",
            "1          ignore   5278\n",
            "2      pedestrian  15257\n",
            "3    person group   1569\n",
            "4  sitting person   1209\n",
            "5  person (other)    502\n"
          ]
        }
      ],
      "source": [
        "# Check class distribution for gtBbox after cleaning for \"Removed_json_files\" list\n",
        "gtBbox_class_distribution = analyze_class_distribution(Removed_json_files)\n",
        "print(pd.DataFrame(gtBbox_class_distribution.items(), columns=[\"Class\", \"Count\"]))\n",
        "\n",
        "print(\"\\n\")\n",
        "\n",
        "# Check class distribution for gtBbox after cleaning for \"Removed_json_files_MoreThanOneLabels\" list\n",
        "gtBbox_class_distribution = analyze_class_distribution(Removed_json_files_MoreThanOneLabels)\n",
        "print(pd.DataFrame(gtBbox_class_distribution.items(), columns=[\"Class\", \"Count\"]))"
      ]
    },
    {
      "cell_type": "markdown",
      "metadata": {
        "id": "TCiJEZxOquUH"
      },
      "source": [
        "#### Replace all \"pedestrian\" labels with \"ignore\" in all json files"
      ]
    },
    {
      "cell_type": "code",
      "execution_count": null,
      "metadata": {
        "collapsed": true,
        "id": "Q_amfxrdgQv0"
      },
      "outputs": [],
      "source": [
        "# Iterate through subdirectories (train, val, test)\n",
        "for subdir in os.listdir(gtBbox_CorePath):\n",
        "    subdir_path = os.path.join(gtBbox_CorePath, subdir)\n",
        "\n",
        "    if not os.path.isdir(subdir_path):\n",
        "        continue  # Skip if not a directory\n",
        "\n",
        "    for city in os.listdir(subdir_path):\n",
        "        city_path = os.path.join(subdir_path, city)\n",
        "\n",
        "        if not os.path.isdir(city_path):\n",
        "            continue\n",
        "\n",
        "        for file in os.listdir(city_path):\n",
        "            if file.endswith(\"_gtBboxCityPersons.json\"):\n",
        "                file_path = os.path.join(city_path, file)\n",
        "\n",
        "                # Read JSON file\n",
        "                with open(file_path, \"r\") as json_file:\n",
        "                    data = json.load(json_file)\n",
        "\n",
        "                # Modify labels in-place\n",
        "                modified = False\n",
        "                for obj in data.get(\"objects\", []):\n",
        "                    if obj[\"label\"] == \"pedestrian\":\n",
        "                        obj[\"label\"] = \"ignore\"\n",
        "                        modified = True\n",
        "\n",
        "                # Write the updated JSON file if any modification was made\n",
        "                if modified:\n",
        "                    with open(file_path, \"w\") as json_file:\n",
        "                        json.dump(data, json_file, indent=4)\n",
        "                    # print(f\"Updated: {file_path}\")"
      ]
    },
    {
      "cell_type": "code",
      "execution_count": null,
      "metadata": {
        "collapsed": true,
        "id": "83ppMKyyjOEd"
      },
      "outputs": [],
      "source": [
        "# Create a list of all JSON files from gtBbox\n",
        "def get_json_files(directory):\n",
        "    json_files = []\n",
        "    for root, dirs, files in os.walk(directory):\n",
        "        for file in files:\n",
        "            if file.endswith('.json'):\n",
        "                json_files.append(os.path.join(root, file))\n",
        "    return json_files\n",
        "\n",
        "NoPedestrain_json_files = get_json_files(gtBbox_CorePath)\n",
        "#NoPedestrain_json_files"
      ]
    },
    {
      "cell_type": "code",
      "execution_count": null,
      "metadata": {
        "colab": {
          "base_uri": "https://localhost:8080/"
        },
        "collapsed": true,
        "id": "2HljH5T1kK75",
        "outputId": "895084d0-24aa-48d2-e200-3bc229f4bcd0"
      },
      "outputs": [
        {
          "output_type": "stream",
          "name": "stdout",
          "text": [
            "            Class  Count\n",
            "0          ignore  22394\n",
            "1           rider   2189\n",
            "2    person group   1573\n",
            "3  sitting person   1217\n",
            "4  person (other)    504\n"
          ]
        }
      ],
      "source": [
        "# Call class distribution function\n",
        "gtBbox_class_distribution = analyze_class_distribution(NoPedestrain_json_files)\n",
        "print(pd.DataFrame(gtBbox_class_distribution.items(), columns=[\"Class\", \"Count\"]))"
      ]
    },
    {
      "cell_type": "code",
      "execution_count": null,
      "metadata": {
        "colab": {
          "base_uri": "https://localhost:8080/"
        },
        "id": "agRcIwpUBUYK",
        "outputId": "db528849-e7d1-44b0-a508-6a0030fda946"
      },
      "outputs": [
        {
          "output_type": "stream",
          "name": "stdout",
          "text": [
            "Dataset zipped successfully: /content/filtered_cityperson_dataset.zip\n"
          ]
        }
      ],
      "source": [
        "# Define output ZIP file path\n",
        "output_zip_path = \"/content/filtered_cityperson_dataset.zip\"\n",
        "\n",
        "# Function to zip the dataset\n",
        "def zip_dataset(folder_path, output_path):\n",
        "    shutil.make_archive(output_path.replace(\".zip\", \"\"), 'zip', folder_path)\n",
        "    print(f\"Dataset zipped successfully: {output_path}\")\n",
        "\n",
        "# Zip the dataset\n",
        "zip_dataset(gtBbox_CorePath, output_zip_path)\n",
        "\n",
        "# # If running in Colab, provide a download link\n",
        "# try:\n",
        "#     from google.colab import files\n",
        "#     files.download(output_zip_path)\n",
        "#     print(\"Download started...\")\n",
        "# except ImportError:\n",
        "#     print(f\"Dataset saved at: {output_zip_path}\")"
      ]
    },
    {
      "cell_type": "markdown",
      "metadata": {
        "id": "OclG6NFIyAD7"
      },
      "source": [
        "### gtFine Dataset cleaning"
      ]
    },
    {
      "cell_type": "markdown",
      "metadata": {
        "id": "qWMtpSnTy0zx"
      },
      "source": [
        "Remove all json files in gtFine dataset"
      ]
    },
    {
      "cell_type": "code",
      "execution_count": null,
      "metadata": {
        "colab": {
          "base_uri": "https://localhost:8080/"
        },
        "id": "qzQlXyNG1pMB",
        "outputId": "bb4ca582-5ca6-4c40-96d0-4e29e6a8cc54"
      },
      "outputs": [
        {
          "output_type": "stream",
          "name": "stdout",
          "text": [
            "\n",
            "File type distribution in gtFine dataset bevfore removing json files:\n",
            "  File Type  Count\n",
            "0      .png  15000\n",
            "1     .json   5000\n"
          ]
        }
      ],
      "source": [
        "# Analyze file type distribution for gtBboxCityPersons dataset\n",
        "print(\"\\nFile type distribution in gtFine dataset bevfore removing json files:\")\n",
        "gtBbox_file_types = count_file_types(gtFine_CorePath)\n",
        "print(pd.DataFrame(gtBbox_file_types.items(), columns=[\"File Type\", \"Count\"]))"
      ]
    },
    {
      "cell_type": "code",
      "execution_count": null,
      "metadata": {
        "collapsed": true,
        "id": "usxAotKSyx6S"
      },
      "outputs": [],
      "source": [
        "gtFine_removed_json_files = 0\n",
        "\n",
        "# Iterate through subdirectories (train, val, test)\n",
        "for subdir in os.listdir(gtFine_CorePath):\n",
        "    subdir_path = os.path.join(gtFine_CorePath, subdir)\n",
        "\n",
        "    if not os.path.isdir(subdir_path):\n",
        "        continue  # Skip if not a directory\n",
        "\n",
        "    for city in os.listdir(subdir_path):\n",
        "        city_path = os.path.join(subdir_path, city)\n",
        "\n",
        "        if not os.path.isdir(city_path):\n",
        "            continue\n",
        "\n",
        "        for file in os.listdir(city_path):\n",
        "            if file.endswith(\".json\"):  # Remove all JSON files\n",
        "                file_path = os.path.join(city_path, file)\n",
        "                os.remove(file_path)\n",
        "                gtFine_removed_json_files += 1\n",
        "                # print(f\"Removed: {file_path}\")"
      ]
    },
    {
      "cell_type": "code",
      "execution_count": null,
      "metadata": {
        "colab": {
          "base_uri": "https://localhost:8080/"
        },
        "id": "OMVcbG0apjTb",
        "outputId": "51740c28-05bc-4542-caad-53d80d7bf187"
      },
      "outputs": [
        {
          "output_type": "stream",
          "name": "stdout",
          "text": [
            "The number of json files removed from gtFine dataset: 5000\n"
          ]
        }
      ],
      "source": [
        "# Print the number of removed json files\n",
        "print(f'The number of json files removed from gtFine dataset: {gtFine_removed_json_files}')"
      ]
    },
    {
      "cell_type": "code",
      "execution_count": null,
      "metadata": {
        "id": "ycqDeCGd0MIp"
      },
      "outputs": [],
      "source": [
        "# List remaining files after JSON removal\n",
        "def list_remaining_files(base_path):\n",
        "    dataset_structure = {}\n",
        "\n",
        "    for subdir in os.listdir(base_path):\n",
        "        subdir_path = os.path.join(base_path, subdir)\n",
        "\n",
        "        if not os.path.isdir(subdir_path):\n",
        "            continue  # Skip if not a directory\n",
        "\n",
        "        dataset_structure[subdir] = {}\n",
        "\n",
        "        for city in os.listdir(subdir_path):\n",
        "            city_path = os.path.join(subdir_path, city)\n",
        "\n",
        "            if not os.path.isdir(city_path):\n",
        "                continue\n",
        "\n",
        "            # List remaining files in the city folder\n",
        "            remaining_files = [f for f in os.listdir(city_path) if not f.endswith(\".json\")]\n",
        "            dataset_structure[subdir][city] = remaining_files\n",
        "\n",
        "    return dataset_structure\n",
        "\n",
        "# Get the dataset structure after JSON removal\n",
        "gtFineDS_jsonRemoved = list_remaining_files(gtFine_CorePath)\n",
        "\n",
        "# Print the structure\n",
        "# print(json.dumps(gtFineDS_jsonRemoved, indent=4))"
      ]
    },
    {
      "cell_type": "code",
      "execution_count": null,
      "metadata": {
        "colab": {
          "base_uri": "https://localhost:8080/"
        },
        "id": "WLnyBjFp1cGS",
        "outputId": "006f93bf-2e9a-4236-efd0-c06f262c63d0"
      },
      "outputs": [
        {
          "output_type": "stream",
          "name": "stdout",
          "text": [
            "\n",
            "File type distribution in gtFine dataset after removing json files:\n",
            "  File Type  Count\n",
            "0      .png  15000\n"
          ]
        }
      ],
      "source": [
        "# Analyze file type distribution for gtBboxCityPersons dataset\n",
        "print(\"\\nFile type distribution in gtFine dataset after removing json files:\")\n",
        "gtBbox_file_types = count_file_types(gtFine_CorePath)\n",
        "print(pd.DataFrame(gtBbox_file_types.items(), columns=[\"File Type\", \"Count\"]))"
      ]
    },
    {
      "cell_type": "markdown",
      "metadata": {
        "id": "BxEmQO4i2LDx"
      },
      "source": [
        "### gtFinePanopticParts dataset"
      ]
    },
    {
      "cell_type": "code",
      "execution_count": null,
      "metadata": {
        "colab": {
          "base_uri": "https://localhost:8080/"
        },
        "id": "uvYCZlet2KUj",
        "outputId": "a5333127-2a13-4618-f86f-abeb36f63bce"
      },
      "outputs": [
        {
          "output_type": "stream",
          "name": "stdout",
          "text": [
            "\n",
            "File type distribution in gtFine dataset after removing json files:\n",
            "  File Type  Count\n",
            "0      .tif   3475\n"
          ]
        }
      ],
      "source": [
        "# Analyze file type distribution for gtFinePanopticParts dataset\n",
        "print(\"\\nFile type distribution in gtFine dataset after removing json files:\")\n",
        "gtBbox_file_types = count_file_types(gtFinePano_CorePath)\n",
        "print(pd.DataFrame(gtBbox_file_types.items(), columns=[\"File Type\", \"Count\"]))"
      ]
    },
    {
      "cell_type": "markdown",
      "metadata": {
        "id": "0XHbXaGWUly3"
      },
      "source": [
        "### Syncronizing Datasets\n"
      ]
    },
    {
      "cell_type": "code",
      "execution_count": null,
      "metadata": {
        "collapsed": true,
        "id": "FzrFfOqnM3UW"
      },
      "outputs": [],
      "source": [
        "#############################################\n",
        "# # Define dataset paths\n",
        "# gtFine_Final_CorePath = gtFine_CorePath  # .png files\n",
        "# gtFinePano_Final_CorePath = gtFinePano_CorePath  # .tif files\n",
        "# gtBbox_Final_CorePath = gtBbox_CorePath  # Reference dataset"
      ]
    },
    {
      "cell_type": "markdown",
      "metadata": {
        "id": "mDbAcEbt4nxv"
      },
      "source": [
        "Removing \"test\" directory from each dataset if it excits."
      ]
    },
    {
      "cell_type": "code",
      "execution_count": null,
      "metadata": {
        "colab": {
          "base_uri": "https://localhost:8080/"
        },
        "id": "JmZXqV8F8fXj",
        "outputId": "9ff3ad13-f6ab-473d-b5fb-bca81589781e"
      },
      "outputs": [
        {
          "output_type": "stream",
          "name": "stdout",
          "text": [
            "Removed test folder: /content/CityPersonDataset/gtFine_trainvaltest/gtFine/test\n"
          ]
        }
      ],
      "source": [
        "# Remove \"test\" folder if it exists in each dataset\n",
        "for dataset_path in [gtFine_CorePath, gtFinePano_CorePath, gtBbox_CorePath]:\n",
        "    test_folder_path = os.path.join(dataset_path, \"test\")\n",
        "    if os.path.exists(test_folder_path) and os.path.isdir(test_folder_path):\n",
        "        for root, dirs, files in os.walk(test_folder_path, topdown=False):\n",
        "            for file in files:\n",
        "                os.remove(os.path.join(root, file))\n",
        "            for dir in dirs:\n",
        "                os.rmdir(os.path.join(root, dir))\n",
        "        os.rmdir(test_folder_path)\n",
        "        print(f\"Removed test folder: {test_folder_path}\")"
      ]
    },
    {
      "cell_type": "code",
      "execution_count": null,
      "metadata": {
        "colab": {
          "base_uri": "https://localhost:8080/"
        },
        "id": "ecCnU-Tg4MYC",
        "outputId": "36c2531b-d78c-4d38-b5c0-83e49ca0e58c"
      },
      "outputs": [
        {
          "output_type": "stream",
          "name": "stdout",
          "text": [
            "\n",
            "File type distribution in gtFine dataset after removing json files:\n",
            "  File Type  Count\n",
            "0      .png  10425\n",
            "\n",
            "File type distribution in gtFine dataset after removing json files:\n",
            "  File Type  Count\n",
            "0      .tif   3475\n",
            "\n",
            "File type distribution in gtFine dataset after removing json files:\n",
            "  File Type  Count\n",
            "0     .json   2691\n"
          ]
        }
      ],
      "source": [
        "# Analyze file type distribution for gtFinePanopticParts dataset\n",
        "print(\"\\nFile type distribution in gtFine dataset after removing json files:\")\n",
        "gtBbox_file_types = count_file_types(gtFine_CorePath)\n",
        "print(pd.DataFrame(gtBbox_file_types.items(), columns=[\"File Type\", \"Count\"]))\n",
        "\n",
        "# Analyze file type distribution for gtFinePanopticParts dataset\n",
        "print(\"\\nFile type distribution in gtFine dataset after removing json files:\")\n",
        "gtBbox_file_types = count_file_types(gtFinePano_CorePath)\n",
        "print(pd.DataFrame(gtBbox_file_types.items(), columns=[\"File Type\", \"Count\"]))\n",
        "\n",
        "# Analyze file type distribution for gtFinePanopticParts dataset\n",
        "print(\"\\nFile type distribution in gtFine dataset after removing json files:\")\n",
        "gtBbox_file_types = count_file_types(gtBbox_CorePath)\n",
        "print(pd.DataFrame(gtBbox_file_types.items(), columns=[\"File Type\", \"Count\"]))"
      ]
    },
    {
      "cell_type": "markdown",
      "metadata": {
        "id": "oK5TC55s4wl5"
      },
      "source": [
        "Removing unmatched files in all datasets"
      ]
    },
    {
      "cell_type": "code",
      "execution_count": null,
      "metadata": {
        "collapsed": true,
        "id": "QaP8Lqcjeved"
      },
      "outputs": [],
      "source": [
        "# Iterate through subdirectories (train, val, test)\n",
        "for subdir in os.listdir(gtBbox_CorePath):\n",
        "    gtBbox_subdir_path = os.path.join(gtBbox_CorePath, subdir)\n",
        "    gtFine_subdir_path = os.path.join(gtFine_CorePath, subdir)\n",
        "    gtFinePano_subdir_path = os.path.join(gtFinePano_CorePath, subdir)\n",
        "\n",
        "    if not os.path.isdir(gtBbox_subdir_path):\n",
        "        continue  # Skip if not a directory\n",
        "\n",
        "    for city in os.listdir(gtBbox_subdir_path):\n",
        "        gtBbox_city_path = os.path.join(gtBbox_subdir_path, city)\n",
        "        gtFine_city_path = os.path.join(gtFine_subdir_path, city)\n",
        "        gtFinePano_city_path = os.path.join(gtFinePano_subdir_path, city)\n",
        "\n",
        "        if not os.path.isdir(gtBbox_city_path):\n",
        "            continue  # Skip if not a directory\n",
        "\n",
        "        # Get reference file names (first part before '_') from gtBbox\n",
        "        gtBbox_files = {\"_\".join(f.split(\"_\")[:3]) for f in os.listdir(gtBbox_city_path)}\n",
        "\n",
        "        # Remove unmatched files from gtFine (.png format)\n",
        "        if os.path.exists(gtFine_city_path):\n",
        "            for file in os.listdir(gtFine_city_path):\n",
        "                file_prefix = \"_\".join(file.split(\"_\")[:3])  # Extract city name and frame number\n",
        "                if file_prefix not in gtBbox_files:\n",
        "                    os.remove(os.path.join(gtFine_city_path, file))\n",
        "                    # print(f\"Removed: {os.path.join(gtFine_city_path, file)}\")\n",
        "\n",
        "        # Remove unmatched files from gtFinePano (.tif format)\n",
        "        if os.path.exists(gtFinePano_city_path):\n",
        "            for file in os.listdir(gtFinePano_city_path):\n",
        "                file_prefix = \"_\".join(file.split(\"_\")[:3])  # Extract city name and frame number\n",
        "                if file_prefix not in gtBbox_files:\n",
        "                    os.remove(os.path.join(gtFinePano_city_path, file))\n",
        "                    # print(f\"Removed: {os.path.join(gtFinePano_city_path, file)}\")"
      ]
    },
    {
      "cell_type": "code",
      "execution_count": null,
      "metadata": {
        "colab": {
          "base_uri": "https://localhost:8080/"
        },
        "id": "eCjL4SZXXHh4",
        "outputId": "cf8fb9a1-163e-49e6-f4fa-7258315e8190"
      },
      "outputs": [
        {
          "output_type": "stream",
          "name": "stdout",
          "text": [
            "Dataset zipped successfully: /content/filtered_gtBbox.zip\n",
            "Dataset zipped successfully: /content/filtered_gtFine.zip\n",
            "Dataset zipped successfully: /content/filtered_gtFinePano.zip\n"
          ]
        }
      ],
      "source": [
        "from google.colab import files\n",
        "\n",
        "# Define output ZIP file path\n",
        "output_zip_path_gtBbox = \"/content/filtered_gtBbox.zip\"\n",
        "output_zip_path_gtFine = \"/content/filtered_gtFine.zip\"\n",
        "output_zip_path_gtFinePano = \"/content/filtered_gtFinePano.zip\"\n",
        "\n",
        "# Function to zip the dataset\n",
        "def zip_dataset(folder_path, output_path):\n",
        "    shutil.make_archive(output_path.replace(\".zip\", \"\"), 'zip', folder_path)\n",
        "    print(f\"Dataset zipped successfully: {output_path}\")\n",
        "\n",
        "# Zip the dataset\n",
        "zip_dataset(gtBbox_CorePath, output_zip_path_gtBbox)\n",
        "# If running in Colab, provide a download link\n",
        "# try:\n",
        "#     files.download(output_zip_path_gtBbox)\n",
        "#     print(\"Download started...\")\n",
        "# except ImportError:\n",
        "#     print(f\"Dataset saved at: {output_zip_path_gtBbox}\")\n",
        "\n",
        "zip_dataset(gtFine_CorePath, output_zip_path_gtFine)\n",
        "# If running in Colab, provide a download link\n",
        "# try:\n",
        "#     files.download(output_zip_path_gtFine)\n",
        "#     print(\"Download started...\")\n",
        "# except ImportError:\n",
        "#     print(f\"Dataset saved at: {output_zip_path_gtFine}\")\n",
        "\n",
        "zip_dataset(gtFinePano_CorePath, output_zip_path_gtFinePano)\n",
        "# If running in Colab, provide a download link\n",
        "# try:\n",
        "#     files.download(output_zip_path_gtFinePano)\n",
        "#     print(\"Download started...\")\n",
        "# except ImportError:\n",
        "#     print(f\"Dataset saved at: {output_zip_path_gtFinePano}\")"
      ]
    },
    {
      "cell_type": "markdown",
      "metadata": {
        "id": "WxZB2sPnVifn"
      },
      "source": [
        "Check the datasets after cleaning based on filtered gtBbox json files."
      ]
    },
    {
      "cell_type": "code",
      "execution_count": null,
      "metadata": {
        "colab": {
          "base_uri": "https://localhost:8080/"
        },
        "id": "xCyoPHGqTdt6",
        "outputId": "b6d1515d-9d79-426e-992c-c28234e36210"
      },
      "outputs": [
        {
          "output_type": "execute_result",
          "data": {
            "text/plain": [
              "(['val', 'train'], ['val', 'train'], ['val', 'train'])"
            ]
          },
          "metadata": {},
          "execution_count": 34
        }
      ],
      "source": [
        "# # Path to core folder\n",
        "# gtFine_CorePath = os.path.join(gtFine_ExtPath, 'gtFine')\n",
        "# gtFinePano_CorePath = os.path.join(gtFinePano_ExtPath, 'gtFinePanopticParts')\n",
        "# gtBbox_CorePath = os.path.join(gtBbox_ExtPath, 'gtBboxCityPersons')\n",
        "\n",
        "# List driectories inside core folders\n",
        "gtFine_Dirs = os.listdir(gtFine_CorePath) if os.path.exists(gtFine_CorePath) else []\n",
        "gtFinePano_Dirs = os.listdir(gtFinePano_CorePath) if os.path.exists(gtFinePano_CorePath) else []\n",
        "gtBbox__Dirs = os.listdir(gtBbox_CorePath) if os.path.exists(gtBbox_CorePath) else []\n",
        "\n",
        "gtFine_Dirs, gtFinePano_Dirs, gtBbox_Dirs"
      ]
    },
    {
      "cell_type": "code",
      "execution_count": null,
      "metadata": {
        "colab": {
          "base_uri": "https://localhost:8080/"
        },
        "id": "of5K4h43T-1Q",
        "outputId": "f4198301-2aeb-484a-8de1-19cbb60fe386"
      },
      "outputs": [
        {
          "output_type": "execute_result",
          "data": {
            "text/plain": [
              "({'val': ['lindau', 'munster', 'frankfurt'],\n",
              "  'train': ['stuttgart',\n",
              "   'monchengladbach',\n",
              "   'zurich',\n",
              "   'erfurt',\n",
              "   'cologne',\n",
              "   'darmstadt',\n",
              "   'strasbourg',\n",
              "   'bremen',\n",
              "   'aachen',\n",
              "   'jena',\n",
              "   'tubingen',\n",
              "   'hanover',\n",
              "   'dusseldorf',\n",
              "   'krefeld',\n",
              "   'hamburg',\n",
              "   'weimar',\n",
              "   'bochum',\n",
              "   'ulm']},\n",
              " {'val': ['lindau', 'munster', 'frankfurt'],\n",
              "  'train': ['stuttgart',\n",
              "   'monchengladbach',\n",
              "   'zurich',\n",
              "   'erfurt',\n",
              "   'cologne',\n",
              "   'darmstadt',\n",
              "   'strasbourg',\n",
              "   'bremen',\n",
              "   'aachen',\n",
              "   'jena',\n",
              "   'tubingen',\n",
              "   'hanover',\n",
              "   'dusseldorf',\n",
              "   'krefeld',\n",
              "   'hamburg',\n",
              "   'weimar',\n",
              "   'bochum',\n",
              "   'ulm']},\n",
              " {'val': ['lindau', 'munster', 'frankfurt'],\n",
              "  'train': ['stuttgart',\n",
              "   'monchengladbach',\n",
              "   'zurich',\n",
              "   'erfurt',\n",
              "   'cologne',\n",
              "   'darmstadt',\n",
              "   'strasbourg',\n",
              "   'bremen',\n",
              "   'aachen',\n",
              "   'jena',\n",
              "   'tubingen',\n",
              "   'hanover',\n",
              "   'dusseldorf',\n",
              "   'krefeld',\n",
              "   'hamburg',\n",
              "   'weimar',\n",
              "   'bochum',\n",
              "   'ulm']})"
            ]
          },
          "metadata": {},
          "execution_count": 35
        }
      ],
      "source": [
        "# Define the subdirectories\n",
        "subdirs = gtFine_Dirs #[\"train\", \"val\"]\n",
        "\n",
        "# Initialize dictionaries to store samples from each subdirectory\n",
        "gtFine_CityFolders = {}\n",
        "gtFinePano_CityFolders = {}\n",
        "gtBbox_CityFolders = {}\n",
        "\n",
        "# Process each subdirectory\n",
        "for subdir in subdirs:\n",
        "    gtFine_CityFolders[subdir] = os.listdir(os.path.join(gtFine_CorePath, subdir)) if subdir in gtFine_Dirs else []\n",
        "    gtFinePano_CityFolders[subdir] = os.listdir(os.path.join(gtFinePano_CorePath, subdir)) if subdir in gtFinePano_Dirs else []\n",
        "    gtBbox_CityFolders[subdir] = os.listdir(os.path.join(gtBbox_CorePath, subdir)) if subdir in gtBbox_Dirs else []\n",
        "\n",
        "# Output the first few files for each subdirectory\n",
        "gtFine_CityFolders_Preview = {key: value[:] for key, value in gtFine_CityFolders.items()}\n",
        "gtFinePano_CityFolders_Preview = {key: value[:] for key, value in gtFinePano_CityFolders.items()}\n",
        "gtBbox_CityFolders_Preview = {key: value[:] for key, value in gtBbox_CityFolders.items()}\n",
        "\n",
        "gtFine_CityFolders_Preview, gtFinePano_CityFolders_Preview, gtBbox_CityFolders_Preview"
      ]
    },
    {
      "cell_type": "code",
      "execution_count": null,
      "metadata": {
        "colab": {
          "base_uri": "https://localhost:8080/"
        },
        "id": "gjIhxfnwVbOT",
        "outputId": "01ae0932-2bbf-47fe-9ec1-753bce77e0c7"
      },
      "outputs": [
        {
          "output_type": "stream",
          "name": "stdout",
          "text": [
            "File Type Distribution in gtFine Dataset:\n",
            "  File Type  Count\n",
            "0      .png   8073\n",
            "\n",
            "File Type Distribution in gtFinePanopticParts Dataset:\n",
            "  File Type  Count\n",
            "0      .tif   2691\n",
            "\n",
            "File Type Distribution in gtBboxCityPersons Dataset:\n",
            "  File Type  Count\n",
            "0     .json   2691\n"
          ]
        }
      ],
      "source": [
        "# File type distribution for gtFine_Final dataset\n",
        "print(\"File Type Distribution in gtFine Dataset:\")\n",
        "gtFine_file_types = count_file_types(gtFine_CorePath)\n",
        "print(pd.DataFrame(gtFine_file_types.items(), columns=[\"File Type\", \"Count\"]))\n",
        "\n",
        "# Analyze file type distribution for gtFinePanopticParts_Final dataset\n",
        "print(\"\\nFile Type Distribution in gtFinePanopticParts Dataset:\")\n",
        "gtFinePano_file_types = count_file_types(gtFinePano_CorePath)\n",
        "print(pd.DataFrame(gtFinePano_file_types.items(), columns=[\"File Type\", \"Count\"]))\n",
        "\n",
        "# Analyze file type distribution for gtBboxCityPersons_Final dataset\n",
        "print(\"\\nFile Type Distribution in gtBboxCityPersons Dataset:\")\n",
        "gtBbox_file_types = count_file_types(gtBbox_CorePath)\n",
        "print(pd.DataFrame(gtBbox_file_types.items(), columns=[\"File Type\", \"Count\"]))"
      ]
    },
    {
      "cell_type": "markdown",
      "metadata": {
        "id": "Gq9YzJzu9eII"
      },
      "source": [
        "#### Validate image and annotation files"
      ]
    },
    {
      "cell_type": "code",
      "execution_count": null,
      "metadata": {
        "colab": {
          "base_uri": "https://localhost:8080/"
        },
        "id": "Yxa2pwgE9cYs",
        "outputId": "ebfd929e-00fc-415d-fb21-9da7733b3bc1"
      },
      "outputs": [
        {
          "output_type": "execute_result",
          "data": {
            "text/plain": [
              "({'ulm': ['ulm_000000_000019_gtFine_color.png',\n",
              "   'ulm_000000_000019_gtFine_instanceIds.png',\n",
              "   'ulm_000000_000019_gtFine_labelIds.png'],\n",
              "  'bremen': ['bremen_000000_000019_gtFine_color.png',\n",
              "   'bremen_000000_000019_gtFine_instanceIds.png',\n",
              "   'bremen_000000_000019_gtFine_labelIds.png'],\n",
              "  'cologne': ['cologne_000000_000019_gtFine_color.png',\n",
              "   'cologne_000000_000019_gtFine_instanceIds.png',\n",
              "   'cologne_000000_000019_gtFine_labelIds.png']},\n",
              " {'ulm': ['ulm_000000_000019_gtFinePanopticParts.tif'],\n",
              "  'bremen': ['bremen_000000_000019_gtFinePanopticParts.tif'],\n",
              "  'cologne': ['cologne_000000_000019_gtFinePanopticParts.tif']},\n",
              " {'ulm': ['ulm_000000_000019_gtBboxCityPersons.json'],\n",
              "  'bremen': ['bremen_000000_000019_gtBboxCityPersons.json'],\n",
              "  'cologne': ['cologne_000000_000019_gtBboxCityPersons.json']})"
            ]
          },
          "metadata": {},
          "execution_count": 37
        }
      ],
      "source": [
        "# Select 3 cities name randomly from 'train' folder to check files\n",
        "selected_cities = random.sample(gtFine_CityFolders['train'], 3)\n",
        "\n",
        "# List files for each selected city\n",
        "gtFine_city_files = {}\n",
        "gtFinePano_city_files = {}\n",
        "gtBbox_city_files = {}\n",
        "gtFine_city_files_sorted = {}\n",
        "gtFinePano_city_files_sorted = {}\n",
        "gtBbox_city_files_sorted = {}\n",
        "\n",
        "for city in selected_cities:\n",
        "    gtFine_city_path = os.path.join(gtFine_CorePath, \"train\", city)\n",
        "    gtFinePano_city_path = os.path.join(gtFinePano_CorePath, \"train\", city)\n",
        "    gtBbox_city_path = os.path.join(gtBbox_CorePath, \"train\", city)\n",
        "\n",
        "    gtFine_city_files[city] = sorted(os.listdir(gtFine_city_path) if os.path.exists(gtFine_city_path) else [])\n",
        "    gtFinePano_city_files[city] = sorted(os.listdir(gtFinePano_city_path) if os.path.exists(gtFinePano_city_path) else [])\n",
        "    gtBbox_city_files[city] = sorted(os.listdir(gtBbox_city_path) if os.path.exists(gtBbox_city_path) else [])\n",
        "\n",
        "    gtFine_city_files_sorted[city] = gtFine_city_files[city][:3]\n",
        "    gtFinePano_city_files_sorted[city] = gtFinePano_city_files[city][:1]\n",
        "    gtBbox_city_files_sorted[city] = gtBbox_city_files[city][:1]\n",
        "\n",
        "# Preview sample files for each city\n",
        "gtFine_city_files_sorted, gtFinePano_city_files_sorted, gtBbox_city_files_sorted"
      ]
    },
    {
      "cell_type": "code",
      "execution_count": null,
      "metadata": {
        "collapsed": true,
        "id": "9JQ2Wh2D_y0i"
      },
      "outputs": [],
      "source": [
        "# Parse a JSON annotation file function\n",
        "def parse_json_file(json_path):\n",
        "    with open(json_path, 'r') as file:\n",
        "        data = json.load(file)\n",
        "    print(\"Keys in JSON file:\", data.keys())\n",
        "    return data\n",
        "\n",
        "# Create a list of all JSON files from gtFine\n",
        "def get_json_files(directory):\n",
        "    json_files = []\n",
        "    for root, dirs, files in os.walk(directory):\n",
        "        for file in files:\n",
        "            if file.endswith('.json'):\n",
        "                json_files.append(os.path.join(root, file))\n",
        "    return json_files\n",
        "\n",
        "gtBbox_json_files = get_json_files(gtBbox_CorePath)\n",
        "#gtBbox_json_files"
      ]
    },
    {
      "cell_type": "code",
      "execution_count": null,
      "metadata": {
        "colab": {
          "base_uri": "https://localhost:8080/",
          "height": 359
        },
        "id": "jcXCVA6FACcx",
        "outputId": "4a2f86a1-8cd5-420f-c70e-95dd581d04f1"
      },
      "outputs": [
        {
          "output_type": "stream",
          "name": "stdout",
          "text": [
            "Randomly Selected JSON file: /content/CityPersonDataset/gtBbox_cityPersons_trainval/gtBboxCityPersons/train/krefeld/krefeld_000000_036299_gtBboxCityPersons.json\n",
            "Keys in JSON file: dict_keys(['imgHeight', 'imgWidth', 'objects'])\n",
            "Corresponding TIF file: /content/CityPersonDataset/gtFinePanopticParts_trainval/gtFinePanopticParts/train/krefeld/krefeld_000000_036299_gtFinePanopticParts.tif\n"
          ]
        },
        {
          "output_type": "display_data",
          "data": {
            "text/plain": [
              "<Figure size 640x480 with 1 Axes>"
            ],
            "image/png": "[encoded data removed]"
          },
          "metadata": {}
        }
      ],
      "source": [
        "# Randomly select a JSON file from gtBbox\n",
        "if not gtBbox_json_files:\n",
        "    print(\"No JSON files found in gtFine dataset.\")\n",
        "else:\n",
        "    sample_json = random.choice(gtBbox_json_files)\n",
        "    print(f\"Randomly Selected JSON file: {sample_json}\")\n",
        "    sample_gtBbox_data = parse_json_file(sample_json)\n",
        "\n",
        "    # Derive the corresponding .tif file path in gtFinePanopticParts\n",
        "    json_filename = os.path.basename(sample_json)\n",
        "    tif_filename = json_filename.replace('_gtBboxCityPersons.json', '_gtFinePanopticParts.tif')\n",
        "\n",
        "    tif_file_path = None\n",
        "    for root, _, files in os.walk(gtFinePano_CorePath):\n",
        "        for file in files:\n",
        "            if file == tif_filename:\n",
        "                tif_file_path = os.path.join(root, file)\n",
        "                break\n",
        "        if tif_file_path:\n",
        "            break\n",
        "\n",
        "    # Visualize the .tif file if it exists\n",
        "    if tif_file_path:\n",
        "        print(f\"Corresponding TIF file: {tif_file_path}\")\n",
        "        tif_image = Image.open(tif_file_path)\n",
        "        plt.imshow(tif_image)\n",
        "        plt.title(\"Visualizing TIF File\")\n",
        "        plt.axis('off')  # Turn off axis for better visualization\n",
        "        plt.show()\n",
        "    else:\n",
        "        print(f\"No corresponding TIF file found for {sample_json}\")"
      ]
    },
    {
      "cell_type": "code",
      "execution_count": null,
      "metadata": {
        "colab": {
          "base_uri": "https://localhost:8080/"
        },
        "id": "KUKBN2YhLhg0",
        "outputId": "1cf58599-6897-40d5-cec4-ef5cfd81ed79"
      },
      "outputs": [
        {
          "output_type": "execute_result",
          "data": {
            "text/plain": [
              "{'imgHeight': 1024,\n",
              " 'imgWidth': 2048,\n",
              " 'objects': [{'instanceId': 25000,\n",
              "   'bbox': [1957, 323, 57, 138],\n",
              "   'bboxVis': [1957, 325, 57, 127],\n",
              "   'label': 'rider'},\n",
              "  {'instanceId': 0,\n",
              "   'bbox': [1527, 310, 12, 10],\n",
              "   'bboxVis': [1527, 310, 12, 10],\n",
              "   'label': 'ignore'}]}"
            ]
          },
          "metadata": {},
          "execution_count": 40
        }
      ],
      "source": [
        "sample_gtBbox_data"
      ]
    },
    {
      "cell_type": "markdown",
      "metadata": {
        "id": "AuBBFYFrdjzp"
      },
      "source": [
        "### Change the color of \"ignore\" labels"
      ]
    },
    {
      "cell_type": "code",
      "execution_count": null,
      "metadata": {
        "collapsed": true,
        "id": "6RxkS_-Jrx62"
      },
      "outputs": [],
      "source": [
        "# Function to process a single .tif file\n",
        "def process_tif_file(tif_path, json_path, background_color=(0, 0, 0)):  # Default background: black\n",
        "    try:\n",
        "        img = Image.open(tif_path).convert(\"RGB\")  # Open as RGB to handle potential paletted images\n",
        "        img_array = np.array(img)\n",
        "\n",
        "        with open(json_path, 'r') as f:\n",
        "            data = json.load(f)\n",
        "\n",
        "        for obj in data.get('objects', []):\n",
        "            if obj['label'] == 'ignore':\n",
        "                bbox = obj['bbox']\n",
        "                x_min, y_min, width, height = bbox\n",
        "                x_max = x_min + width\n",
        "                y_max = y_min + height\n",
        "\n",
        "                # Ensure bounding box coordinates are within image bounds\n",
        "                x_min = max(0, x_min)\n",
        "                y_min = max(0, y_min)\n",
        "                x_max = min(img_array.shape[1], x_max)\n",
        "                y_max = min(img_array.shape[0], y_max)\n",
        "\n",
        "                img_array[y_min:y_max, x_min:x_max] = background_color  # Set pixels within bbox to background color\n",
        "\n",
        "        updated_img = Image.fromarray(img_array)\n",
        "        updated_img.save(tif_path)  # Save the updated .tif image, overwriting the original\n",
        "        # print(f\"Processed: {tif_path}\")\n",
        "\n",
        "    except Exception as e:\n",
        "        print(f\"Error processing {tif_path}: {e}\")\n",
        "\n",
        "\n",
        "# Iterate through subdirectories (train, val)\n",
        "for subdir in os.listdir(gtBbox_CorePath):\n",
        "    gtBbox_subdir_path = os.path.join(gtBbox_CorePath, subdir)\n",
        "    gtFinePano_subdir_path = os.path.join(gtFinePano_CorePath, subdir)\n",
        "\n",
        "    if not os.path.isdir(gtBbox_subdir_path):\n",
        "        continue  # Skip if not a directory\n",
        "\n",
        "    for city in os.listdir(gtBbox_subdir_path):\n",
        "        gtBbox_city_path = os.path.join(gtBbox_subdir_path, city)\n",
        "        gtFinePano_city_path = os.path.join(gtFinePano_subdir_path, city)\n",
        "\n",
        "        if not os.path.isdir(gtBbox_city_path):\n",
        "            continue  # Skip if not a directory\n",
        "\n",
        "        for file in os.listdir(gtBbox_city_path):\n",
        "            if file.endswith(\"_gtBboxCityPersons.json\"):\n",
        "                json_file = file\n",
        "                tif_file = json_file.replace(\"_gtBboxCityPersons.json\", \"_gtFinePanopticParts.tif\")\n",
        "\n",
        "                json_path = os.path.join(gtBbox_city_path, json_file)\n",
        "                tif_path = os.path.join(gtFinePano_city_path, tif_file)\n",
        "\n",
        "                if os.path.exists(tif_path):  # Check if the corresponding .tif exists\n",
        "                    process_tif_file(tif_path, json_path)\n",
        "                else:\n",
        "                    print(f\"Warning: TIF file not found for {json_file}\")"
      ]
    },
    {
      "cell_type": "code",
      "execution_count": null,
      "metadata": {
        "colab": {
          "base_uri": "https://localhost:8080/",
          "height": 1000
        },
        "id": "DjhIAWZMyHn5",
        "outputId": "10b6f171-58f5-4864-e32a-25f917716839"
      },
      "outputs": [
        {
          "output_type": "display_data",
          "data": {
            "text/plain": [
              "<Figure size 640x480 with 1 Axes>"
            ],
            "image/png": "[encoded data removed]"
          },
          "metadata": {}
        },
        {
          "output_type": "display_data",
          "data": {
            "text/plain": [
              "<Figure size 640x480 with 1 Axes>"
            ],
            "image/png": "[encoded data removed]"
          },
          "metadata": {}
        },
        {
          "output_type": "display_data",
          "data": {
            "text/plain": [
              "<Figure size 640x480 with 1 Axes>"
            ],
            "image/png": "[encoded data removed]"
          },
          "metadata": {}
        },
        {
          "output_type": "display_data",
          "data": {
            "text/plain": [
              "<Figure size 640x480 with 1 Axes>"
            ],
            "image/png": "[encoded data removed]"
          },
          "metadata": {}
        },
        {
          "output_type": "display_data",
          "data": {
            "text/plain": [
              "<Figure size 640x480 with 1 Axes>"
            ],
            "image/png": "[encoded data removed]"
          },
          "metadata": {}
        },
        {
          "output_type": "display_data",
          "data": {
            "text/plain": [
              "<Figure size 640x480 with 1 Axes>"
            ],
            "image/png": "[encoded data removed]"
          },
          "metadata": {}
        }
      ],
      "source": [
        "# Sample Visualization (after processing all files)\n",
        "def display_sample_images(num_samples=6):\n",
        "    all_tif_files = []\n",
        "    for root, _, files in os.walk(gtFinePano_CorePath):\n",
        "        for file in files:\n",
        "            if file.endswith(\".tif\"):\n",
        "                all_tif_files.append(os.path.join(root, file))\n",
        "\n",
        "    if not all_tif_files:\n",
        "        print(\"No .tif files found.\")\n",
        "        return\n",
        "\n",
        "    sample_files = random.sample(all_tif_files, min(num_samples, len(all_tif_files)))\n",
        "\n",
        "    for tif_file in sample_files:\n",
        "        img = Image.open(tif_file)\n",
        "        plt.imshow(img)\n",
        "        plt.title(os.path.basename(tif_file))\n",
        "        plt.axis('off')\n",
        "        plt.show()\n",
        "\n",
        "display_sample_images()"
      ]
    },
    {
      "cell_type": "markdown",
      "source": [
        "### This part is for test ⬇"
      ],
      "metadata": {
        "id": "h514NFEg_QUX"
      }
    },
    {
      "cell_type": "code",
      "source": [
        "# ##################################\n",
        "# # Define output ZIP file path\n",
        "# processed_zip_path_gtBbox = \"/content/processed_gtBbox.zip\"\n",
        "# # processed_zip_path_gtFine = \"/content/processed_gtFine.zip\"\n",
        "# processed_zip_path_gtFinePano = \"/content/processed_gtFinePano.zip\"\n",
        "\n",
        "# # Function to zip the dataset\n",
        "# def zip_dataset(folder_path, output_path):\n",
        "#     shutil.make_archive(output_path.replace(\".zip\", \"\"), 'zip', folder_path)\n",
        "#     print(f\"Dataset zipped successfully: {output_path}\")\n",
        "\n",
        "# # Zip the dataset\n",
        "# zip_dataset(gtBbox_CorePath, processed_zip_path_gtBbox)\n",
        "# #zip_dataset(gtFine_CorePath, processed_zip_path_gtFine)\n",
        "# zip_dataset(gtFinePano_CorePath, processed_zip_path_gtFinePano)"
      ],
      "metadata": {
        "id": "o0iGLYS81xc6"
      },
      "execution_count": null,
      "outputs": []
    },
    {
      "cell_type": "code",
      "source": [
        "# # Dataset zip files path from Google Drive\n",
        "# processed_path_gtBbox = '/content/processed_gtBbox.zip'\n",
        "# processed_zip_path_gtFinePano = '/content/processed_gtFinePano.zip'\n",
        "\n",
        "# processed_gtFinePano_ExtPath = '/content/ProcessedDataset/gtFinePanopticParts_trainval'\n",
        "# processed_gtBbox_ExtPath = '/content/ProcessedDataset/gtBbox_cityPersons_trainval'"
      ],
      "metadata": {
        "id": "gJgEJlN02TiT"
      },
      "execution_count": null,
      "outputs": []
    },
    {
      "cell_type": "code",
      "source": [
        "# # Extract both datasets zip files\n",
        "# extract_zip(processed_zip_path_gtFinePano, processed_gtFinePano_ExtPath)\n",
        "# extract_zip(processed_path_gtBbox, processed_gtBbox_ExtPath)"
      ],
      "metadata": {
        "id": "ayICZrgK2boT"
      },
      "execution_count": null,
      "outputs": []
    },
    {
      "cell_type": "code",
      "source": [
        "#!rm -rf /content/ProcessedDataset"
      ],
      "metadata": {
        "id": "DbHgylOd8Qn_"
      },
      "execution_count": null,
      "outputs": []
    },
    {
      "cell_type": "code",
      "source": [
        "# # # File type distribution for gtFine_Final dataset\n",
        "# # print(\"File Type Distribution in gtFine Dataset:\")\n",
        "# # gtFine_file_types = count_file_types(gtFine_CorePath)\n",
        "# # print(pd.DataFrame(gtFine_file_types.items(), columns=[\"File Type\", \"Count\"]))\n",
        "\n",
        "# # Analyze file type distribution for gtFinePanopticParts_Final dataset\n",
        "# print(\"\\nFile Type Distribution in gtFinePanopticParts Dataset:\")\n",
        "# gtFinePano_file_types = count_file_types(processed_gtFinePano_ExtPath)\n",
        "# print(pd.DataFrame(gtFinePano_file_types.items(), columns=[\"File Type\", \"Count\"]))\n",
        "\n",
        "# # Analyze file type distribution for gtBboxCityPersons_Final dataset\n",
        "# print(\"\\nFile Type Distribution in gtBboxCityPersons Dataset:\")\n",
        "# gtBbox_file_types = count_file_types(processed_gtBbox_ExtPath)\n",
        "# print(pd.DataFrame(gtBbox_file_types.items(), columns=[\"File Type\", \"Count\"]))"
      ],
      "metadata": {
        "id": "JMsZb_w_whsy"
      },
      "execution_count": null,
      "outputs": []
    },
    {
      "cell_type": "markdown",
      "source": [
        "### End of test part ⬆"
      ],
      "metadata": {
        "id": "xVeIrJye_TSm"
      }
    },
    {
      "cell_type": "markdown",
      "source": [
        "### Rename all files in each city based on last number of frame"
      ],
      "metadata": {
        "id": "C4roMt11F_8l"
      }
    },
    {
      "cell_type": "code",
      "source": [
        "last_file_info_df_gtBbox\n",
        "#last_file_info_gtBbox"
      ],
      "metadata": {
        "colab": {
          "base_uri": "https://localhost:8080/",
          "height": 708
        },
        "id": "wpLQ8VByxj5y",
        "outputId": "233008d1-788a-4d71-9900-f0687edd1655"
      },
      "execution_count": null,
      "outputs": [
        {
          "output_type": "execute_result",
          "data": {
            "text/plain": [
              "   subdir             city                                           filename  \\\n",
              "0     val           lindau        lindau_000058_000019_gtBboxCityPersons.json   \n",
              "1     val          munster       munster_000173_000019_gtBboxCityPersons.json   \n",
              "2     val        frankfurt     frankfurt_000001_023235_gtBboxCityPersons.json   \n",
              "3   train        stuttgart     stuttgart_000195_000019_gtBboxCityPersons.json   \n",
              "4   train  monchengladbach  monchengladbach_000001_001936_gtBboxCityPerson...   \n",
              "5   train           zurich        zurich_000121_000019_gtBboxCityPersons.json   \n",
              "6   train           erfurt        erfurt_000108_000019_gtBboxCityPersons.json   \n",
              "7   train          cologne       cologne_000153_000019_gtBboxCityPersons.json   \n",
              "8   train        darmstadt     darmstadt_000084_000019_gtBboxCityPersons.json   \n",
              "9   train       strasbourg    strasbourg_000001_010445_gtBboxCityPersons.json   \n",
              "10  train           bremen        bremen_000315_000019_gtBboxCityPersons.json   \n",
              "11  train           aachen        aachen_000173_000019_gtBboxCityPersons.json   \n",
              "12  train             jena          jena_000118_000019_gtBboxCityPersons.json   \n",
              "13  train         tubingen      tubingen_000143_000019_gtBboxCityPersons.json   \n",
              "14  train          hanover       hanover_000000_055592_gtBboxCityPersons.json   \n",
              "15  train       dusseldorf    dusseldorf_000220_000019_gtBboxCityPersons.json   \n",
              "16  train          krefeld       krefeld_000000_028378_gtBboxCityPersons.json   \n",
              "17  train          hamburg       hamburg_000000_063403_gtBboxCityPersons.json   \n",
              "18  train           weimar        weimar_000141_000019_gtBboxCityPersons.json   \n",
              "19  train           bochum        bochum_000000_035958_gtBboxCityPersons.json   \n",
              "20  train              ulm           ulm_000094_000019_gtBboxCityPersons.json   \n",
              "\n",
              "   frame_number1 frame_number2 dataset_type  \n",
              "0         000058        000019       gtBbox  \n",
              "1         000173        000019       gtBbox  \n",
              "2         000001        023235       gtBbox  \n",
              "3         000195        000019       gtBbox  \n",
              "4         000001        001936       gtBbox  \n",
              "5         000121        000019       gtBbox  \n",
              "6         000108        000019       gtBbox  \n",
              "7         000153        000019       gtBbox  \n",
              "8         000084        000019       gtBbox  \n",
              "9         000001        010445       gtBbox  \n",
              "10        000315        000019       gtBbox  \n",
              "11        000173        000019       gtBbox  \n",
              "12        000118        000019       gtBbox  \n",
              "13        000143        000019       gtBbox  \n",
              "14        000000        055592       gtBbox  \n",
              "15        000220        000019       gtBbox  \n",
              "16        000000        028378       gtBbox  \n",
              "17        000000        063403       gtBbox  \n",
              "18        000141        000019       gtBbox  \n",
              "19        000000        035958       gtBbox  \n",
              "20        000094        000019       gtBbox  "
            ],
            "text/html": [
              "\n",
              "  <div id=\"df-9bbe1c05-75ea-4963-b66b-7c6349a4dd3f\" class=\"colab-df-container\">\n",
              "    <div>\n",
              "<style scoped>\n",
              "    .dataframe tbody tr th:only-of-type {\n",
              "        vertical-align: middle;\n",
              "    }\n",
              "\n",
              "    .dataframe tbody tr th {\n",
              "        vertical-align: top;\n",
              "    }\n",
              "\n",
              "    .dataframe thead th {\n",
              "        text-align: right;\n",
              "    }\n",
              "</style>\n",
              "<table border=\"1\" class=\"dataframe\">\n",
              "  <thead>\n",
              "    <tr style=\"text-align: right;\">\n",
              "      <th></th>\n",
              "      <th>subdir</th>\n",
              "      <th>city</th>\n",
              "      <th>filename</th>\n",
              "      <th>frame_number1</th>\n",
              "      <th>frame_number2</th>\n",
              "      <th>dataset_type</th>\n",
              "    </tr>\n",
              "  </thead>\n",
              "  <tbody>\n",
              "    <tr>\n",
              "      <th>0</th>\n",
              "      <td>val</td>\n",
              "      <td>lindau</td>\n",
              "      <td>lindau_000058_000019_gtBboxCityPersons.json</td>\n",
              "      <td>000058</td>\n",
              "      <td>000019</td>\n",
              "      <td>gtBbox</td>\n",
              "    </tr>\n",
              "    <tr>\n",
              "      <th>1</th>\n",
              "      <td>val</td>\n",
              "      <td>munster</td>\n",
              "      <td>munster_000173_000019_gtBboxCityPersons.json</td>\n",
              "      <td>000173</td>\n",
              "      <td>000019</td>\n",
              "      <td>gtBbox</td>\n",
              "    </tr>\n",
              "    <tr>\n",
              "      <th>2</th>\n",
              "      <td>val</td>\n",
              "      <td>frankfurt</td>\n",
              "      <td>frankfurt_000001_023235_gtBboxCityPersons.json</td>\n",
              "      <td>000001</td>\n",
              "      <td>023235</td>\n",
              "      <td>gtBbox</td>\n",
              "    </tr>\n",
              "    <tr>\n",
              "      <th>3</th>\n",
              "      <td>train</td>\n",
              "      <td>stuttgart</td>\n",
              "      <td>stuttgart_000195_000019_gtBboxCityPersons.json</td>\n",
              "      <td>000195</td>\n",
              "      <td>000019</td>\n",
              "      <td>gtBbox</td>\n",
              "    </tr>\n",
              "    <tr>\n",
              "      <th>4</th>\n",
              "      <td>train</td>\n",
              "      <td>monchengladbach</td>\n",
              "      <td>monchengladbach_000001_001936_gtBboxCityPerson...</td>\n",
              "      <td>000001</td>\n",
              "      <td>001936</td>\n",
              "      <td>gtBbox</td>\n",
              "    </tr>\n",
              "    <tr>\n",
              "      <th>5</th>\n",
              "      <td>train</td>\n",
              "      <td>zurich</td>\n",
              "      <td>zurich_000121_000019_gtBboxCityPersons.json</td>\n",
              "      <td>000121</td>\n",
              "      <td>000019</td>\n",
              "      <td>gtBbox</td>\n",
              "    </tr>\n",
              "    <tr>\n",
              "      <th>6</th>\n",
              "      <td>train</td>\n",
              "      <td>erfurt</td>\n",
              "      <td>erfurt_000108_000019_gtBboxCityPersons.json</td>\n",
              "      <td>000108</td>\n",
              "      <td>000019</td>\n",
              "      <td>gtBbox</td>\n",
              "    </tr>\n",
              "    <tr>\n",
              "      <th>7</th>\n",
              "      <td>train</td>\n",
              "      <td>cologne</td>\n",
              "      <td>cologne_000153_000019_gtBboxCityPersons.json</td>\n",
              "      <td>000153</td>\n",
              "      <td>000019</td>\n",
              "      <td>gtBbox</td>\n",
              "    </tr>\n",
              "    <tr>\n",
              "      <th>8</th>\n",
              "      <td>train</td>\n",
              "      <td>darmstadt</td>\n",
              "      <td>darmstadt_000084_000019_gtBboxCityPersons.json</td>\n",
              "      <td>000084</td>\n",
              "      <td>000019</td>\n",
              "      <td>gtBbox</td>\n",
              "    </tr>\n",
              "    <tr>\n",
              "      <th>9</th>\n",
              "      <td>train</td>\n",
              "      <td>strasbourg</td>\n",
              "      <td>strasbourg_000001_010445_gtBboxCityPersons.json</td>\n",
              "      <td>000001</td>\n",
              "      <td>010445</td>\n",
              "      <td>gtBbox</td>\n",
              "    </tr>\n",
              "    <tr>\n",
              "      <th>10</th>\n",
              "      <td>train</td>\n",
              "      <td>bremen</td>\n",
              "      <td>bremen_000315_000019_gtBboxCityPersons.json</td>\n",
              "      <td>000315</td>\n",
              "      <td>000019</td>\n",
              "      <td>gtBbox</td>\n",
              "    </tr>\n",
              "    <tr>\n",
              "      <th>11</th>\n",
              "      <td>train</td>\n",
              "      <td>aachen</td>\n",
              "      <td>aachen_000173_000019_gtBboxCityPersons.json</td>\n",
              "      <td>000173</td>\n",
              "      <td>000019</td>\n",
              "      <td>gtBbox</td>\n",
              "    </tr>\n",
              "    <tr>\n",
              "      <th>12</th>\n",
              "      <td>train</td>\n",
              "      <td>jena</td>\n",
              "      <td>jena_000118_000019_gtBboxCityPersons.json</td>\n",
              "      <td>000118</td>\n",
              "      <td>000019</td>\n",
              "      <td>gtBbox</td>\n",
              "    </tr>\n",
              "    <tr>\n",
              "      <th>13</th>\n",
              "      <td>train</td>\n",
              "      <td>tubingen</td>\n",
              "      <td>tubingen_000143_000019_gtBboxCityPersons.json</td>\n",
              "      <td>000143</td>\n",
              "      <td>000019</td>\n",
              "      <td>gtBbox</td>\n",
              "    </tr>\n",
              "    <tr>\n",
              "      <th>14</th>\n",
              "      <td>train</td>\n",
              "      <td>hanover</td>\n",
              "      <td>hanover_000000_055592_gtBboxCityPersons.json</td>\n",
              "      <td>000000</td>\n",
              "      <td>055592</td>\n",
              "      <td>gtBbox</td>\n",
              "    </tr>\n",
              "    <tr>\n",
              "      <th>15</th>\n",
              "      <td>train</td>\n",
              "      <td>dusseldorf</td>\n",
              "      <td>dusseldorf_000220_000019_gtBboxCityPersons.json</td>\n",
              "      <td>000220</td>\n",
              "      <td>000019</td>\n",
              "      <td>gtBbox</td>\n",
              "    </tr>\n",
              "    <tr>\n",
              "      <th>16</th>\n",
              "      <td>train</td>\n",
              "      <td>krefeld</td>\n",
              "      <td>krefeld_000000_028378_gtBboxCityPersons.json</td>\n",
              "      <td>000000</td>\n",
              "      <td>028378</td>\n",
              "      <td>gtBbox</td>\n",
              "    </tr>\n",
              "    <tr>\n",
              "      <th>17</th>\n",
              "      <td>train</td>\n",
              "      <td>hamburg</td>\n",
              "      <td>hamburg_000000_063403_gtBboxCityPersons.json</td>\n",
              "      <td>000000</td>\n",
              "      <td>063403</td>\n",
              "      <td>gtBbox</td>\n",
              "    </tr>\n",
              "    <tr>\n",
              "      <th>18</th>\n",
              "      <td>train</td>\n",
              "      <td>weimar</td>\n",
              "      <td>weimar_000141_000019_gtBboxCityPersons.json</td>\n",
              "      <td>000141</td>\n",
              "      <td>000019</td>\n",
              "      <td>gtBbox</td>\n",
              "    </tr>\n",
              "    <tr>\n",
              "      <th>19</th>\n",
              "      <td>train</td>\n",
              "      <td>bochum</td>\n",
              "      <td>bochum_000000_035958_gtBboxCityPersons.json</td>\n",
              "      <td>000000</td>\n",
              "      <td>035958</td>\n",
              "      <td>gtBbox</td>\n",
              "    </tr>\n",
              "    <tr>\n",
              "      <th>20</th>\n",
              "      <td>train</td>\n",
              "      <td>ulm</td>\n",
              "      <td>ulm_000094_000019_gtBboxCityPersons.json</td>\n",
              "      <td>000094</td>\n",
              "      <td>000019</td>\n",
              "      <td>gtBbox</td>\n",
              "    </tr>\n",
              "  </tbody>\n",
              "</table>\n",
              "</div>\n",
              "    <div class=\"colab-df-buttons\">\n",
              "\n",
              "  <div class=\"colab-df-container\">\n",
              "    <button class=\"colab-df-convert\" onclick=\"convertToInteractive('df-9bbe1c05-75ea-4963-b66b-7c6349a4dd3f')\"\n",
              "            title=\"Convert this dataframe to an interactive table.\"\n",
              "            style=\"display:none;\">\n",
              "\n",
              "  <svg xmlns=\"http://www.w3.org/2000/svg\" height=\"24px\" viewBox=\"0 -960 960 960\">\n",
              "    <path d=\"M120-120v-720h720v720H120Zm60-500h600v-160H180v160Zm220 220h160v-160H400v160Zm0 220h160v-160H400v160ZM180-400h160v-160H180v160Zm440 0h160v-160H620v160ZM180-180h160v-160H180v160Zm440 0h160v-160H620v160Z\"/>\n",
              "  </svg>\n",
              "    </button>\n",
              "\n",
              "  <style>\n",
              "    .colab-df-container {\n",
              "      display:flex;\n",
              "      gap: 12px;\n",
              "    }\n",
              "\n",
              "    .colab-df-convert {\n",
              "      background-color: #E8F0FE;\n",
              "      border: none;\n",
              "      border-radius: 50%;\n",
              "      cursor: pointer;\n",
              "      display: none;\n",
              "      fill: #1967D2;\n",
              "      height: 32px;\n",
              "      padding: 0 0 0 0;\n",
              "      width: 32px;\n",
              "    }\n",
              "\n",
              "    .colab-df-convert:hover {\n",
              "      background-color: #E2EBFA;\n",
              "      box-shadow: 0px 1px 2px rgba(60, 64, 67, 0.3), 0px 1px 3px 1px rgba(60, 64, 67, 0.15);\n",
              "      fill: #174EA6;\n",
              "    }\n",
              "\n",
              "    .colab-df-buttons div {\n",
              "      margin-bottom: 4px;\n",
              "    }\n",
              "\n",
              "    [theme=dark] .colab-df-convert {\n",
              "      background-color: #3B4455;\n",
              "      fill: #D2E3FC;\n",
              "    }\n",
              "\n",
              "    [theme=dark] .colab-df-convert:hover {\n",
              "      background-color: #434B5C;\n",
              "      box-shadow: 0px 1px 3px 1px rgba(0, 0, 0, 0.15);\n",
              "      filter: drop-shadow(0px 1px 2px rgba(0, 0, 0, 0.3));\n",
              "      fill: #FFFFFF;\n",
              "    }\n",
              "  </style>\n",
              "\n",
              "    <script>\n",
              "      const buttonEl =\n",
              "        document.querySelector('#df-9bbe1c05-75ea-4963-b66b-7c6349a4dd3f button.colab-df-convert');\n",
              "      buttonEl.style.display =\n",
              "        google.colab.kernel.accessAllowed ? 'block' : 'none';\n",
              "\n",
              "      async function convertToInteractive(key) {\n",
              "        const element = document.querySelector('#df-9bbe1c05-75ea-4963-b66b-7c6349a4dd3f');\n",
              "        const dataTable =\n",
              "          await google.colab.kernel.invokeFunction('convertToInteractive',\n",
              "                                                    [key], {});\n",
              "        if (!dataTable) return;\n",
              "\n",
              "        const docLinkHtml = 'Like what you see? Visit the ' +\n",
              "          '<a target=\"_blank\" href=https://colab.research.google.com/notebooks/data_table.ipynb>data table notebook</a>'\n",
              "          + ' to learn more about interactive tables.';\n",
              "        element.innerHTML = '';\n",
              "        dataTable['output_type'] = 'display_data';\n",
              "        await google.colab.output.renderOutput(dataTable, element);\n",
              "        const docLink = document.createElement('div');\n",
              "        docLink.innerHTML = docLinkHtml;\n",
              "        element.appendChild(docLink);\n",
              "      }\n",
              "    </script>\n",
              "  </div>\n",
              "\n",
              "\n",
              "<div id=\"df-0f14f41c-600f-4d13-928c-ad30c9a108e3\">\n",
              "  <button class=\"colab-df-quickchart\" onclick=\"quickchart('df-0f14f41c-600f-4d13-928c-ad30c9a108e3')\"\n",
              "            title=\"Suggest charts\"\n",
              "            style=\"display:none;\">\n",
              "\n",
              "<svg xmlns=\"http://www.w3.org/2000/svg\" height=\"24px\"viewBox=\"0 0 24 24\"\n",
              "     width=\"24px\">\n",
              "    <g>\n",
              "        <path d=\"M19 3H5c-1.1 0-2 .9-2 2v14c0 1.1.9 2 2 2h14c1.1 0 2-.9 2-2V5c0-1.1-.9-2-2-2zM9 17H7v-7h2v7zm4 0h-2V7h2v10zm4 0h-2v-4h2v4z\"/>\n",
              "    </g>\n",
              "</svg>\n",
              "  </button>\n",
              "\n",
              "<style>\n",
              "  .colab-df-quickchart {\n",
              "      --bg-color: #E8F0FE;\n",
              "      --fill-color: #1967D2;\n",
              "      --hover-bg-color: #E2EBFA;\n",
              "      --hover-fill-color: #174EA6;\n",
              "      --disabled-fill-color: #AAA;\n",
              "      --disabled-bg-color: #DDD;\n",
              "  }\n",
              "\n",
              "  [theme=dark] .colab-df-quickchart {\n",
              "      --bg-color: #3B4455;\n",
              "      --fill-color: #D2E3FC;\n",
              "      --hover-bg-color: #434B5C;\n",
              "      --hover-fill-color: #FFFFFF;\n",
              "      --disabled-bg-color: #3B4455;\n",
              "      --disabled-fill-color: #666;\n",
              "  }\n",
              "\n",
              "  .colab-df-quickchart {\n",
              "    background-color: var(--bg-color);\n",
              "    border: none;\n",
              "    border-radius: 50%;\n",
              "    cursor: pointer;\n",
              "    display: none;\n",
              "    fill: var(--fill-color);\n",
              "    height: 32px;\n",
              "    padding: 0;\n",
              "    width: 32px;\n",
              "  }\n",
              "\n",
              "  .colab-df-quickchart:hover {\n",
              "    background-color: var(--hover-bg-color);\n",
              "    box-shadow: 0 1px 2px rgba(60, 64, 67, 0.3), 0 1px 3px 1px rgba(60, 64, 67, 0.15);\n",
              "    fill: var(--button-hover-fill-color);\n",
              "  }\n",
              "\n",
              "  .colab-df-quickchart-complete:disabled,\n",
              "  .colab-df-quickchart-complete:disabled:hover {\n",
              "    background-color: var(--disabled-bg-color);\n",
              "    fill: var(--disabled-fill-color);\n",
              "    box-shadow: none;\n",
              "  }\n",
              "\n",
              "  .colab-df-spinner {\n",
              "    border: 2px solid var(--fill-color);\n",
              "    border-color: transparent;\n",
              "    border-bottom-color: var(--fill-color);\n",
              "    animation:\n",
              "      spin 1s steps(1) infinite;\n",
              "  }\n",
              "\n",
              "  @keyframes spin {\n",
              "    0% {\n",
              "      border-color: transparent;\n",
              "      border-bottom-color: var(--fill-color);\n",
              "      border-left-color: var(--fill-color);\n",
              "    }\n",
              "    20% {\n",
              "      border-color: transparent;\n",
              "      border-left-color: var(--fill-color);\n",
              "      border-top-color: var(--fill-color);\n",
              "    }\n",
              "    30% {\n",
              "      border-color: transparent;\n",
              "      border-left-color: var(--fill-color);\n",
              "      border-top-color: var(--fill-color);\n",
              "      border-right-color: var(--fill-color);\n",
              "    }\n",
              "    40% {\n",
              "      border-color: transparent;\n",
              "      border-right-color: var(--fill-color);\n",
              "      border-top-color: var(--fill-color);\n",
              "    }\n",
              "    60% {\n",
              "      border-color: transparent;\n",
              "      border-right-color: var(--fill-color);\n",
              "    }\n",
              "    80% {\n",
              "      border-color: transparent;\n",
              "      border-right-color: var(--fill-color);\n",
              "      border-bottom-color: var(--fill-color);\n",
              "    }\n",
              "    90% {\n",
              "      border-color: transparent;\n",
              "      border-bottom-color: var(--fill-color);\n",
              "    }\n",
              "  }\n",
              "</style>\n",
              "\n",
              "  <script>\n",
              "    async function quickchart(key) {\n",
              "      const quickchartButtonEl =\n",
              "        document.querySelector('#' + key + ' button');\n",
              "      quickchartButtonEl.disabled = true;  // To prevent multiple clicks.\n",
              "      quickchartButtonEl.classList.add('colab-df-spinner');\n",
              "      try {\n",
              "        const charts = await google.colab.kernel.invokeFunction(\n",
              "            'suggestCharts', [key], {});\n",
              "      } catch (error) {\n",
              "        console.error('Error during call to suggestCharts:', error);\n",
              "      }\n",
              "      quickchartButtonEl.classList.remove('colab-df-spinner');\n",
              "      quickchartButtonEl.classList.add('colab-df-quickchart-complete');\n",
              "    }\n",
              "    (() => {\n",
              "      let quickchartButtonEl =\n",
              "        document.querySelector('#df-0f14f41c-600f-4d13-928c-ad30c9a108e3 button');\n",
              "      quickchartButtonEl.style.display =\n",
              "        google.colab.kernel.accessAllowed ? 'block' : 'none';\n",
              "    })();\n",
              "  </script>\n",
              "</div>\n",
              "\n",
              "  <div id=\"id_b15413a0-3a8c-41d3-b074-a2282ab26ec2\">\n",
              "    <style>\n",
              "      .colab-df-generate {\n",
              "        background-color: #E8F0FE;\n",
              "        border: none;\n",
              "        border-radius: 50%;\n",
              "        cursor: pointer;\n",
              "        display: none;\n",
              "        fill: #1967D2;\n",
              "        height: 32px;\n",
              "        padding: 0 0 0 0;\n",
              "        width: 32px;\n",
              "      }\n",
              "\n",
              "      .colab-df-generate:hover {\n",
              "        background-color: #E2EBFA;\n",
              "        box-shadow: 0px 1px 2px rgba(60, 64, 67, 0.3), 0px 1px 3px 1px rgba(60, 64, 67, 0.15);\n",
              "        fill: #174EA6;\n",
              "      }\n",
              "\n",
              "      [theme=dark] .colab-df-generate {\n",
              "        background-color: #3B4455;\n",
              "        fill: #D2E3FC;\n",
              "      }\n",
              "\n",
              "      [theme=dark] .colab-df-generate:hover {\n",
              "        background-color: #434B5C;\n",
              "        box-shadow: 0px 1px 3px 1px rgba(0, 0, 0, 0.15);\n",
              "        filter: drop-shadow(0px 1px 2px rgba(0, 0, 0, 0.3));\n",
              "        fill: #FFFFFF;\n",
              "      }\n",
              "    </style>\n",
              "    <button class=\"colab-df-generate\" onclick=\"generateWithVariable('last_file_info_df_gtBbox')\"\n",
              "            title=\"Generate code using this dataframe.\"\n",
              "            style=\"display:none;\">\n",
              "\n",
              "  <svg xmlns=\"http://www.w3.org/2000/svg\" height=\"24px\"viewBox=\"0 0 24 24\"\n",
              "       width=\"24px\">\n",
              "    <path d=\"M7,19H8.4L18.45,9,17,7.55,7,17.6ZM5,21V16.75L18.45,3.32a2,2,0,0,1,2.83,0l1.4,1.43a1.91,1.91,0,0,1,.58,1.4,1.91,1.91,0,0,1-.58,1.4L9.25,21ZM18.45,9,17,7.55Zm-12,3A5.31,5.31,0,0,0,4.9,8.1,5.31,5.31,0,0,0,1,6.5,5.31,5.31,0,0,0,4.9,4.9,5.31,5.31,0,0,0,6.5,1,5.31,5.31,0,0,0,8.1,4.9,5.31,5.31,0,0,0,12,6.5,5.46,5.46,0,0,0,6.5,12Z\"/>\n",
              "  </svg>\n",
              "    </button>\n",
              "    <script>\n",
              "      (() => {\n",
              "      const buttonEl =\n",
              "        document.querySelector('#id_b15413a0-3a8c-41d3-b074-a2282ab26ec2 button.colab-df-generate');\n",
              "      buttonEl.style.display =\n",
              "        google.colab.kernel.accessAllowed ? 'block' : 'none';\n",
              "\n",
              "      buttonEl.onclick = () => {\n",
              "        google.colab.notebook.generateWithVariable('last_file_info_df_gtBbox');\n",
              "      }\n",
              "      })();\n",
              "    </script>\n",
              "  </div>\n",
              "\n",
              "    </div>\n",
              "  </div>\n"
            ],
            "application/vnd.google.colaboratory.intrinsic+json": {
              "type": "dataframe",
              "variable_name": "last_file_info_df_gtBbox",
              "summary": "{\n  \"name\": \"last_file_info_df_gtBbox\",\n  \"rows\": 21,\n  \"fields\": [\n    {\n      \"column\": \"subdir\",\n      \"properties\": {\n        \"dtype\": \"category\",\n        \"num_unique_values\": 2,\n        \"samples\": [\n          \"train\",\n          \"val\"\n        ],\n        \"semantic_type\": \"\",\n        \"description\": \"\"\n      }\n    },\n    {\n      \"column\": \"city\",\n      \"properties\": {\n        \"dtype\": \"string\",\n        \"num_unique_values\": 21,\n        \"samples\": [\n          \"lindau\",\n          \"hamburg\"\n        ],\n        \"semantic_type\": \"\",\n        \"description\": \"\"\n      }\n    },\n    {\n      \"column\": \"filename\",\n      \"properties\": {\n        \"dtype\": \"string\",\n        \"num_unique_values\": 21,\n        \"samples\": [\n          \"lindau_000058_000019_gtBboxCityPersons.json\",\n          \"hamburg_000000_063403_gtBboxCityPersons.json\"\n        ],\n        \"semantic_type\": \"\",\n        \"description\": \"\"\n      }\n    },\n    {\n      \"column\": \"frame_number1\",\n      \"properties\": {\n        \"dtype\": \"string\",\n        \"num_unique_values\": 15,\n        \"samples\": [\n          \"000118\",\n          \"000000\"\n        ],\n        \"semantic_type\": \"\",\n        \"description\": \"\"\n      }\n    },\n    {\n      \"column\": \"frame_number2\",\n      \"properties\": {\n        \"dtype\": \"category\",\n        \"num_unique_values\": 8,\n        \"samples\": [\n          \"023235\",\n          \"028378\"\n        ],\n        \"semantic_type\": \"\",\n        \"description\": \"\"\n      }\n    },\n    {\n      \"column\": \"dataset_type\",\n      \"properties\": {\n        \"dtype\": \"category\",\n        \"num_unique_values\": 1,\n        \"samples\": [\n          \"gtBbox\"\n        ],\n        \"semantic_type\": \"\",\n        \"description\": \"\"\n      }\n    }\n  ]\n}"
            }
          },
          "metadata": {},
          "execution_count": 48
        }
      ]
    },
    {
      "cell_type": "code",
      "source": [
        "# Function to rename all files\n",
        "def rename_files(core_path, last_file_info_df):\n",
        "    for index, row in last_file_info_df.iterrows():\n",
        "        subdir = row['subdir']\n",
        "        city = row['city']\n",
        "        last_frame_number = int(row['frame_number1'])\n",
        "\n",
        "        for filename in os.listdir(os.path.join(core_path, subdir, city)):\n",
        "            if filename.endswith((\"_gtBboxCityPersons.json\", \"_gtFinePanopticParts.tif\")):\n",
        "                parts = filename.split(\"_\")\n",
        "                if len(parts) >= 4:\n",
        "                    frame_number1 = parts[1]\n",
        "                    frame_number2 = parts[2]\n",
        "                    new_frame_number1 = None\n",
        "\n",
        "                    if frame_number2 == \"000019\":\n",
        "                        frame_number1_int = int(frame_number1)\n",
        "                        new_frame_number1 = str(last_frame_number + frame_number1_int + 1).zfill(6)\n",
        "                    else:\n",
        "                        new_frame_number1 = \"000002\"\n",
        "\n",
        "                    if new_frame_number1:\n",
        "                        new_filename = f\"{parts[0]}_{new_frame_number1}_{frame_number2}_{parts[3]}\"\n",
        "                        old_path = os.path.join(core_path, subdir, city, filename)\n",
        "                        new_path = os.path.join(core_path, subdir, city, new_filename)\n",
        "                        os.rename(old_path, new_path)\n",
        "                        #print(f\"Renamed: {old_path} to {new_path}\")\n",
        "\n",
        "# Call the rename function for \"gtBbox_CorePath\" dataset\n",
        "rename_files(gtBbox_CorePath, last_file_info_df_gtBbox)\n",
        "# Call the rename function for \"gtFinePano_CorePath\" dataset\n",
        "rename_files(gtFinePano_CorePath, last_file_info_df_gtBbox)"
      ],
      "metadata": {
        "id": "9AdZ88qCayeQ"
      },
      "execution_count": null,
      "outputs": []
    },
    {
      "cell_type": "code",
      "source": [
        "# File type distribution for gtFine_Final dataset\n",
        "print(\"File Type Distribution in gtFine Dataset:\")\n",
        "gtFine_file_types = count_file_types(gtFine_CorePath)\n",
        "print(pd.DataFrame(gtFine_file_types.items(), columns=[\"File Type\", \"Count\"]))\n",
        "\n",
        "# Analyze file type distribution for gtFinePanopticParts_Final dataset\n",
        "print(\"\\nFile Type Distribution in gtFinePanopticParts Dataset:\")\n",
        "gtFinePano_file_types = count_file_types(gtFinePano_CorePath)\n",
        "print(pd.DataFrame(gtFinePano_file_types.items(), columns=[\"File Type\", \"Count\"]))\n",
        "\n",
        "# Analyze file type distribution for gtBboxCityPersons_Final dataset\n",
        "print(\"\\nFile Type Distribution in gtBboxCityPersons Dataset:\")\n",
        "gtBbox_file_types = count_file_types(gtBbox_CorePath)\n",
        "print(pd.DataFrame(gtBbox_file_types.items(), columns=[\"File Type\", \"Count\"]))"
      ],
      "metadata": {
        "colab": {
          "base_uri": "https://localhost:8080/"
        },
        "id": "Qjo_4shdgin1",
        "outputId": "64a32799-cd60-4cc5-f1ef-85d0dd0089fb"
      },
      "execution_count": null,
      "outputs": [
        {
          "output_type": "stream",
          "name": "stdout",
          "text": [
            "File Type Distribution in gtFine Dataset:\n",
            "  File Type  Count\n",
            "0      .png   8073\n",
            "\n",
            "File Type Distribution in gtFinePanopticParts Dataset:\n",
            "  File Type  Count\n",
            "0      .tif   2691\n",
            "\n",
            "File Type Distribution in gtBboxCityPersons Dataset:\n",
            "  File Type  Count\n",
            "0     .json   2691\n"
          ]
        }
      ]
    },
    {
      "cell_type": "code",
      "execution_count": null,
      "metadata": {
        "colab": {
          "base_uri": "https://localhost:8080/"
        },
        "id": "fbQzdaEb0KO9",
        "outputId": "80e44d41-f833-44f0-9463-4eed50d9073c"
      },
      "outputs": [
        {
          "output_type": "stream",
          "name": "stdout",
          "text": [
            "Dataset zipped successfully: /content/renamed_gtBbox.zip\n",
            "Dataset zipped successfully: /content/renamed_gtFinePano.zip\n"
          ]
        }
      ],
      "source": [
        "# Define output ZIP file path\n",
        "renamed_zip_path_gtBbox = \"/content/renamed_gtBbox.zip\"\n",
        "#renamed_zip_path_gtFine = \"/content/renamed_gtFine.zip\"\n",
        "renamed_zip_path_gtFinePano = \"/content/renamed_gtFinePano.zip\"\n",
        "\n",
        "# Function to zip the dataset\n",
        "def zip_dataset(folder_path, output_path):\n",
        "    shutil.make_archive(output_path.replace(\".zip\", \"\"), 'zip', folder_path)\n",
        "    print(f\"Dataset zipped successfully: {output_path}\")\n",
        "\n",
        "# Zip the dataset\n",
        "zip_dataset(gtBbox_CorePath, renamed_zip_path_gtBbox)\n",
        "#zip_dataset(gtFine_CorePath, renamed_zip_path_gtFine)\n",
        "zip_dataset(gtFinePano_CorePath, renamed_zip_path_gtFinePano)"
      ]
    },
    {
      "cell_type": "markdown",
      "source": [
        "### Add processed and renamed files to original dataset\n",
        "\n",
        "Re-read and re-extract original files"
      ],
      "metadata": {
        "id": "x-EmcvKfGl0B"
      }
    },
    {
      "cell_type": "code",
      "source": [
        "# Dataset zip files path from Google Drive\n",
        "#gtFine_Org = '/content/drive/MyDrive/CityPersonDataset/gtFine_trainvaltest.zip'\n",
        "gtFinePanopticParts_Org = '/content/drive/MyDrive/CityPersonDataset/gtFinePanopticParts_trainval.zip'\n",
        "gtBbox_Org = '/content/drive/MyDrive/CityPersonDataset/gtBbox_cityPersons_trainval.zip'\n",
        "\n",
        "#gtFine_Org_ExtPath = '/content/CityPersonDataset_Org/gtFine_trainvaltest'\n",
        "gtFinePano_Org_ExtPath = '/content/CityPersonDataset_Org/gtFinePanopticParts_trainval'\n",
        "gtBbox_Org_ExtPath = '/content/CityPersonDataset_Org/gtBbox_cityPersons_trainval'"
      ],
      "metadata": {
        "id": "N7Umg-rUGlVM"
      },
      "execution_count": null,
      "outputs": []
    },
    {
      "cell_type": "code",
      "source": [
        "# Extract both datasets zip files\n",
        "# extract_zip(gtFine_Org, gtFine_ExtPath)\n",
        "extract_zip(gtFinePanopticParts_Org, gtFinePano_Org_ExtPath)\n",
        "extract_zip(gtBbox_Org, gtBbox_Org_ExtPath)"
      ],
      "metadata": {
        "id": "syU135mmHTE0"
      },
      "execution_count": null,
      "outputs": []
    },
    {
      "cell_type": "code",
      "source": [
        "# Path to core folder\n",
        "# gtFine_Org_CorePath = os.path.join(gtFine_Org_ExtPath, 'gtFine')\n",
        "gtFinePano_Org_CorePath = os.path.join(gtFinePano_Org_ExtPath, 'gtFinePanopticParts')\n",
        "gtBbox_Org_CorePath = os.path.join(gtBbox_Org_ExtPath, 'gtBboxCityPersons')"
      ],
      "metadata": {
        "id": "cCIReePsZN1X"
      },
      "execution_count": null,
      "outputs": []
    },
    {
      "cell_type": "code",
      "source": [
        "# !rm -rf /content/CityPersonDataset_Org"
      ],
      "metadata": {
        "id": "7MmDhmY4TX1B"
      },
      "execution_count": null,
      "outputs": []
    },
    {
      "cell_type": "markdown",
      "source": [
        "### Merge the processed dataset to orginal one"
      ],
      "metadata": {
        "id": "18XZbjjQTP_I"
      }
    },
    {
      "cell_type": "code",
      "source": [
        "# Define the source and destination paths\n",
        "source_paths = {\n",
        "    \"gtFinePano\": gtFinePano_CorePath,\n",
        "    \"gtBbox\": gtBbox_CorePath\n",
        "}\n",
        "destination_paths = {\n",
        "    \"gtFinePano\": gtFinePano_Org_CorePath,\n",
        "    \"gtBbox\": gtBbox_Org_CorePath\n",
        "}\n",
        "\n",
        "# Iterate through the datasets\n",
        "for dataset_type in [\"gtFinePano\", \"gtBbox\"]:\n",
        "    source_base_path = source_paths[dataset_type]\n",
        "    destination_base_path = destination_paths[dataset_type]\n",
        "\n",
        "    # Iterate through subdirectories (train, val)\n",
        "    for subdir in [\"train\", \"val\"]:\n",
        "        source_subdir_path = os.path.join(source_base_path, subdir)\n",
        "        destination_subdir_path = os.path.join(destination_base_path, subdir)\n",
        "\n",
        "        # Iterate through cities\n",
        "        for city in os.listdir(source_subdir_path):\n",
        "            source_city_path = os.path.join(source_subdir_path, city)\n",
        "            destination_city_path = os.path.join(destination_subdir_path, city)\n",
        "\n",
        "            # Copy files from source to destination\n",
        "            for file in os.listdir(source_city_path):\n",
        "                source_file_path = os.path.join(source_city_path, file)\n",
        "                destination_file_path = os.path.join(destination_city_path, file)\n",
        "                shutil.copy2(source_file_path, destination_file_path)\n",
        "                #print(f\"Copied: {source_file_path} -> {destination_file_path}\")\n",
        "\n",
        "print(\"All processed files copied to original dataset structure.\")"
      ],
      "metadata": {
        "colab": {
          "base_uri": "https://localhost:8080/"
        },
        "id": "RCt0E7X6Ye2C",
        "outputId": "98f724a9-4313-4892-d488-ce8af16972bc"
      },
      "execution_count": null,
      "outputs": [
        {
          "output_type": "stream",
          "name": "stdout",
          "text": [
            "All processed files copied to original dataset structure.\n"
          ]
        }
      ]
    },
    {
      "cell_type": "code",
      "source": [
        "# Function for image and json file verification\n",
        "def verify_merge(source_paths, destination_paths):\n",
        "    verification_results = {}\n",
        "    file_type_counts = {}  # Store file type counts\n",
        "\n",
        "    for dataset_type in source_paths:\n",
        "        verification_results[dataset_type] = {}\n",
        "        file_type_counts[dataset_type] = {}\n",
        "\n",
        "        source_base_path = source_paths[dataset_type]\n",
        "        destination_base_path = destination_paths[dataset_type]\n",
        "\n",
        "        for subdir in [\"train\", \"val\"]:\n",
        "            source_subdir_path = os.path.join(source_base_path, subdir)\n",
        "            destination_subdir_path = os.path.join(destination_base_path, subdir)\n",
        "\n",
        "            if not os.path.exists(source_subdir_path) or not os.path.exists(destination_subdir_path):\n",
        "                print(f\"Warning: Subdirectory {subdir} not found in one or both of the paths for {dataset_type}\")\n",
        "                continue\n",
        "\n",
        "            for city in os.listdir(source_subdir_path):\n",
        "                source_city_path = os.path.join(source_subdir_path, city)\n",
        "                destination_city_path = os.path.join(destination_subdir_path, city)\n",
        "\n",
        "                if not os.path.isdir(source_city_path) or not os.path.isdir(destination_city_path):\n",
        "                    print(f\"Warning: City {city} not found in one or both of the paths for {dataset_type}\")\n",
        "                    continue\n",
        "\n",
        "                source_files = set(os.listdir(source_city_path))\n",
        "                destination_files = set(os.listdir(destination_city_path))\n",
        "\n",
        "                # Check if all source files are present in the destination\n",
        "                files_match = source_files.issubset(destination_files)\n",
        "\n",
        "                verification_results[dataset_type][city] = files_match\n",
        "\n",
        "                if not files_match:\n",
        "                    print(f\"Mismatch in {dataset_type} - {subdir} - {city}:\")\n",
        "                    files_only_in_source = source_files - destination_files\n",
        "                    if files_only_in_source:\n",
        "                        print(f\"  Files only in source: {files_only_in_source}\")\n",
        "\n",
        "                    files_only_in_dest = destination_files - source_files\n",
        "                    if files_only_in_dest:\n",
        "                        print(f\"  Files only in destination: {files_only_in_dest}\")\n",
        "\n",
        "                # Count file types for source\n",
        "                file_type_counts[dataset_type].setdefault(\"source\", Counter())\n",
        "                for file in source_files:\n",
        "                    ext = os.path.splitext(file)[-1].lower()\n",
        "                    file_type_counts[dataset_type][\"source\"][ext] += 1\n",
        "\n",
        "                # Count file types for destination\n",
        "                file_type_counts[dataset_type].setdefault(\"destination\", Counter())\n",
        "                for file in destination_files:\n",
        "                    ext = os.path.splitext(file)[-1].lower()\n",
        "                    file_type_counts[dataset_type][\"destination\"][ext] += 1\n",
        "\n",
        "    return verification_results, file_type_counts\n",
        "\n",
        "\n",
        "# Define the source and destination paths\n",
        "# source_paths = {\n",
        "#     \"gtFinePano\": gtFinePano_CorePath,\n",
        "#     \"gtBbox\": gtBbox_CorePath\n",
        "# }\n",
        "# destination_paths = {\n",
        "#     \"gtFinePano\": gtFinePano_Org_CorePath,\n",
        "#     \"gtBbox\": gtBbox_Org_CorePath\n",
        "# }\n",
        "\n",
        "# Call files verification function\n",
        "verification_results, file_type_counts = verify_merge(source_paths, destination_paths)\n",
        "\n",
        "\n",
        "# Print Verification Results\n",
        "for dataset, cities in verification_results.items():\n",
        "    print(f\"\\nVerification Results for {dataset}:\")\n",
        "    for city, match in cities.items():\n",
        "        print(f\"  {city}: {'Match' if match else 'Mismatch'}\")\n",
        "\n",
        "# Print File Type Counts\n",
        "for dataset, counts in file_type_counts.items():\n",
        "    print(f\"\\nFile Type Counts for {dataset}:\")\n",
        "    for location, file_types in counts.items():\n",
        "        print(f\"  {location}:\")\n",
        "        for file_type, count in file_types.items():\n",
        "            print(f\"    {file_type}: {count}\")"
      ],
      "metadata": {
        "colab": {
          "base_uri": "https://localhost:8080/"
        },
        "id": "bLvgtCZaMaha",
        "outputId": "8979eb11-4aef-4045-e15d-ca98e0463bf3"
      },
      "execution_count": null,
      "outputs": [
        {
          "output_type": "stream",
          "name": "stdout",
          "text": [
            "\n",
            "Verification Results for gtFinePano:\n",
            "  stuttgart: Match\n",
            "  monchengladbach: Match\n",
            "  zurich: Match\n",
            "  erfurt: Match\n",
            "  cologne: Match\n",
            "  darmstadt: Match\n",
            "  strasbourg: Match\n",
            "  bremen: Match\n",
            "  aachen: Match\n",
            "  jena: Match\n",
            "  tubingen: Match\n",
            "  hanover: Match\n",
            "  dusseldorf: Match\n",
            "  krefeld: Match\n",
            "  hamburg: Match\n",
            "  weimar: Match\n",
            "  bochum: Match\n",
            "  ulm: Match\n",
            "  lindau: Match\n",
            "  munster: Match\n",
            "  frankfurt: Match\n",
            "\n",
            "Verification Results for gtBbox:\n",
            "  stuttgart: Match\n",
            "  monchengladbach: Match\n",
            "  zurich: Match\n",
            "  erfurt: Match\n",
            "  cologne: Match\n",
            "  darmstadt: Match\n",
            "  strasbourg: Match\n",
            "  bremen: Match\n",
            "  aachen: Match\n",
            "  jena: Match\n",
            "  tubingen: Match\n",
            "  hanover: Match\n",
            "  dusseldorf: Match\n",
            "  krefeld: Match\n",
            "  hamburg: Match\n",
            "  weimar: Match\n",
            "  bochum: Match\n",
            "  ulm: Match\n",
            "  lindau: Match\n",
            "  munster: Match\n",
            "  frankfurt: Match\n",
            "\n",
            "File Type Counts for gtFinePano:\n",
            "  source:\n",
            "    .tif: 2691\n",
            "  destination:\n",
            "    .tif: 6166\n",
            "\n",
            "File Type Counts for gtBbox:\n",
            "  source:\n",
            "    .json: 2691\n",
            "  destination:\n",
            "    .json: 6166\n"
          ]
        }
      ]
    },
    {
      "cell_type": "markdown",
      "source": [
        "### Zip the final dataset and download."
      ],
      "metadata": {
        "id": "amuiDWhXnO4q"
      }
    },
    {
      "cell_type": "code",
      "source": [
        "# Define output ZIP file path\n",
        "Final_gtBbox = \"/content/Final_gtBbox.zip\"\n",
        "#Final_gtFine = \"/content/Final_gtFine.zip\"\n",
        "Final_gtFinePano = \"/content/Final_gtFinePano.zip\"\n",
        "\n",
        "# Zip Function already excits\n",
        "\n",
        "# Zip the dataset\n",
        "zip_dataset(gtBbox_Org_ExtPath, Final_gtBbox)\n",
        "#zip_dataset(gtFine_Org_ExtPath, Final_gtFine)\n",
        "zip_dataset(gtFinePano_Org_ExtPath, Final_gtFinePano)"
      ],
      "metadata": {
        "colab": {
          "base_uri": "https://localhost:8080/"
        },
        "id": "Jq5c5k_snN8f",
        "outputId": "1ddb38fd-d687-49b2-d0d7-1441770ce70a"
      },
      "execution_count": null,
      "outputs": [
        {
          "output_type": "stream",
          "name": "stdout",
          "text": [
            "Dataset zipped successfully: /content/Final_gtBbox.zip\n",
            "Dataset zipped successfully: /content/Final_gtFinePano.zip\n"
          ]
        }
      ]
    }
  ],
  "metadata": {
    "colab": {
      "provenance": [],
      "mount_file_id": "12590NZ195LoHUghddkxWrQw6LaQnnSGm",
      "authorship_tag": "ABX9TyNuhZltdaUi/bccmMq42M5f",
      "include_colab_link": true
    },
    "kernelspec": {
      "display_name": "Python 3",
      "name": "python3"
    },
    "language_info": {
      "name": "python"
    }
  },
  "nbformat": 4,
  "nbformat_minor": 0
}