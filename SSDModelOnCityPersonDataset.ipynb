{
  "nbformat": 4,
  "nbformat_minor": 0,
  "metadata": {
    "colab": {
      "provenance": [],
      "mount_file_id": "1hKXaSws-nzPAss7Kxw66KxT3yCpV6Y9X",
      "authorship_tag": "ABX9TyMohETVTerVipgENKi2vKib",
      "include_colab_link": true
    },
    "kernelspec": {
      "name": "python3",
      "display_name": "Python 3"
    },
    "language_info": {
      "name": "python"
    }
  },
  "cells": [
    {
      "cell_type": "markdown",
      "metadata": {
        "id": "view-in-github",
        "colab_type": "text"
      },
      "source": [
        "<a href=\"https://colab.research.google.com/github/raz0208/City-Person-Dataset-EDA/blob/main/SSDModelOnCityPersonDataset.ipynb\" target=\"_parent\"><img src=\"https://colab.research.google.com/assets/colab-badge.svg\" alt=\"Open In Colab\"/></a>"
      ]
    },
    {
      "cell_type": "markdown",
      "source": [
        "## SSD (Single Shot MultiBox Detector) Implementation on CityPerson Dataset"
      ],
      "metadata": {
        "id": "SpcMwwi47cW-"
      }
    },
    {
      "cell_type": "markdown",
      "source": [
        "### Step 1: Extract and read the datasets"
      ],
      "metadata": {
        "id": "68o58_lt7t7U"
      }
    },
    {
      "cell_type": "code",
      "execution_count": 112,
      "metadata": {
        "id": "q8zWx5k_7WHP"
      },
      "outputs": [],
      "source": [
        "# import required libraries\n",
        "import os\n",
        "import zipfile\n",
        "import json\n",
        "import random\n",
        "from collections import Counter\n",
        "import pandas as pd\n",
        "from PIL import Image\n",
        "import matplotlib.pyplot as plt\n",
        "# from tqdm import tqdm\n",
        "# import torch\n",
        "# import torchvision\n",
        "# from torchvision import transforms, datasets, models\n",
        "# from torch.utils.data import Dataset, DataLoader\n",
        "# import torch.nn as nn\n",
        "# import torch.optim as optim\n",
        "# from torchvision.models.detection import ssd300_vgg16, SSD300_VGG16_Weights\n",
        "# from torchvision.models.detection.ssd import SSD"
      ]
    },
    {
      "cell_type": "code",
      "source": [
        "# Dataset zip files path from Google Drive\n",
        "#gtFine = '/content/drive/MyDrive/CityPersonDataset/gtFine_trainvaltest.zip'\n",
        "gtFinePanopticParts = '/content/drive/MyDrive/CityPersonDataset/gtFinePanopticParts_trainval.zip'\n",
        "gtBbox = '/content/drive/MyDrive/CityPersonDataset/gtBbox_cityPersons_trainval.zip'\n",
        "\n",
        "#gtFine_ExtPath = '/content/CityPersonDataset/gtFine_trainvaltest'\n",
        "gtFinePano_ExtPath = '/content/CityPersonDataset/gtFinePanopticParts_trainval'\n",
        "gtBbox_ExtPath = '/content/CityPersonDataset/gtBbox_cityPersons_trainval'"
      ],
      "metadata": {
        "id": "AtIpjkyL8Hyd"
      },
      "execution_count": 117,
      "outputs": []
    },
    {
      "cell_type": "code",
      "source": [
        "# Extracting files function\n",
        "def extract_zip(file_path, extract_path):\n",
        "    if not os.path.exists(extract_path):\n",
        "        os.makedirs(extract_path)\n",
        "    with zipfile.ZipFile(file_path, 'r') as zip_ref:\n",
        "        zip_ref.extractall(extract_path)\n",
        "\n",
        "# Extract both datasets zip files\n",
        "#extract_zip(gtFine, gtFine_ExtPath)\n",
        "extract_zip(gtFinePanopticParts, gtFinePano_ExtPath)\n",
        "extract_zip(gtBbox, gtBbox_ExtPath)"
      ],
      "metadata": {
        "id": "XfjCgI6T8MvR"
      },
      "execution_count": 118,
      "outputs": []
    },
    {
      "cell_type": "code",
      "source": [
        "# %rm -rf /content/CityPersonDataset"
      ],
      "metadata": {
        "id": "1Oj5gWDxGlWC"
      },
      "execution_count": 116,
      "outputs": []
    },
    {
      "cell_type": "code",
      "source": [
        "# List the extracted content from both datasets\n",
        "#gtFine_Files = os.listdir(gtFine_ExtPath)\n",
        "gtFinepano_Files = os.listdir(gtFinePano_ExtPath)\n",
        "gtBbox_Files = os.listdir(gtBbox_ExtPath)\n",
        "\n",
        "#gtFine_Files,\n",
        "gtFinepano_Files, gtBbox_Files"
      ],
      "metadata": {
        "colab": {
          "base_uri": "https://localhost:8080/"
        },
        "id": "lduNoByR85Kk",
        "outputId": "ca427d98-08d8-40d7-a10d-9fe884a99cf5"
      },
      "execution_count": 119,
      "outputs": [
        {
          "output_type": "execute_result",
          "data": {
            "text/plain": [
              "(['license.txt', 'README_panopticParts.md', 'gtFinePanopticParts'],\n",
              " ['license.txt', 'gtBboxCityPersons', 'README_cityPersons'])"
            ]
          },
          "metadata": {},
          "execution_count": 119
        }
      ]
    },
    {
      "cell_type": "code",
      "source": [
        "# Path to core folder\n",
        "#gtFine_CorePath = os.path.join(gtFine_ExtPath, 'gtFine')\n",
        "gtFinePano_CorePath = os.path.join(gtFinePano_ExtPath, 'gtFinePanopticParts')\n",
        "gtBbox_CorePath = os.path.join(gtBbox_ExtPath, 'gtBboxCityPersons')\n",
        "\n",
        "# List driectories inside core folders\n",
        "#gtFine_Dirs = os.listdir(gtFine_CorePath) if os.path.exists(gtFine_CorePath) else []\n",
        "gtFinePano_Dirs = os.listdir(gtFinePano_CorePath) if os.path.exists(gtFinePano_CorePath) else []\n",
        "gtBbox_Dirs = os.listdir(gtBbox_CorePath) if os.path.exists(gtBbox_CorePath) else []\n",
        "\n",
        "#gtFine_Dirs,\n",
        "gtFinePano_Dirs, gtBbox_Dirs"
      ],
      "metadata": {
        "colab": {
          "base_uri": "https://localhost:8080/"
        },
        "id": "veOwW1vp9Tf8",
        "outputId": "4dfea2c1-0e94-44d8-aba0-7c7fe3116217"
      },
      "execution_count": 120,
      "outputs": [
        {
          "output_type": "execute_result",
          "data": {
            "text/plain": [
              "(['train', 'val'], ['train', 'val'])"
            ]
          },
          "metadata": {},
          "execution_count": 120
        }
      ]
    },
    {
      "cell_type": "code",
      "source": [
        "# Define the subdirectories\n",
        "subdirs = gtBbox_Dirs #[\"train\", \"val\", \"test\"]\n",
        "\n",
        "# Initialize dictionaries to store samples from each subdirectory\n",
        "#gtFine_CityFolders = {}\n",
        "gtFinePano_CityFolders = {}\n",
        "gtBbox_CityFolders = {}\n",
        "\n",
        "# Process each subdirectory\n",
        "for subdir in subdirs:\n",
        "    #gtFine_CityFolders[subdir] = os.listdir(os.path.join(gtFine_CorePath, subdir)) if subdir in gtFine_Dirs else []\n",
        "    gtFinePano_CityFolders[subdir] = os.listdir(os.path.join(gtFinePano_CorePath, subdir)) if subdir in gtFinePano_Dirs else []\n",
        "    gtBbox_CityFolders[subdir] = os.listdir(os.path.join(gtBbox_CorePath, subdir)) if subdir in gtBbox_Dirs else []\n",
        "\n",
        "# Output the first few files for each subdirectory\n",
        "#gtFine_CityFolders_Preview = {key: value[:] for key, value in gtFine_CityFolders.items()}\n",
        "gtFinePano_CityFolders_Preview = {key: value[:] for key, value in gtFinePano_CityFolders.items()}\n",
        "gtBbox_CityFolders_Preview = {key: value[:] for key, value in gtBbox_CityFolders.items()}\n",
        "\n",
        "#gtFine_CityFolders_Preview,\n",
        "gtFinePano_CityFolders_Preview, gtBbox_CityFolders_Preview"
      ],
      "metadata": {
        "colab": {
          "base_uri": "https://localhost:8080/"
        },
        "id": "zIBRhfJF-cFb",
        "outputId": "a057dcf3-0db1-4511-b7f1-53bc95390746"
      },
      "execution_count": 121,
      "outputs": [
        {
          "output_type": "execute_result",
          "data": {
            "text/plain": [
              "({'train': ['zurich',\n",
              "   'hanover',\n",
              "   'bochum',\n",
              "   'bremen',\n",
              "   'aachen',\n",
              "   'cologne',\n",
              "   'hamburg',\n",
              "   'darmstadt',\n",
              "   'erfurt',\n",
              "   'tubingen',\n",
              "   'jena',\n",
              "   'dusseldorf',\n",
              "   'krefeld',\n",
              "   'strasbourg',\n",
              "   'monchengladbach',\n",
              "   'ulm',\n",
              "   'stuttgart',\n",
              "   'weimar'],\n",
              "  'val': ['lindau', 'frankfurt', 'munster']},\n",
              " {'train': ['zurich',\n",
              "   'hanover',\n",
              "   'bochum',\n",
              "   'bremen',\n",
              "   'aachen',\n",
              "   'cologne',\n",
              "   'hamburg',\n",
              "   'darmstadt',\n",
              "   'erfurt',\n",
              "   'tubingen',\n",
              "   'jena',\n",
              "   'dusseldorf',\n",
              "   'krefeld',\n",
              "   'strasbourg',\n",
              "   'monchengladbach',\n",
              "   'ulm',\n",
              "   'stuttgart',\n",
              "   'weimar'],\n",
              "  'val': ['lindau', 'frankfurt', 'munster']})"
            ]
          },
          "metadata": {},
          "execution_count": 121
        }
      ]
    },
    {
      "cell_type": "code",
      "source": [
        "# Count the distribution of file types in a given directory\n",
        "def count_file_types(directory):\n",
        "    if not os.path.exists(directory):\n",
        "      print(f\"Error: Directory '{directory}' not found.\")\n",
        "      return None\n",
        "\n",
        "    file_type_counts = Counter()\n",
        "    for root, _, files in os.walk(directory):\n",
        "        for file in files:\n",
        "            ext = os.path.splitext(file)[-1].lower()\n",
        "            file_type_counts[ext] += 1\n",
        "    return file_type_counts\n",
        "\n",
        "# # File type distribution for gtFine dataset\n",
        "# print(\"File Type Distribution in gtFine Dataset:\")\n",
        "# gtFine_file_types = count_file_types(gtFine_CorePath)\n",
        "# print(pd.DataFrame(gtFine_file_types.items(), columns=[\"File Type\", \"Count\"]))\n",
        "\n",
        "# Analyze file type distribution for gtFinePanopticParts dataset\n",
        "print(\"\\nFile Type Distribution in gtFinePanopticParts Dataset:\")\n",
        "gtFinePano_file_types = count_file_types(gtFinePano_CorePath)\n",
        "print(pd.DataFrame(gtFinePano_file_types.items(), columns=[\"File Type\", \"Count\"]))\n",
        "\n",
        "# Analyze file type distribution for gtBboxCityPersons dataset\n",
        "print(\"\\nFile Type Distribution in gtBboxCityPersons Dataset:\")\n",
        "gtBbox_file_types = count_file_types(gtBbox_CorePath)\n",
        "print(pd.DataFrame(gtBbox_file_types.items(), columns=[\"File Type\", \"Count\"]))"
      ],
      "metadata": {
        "colab": {
          "base_uri": "https://localhost:8080/"
        },
        "id": "1Vd9wuN4-nJE",
        "outputId": "c7f9e856-0936-466f-ad91-50c2ec10aadb"
      },
      "execution_count": 122,
      "outputs": [
        {
          "output_type": "stream",
          "name": "stdout",
          "text": [
            "\n",
            "File Type Distribution in gtFinePanopticParts Dataset:\n",
            "  File Type  Count\n",
            "0      .tif   3475\n",
            "\n",
            "File Type Distribution in gtBboxCityPersons Dataset:\n",
            "  File Type  Count\n",
            "0     .json   3475\n"
          ]
        }
      ]
    },
    {
      "cell_type": "code",
      "source": [
        "# Function to convert files with .tif format to .jpg format\n",
        "def convert_and_copy_images(src_dir, dest_dir):\n",
        "    # Create the destination directory if it doesn't exist\n",
        "    if not os.path.exists(dest_dir):\n",
        "        os.makedirs(dest_dir)\n",
        "\n",
        "    # Walk through all folders and subfolders in the source directory\n",
        "    for root, dirs, files in os.walk(src_dir):\n",
        "        for file in files:\n",
        "            # Process only .tif files\n",
        "            if file.lower().endswith('.tif'):\n",
        "                # Full path to the .tif image\n",
        "                file_path = os.path.join(root, file)\n",
        "\n",
        "                # Open the .tif image and convert it to .jpg\n",
        "                with Image.open(file_path) as img:\n",
        "                    # Change the file extension to .jpg\n",
        "                    new_file_name = os.path.splitext(file)[0] + '.jpg'\n",
        "                    new_file_path = os.path.join(dest_dir, new_file_name)\n",
        "\n",
        "                    # Convert and save as .jpg in the destination directory\n",
        "                    img.convert(\"RGB\").save(new_file_path, \"JPEG\")\n",
        "# Example usage\n",
        "source_folder = '/content/CityPersonDataset/gtFinePanopticParts_trainval/gtFinePanopticParts/train'\n",
        "destination_folder = '/content/gtFinePanopticParts_trainval/gtFinePanopticParts/train/images'\n",
        "convert_and_copy_images(source_folder, destination_folder)"
      ],
      "metadata": {
        "id": "GVRUcXZSHNxG"
      },
      "execution_count": 125,
      "outputs": []
    },
    {
      "cell_type": "code",
      "source": [
        "def convert_and_copy_images(src_dir, dest_dir):\n",
        "    # Create the destination directory if it doesn't exist\n",
        "    if not os.path.exists(dest_dir):\n",
        "        os.makedirs(dest_dir)\n",
        "\n",
        "    # Walk through all folders and subfolders in the source directory\n",
        "    for root, dirs, files in os.walk(src_dir):\n",
        "        for file in files:\n",
        "            # Process only .tif files\n",
        "            if file.lower().endswith('.tif'):\n",
        "                # Full path to the .tif image\n",
        "                file_path = os.path.join(root, file)\n",
        "\n",
        "                # Open the .tif image and convert it to .jpg\n",
        "                with Image.open(file_path) as img:\n",
        "                    # Change the file extension to .jpg\n",
        "                    new_file_name = os.path.splitext(file)[0] + '.jpg'\n",
        "                    new_file_path = os.path.join(dest_dir, new_file_name)\n",
        "\n",
        "                    # Convert and save as .jpg in the destination directory\n",
        "                    img.convert(\"RGB\").save(new_file_path, \"JPEG\")\n",
        "# Example usage\n",
        "source_folder = '/kaggle/input/city-persone/gtFinePanopticParts_trainval/gtFinePanopticParts/val'\n",
        "destination_folder = '/kaggle/working/gtFinePanopticParts/val/images'\n",
        "convert_and_copy_images(source_folder, destination_folder)"
      ],
      "metadata": {
        "id": "GHL73WG8JXc_"
      },
      "execution_count": null,
      "outputs": []
    },
    {
      "cell_type": "code",
      "source": [
        "#%rm -rf /content/gtBbox_cityPersons_trainval"
      ],
      "metadata": {
        "id": "GN9J7VE7IUkE"
      },
      "execution_count": 124,
      "outputs": []
    },
    {
      "cell_type": "markdown",
      "source": [
        "######################################################################\n",
        "######################################################################\n",
        "######################################################################"
      ],
      "metadata": {
        "id": "EbB7Uju-G-4R"
      }
    },
    {
      "cell_type": "code",
      "source": [
        "# # Dataset zip files path from Google Drive\n",
        "# #gtFine_Org = '/content/drive/MyDrive/CityPersonDataset/gtFine_trainvaltest.zip'\n",
        "# gtFinePanopticParts_Org = '/content/drive/MyDrive/CityPersonDataset/gtFinePanopticParts_trainval.zip'\n",
        "# gtBbox_Org = '/content/drive/MyDrive/CityPersonDataset/gtBbox_cityPersons_trainval.zip'\n",
        "\n",
        "# #gtFine_Org_ExtPath = '/content/CityPersonDataset_Org/gtFine_trainvaltest'\n",
        "# gtFinePano_ChangedFormat_ExtPath = '/content/CityPersonDataset_ChangedFormat/gtFinePanopticParts_trainval'\n",
        "# gtBbox_ChangedFormat_ExtPath = '/content/CityPersonDataset_ChangedFormat/gtBbox_cityPersons_trainval'"
      ],
      "metadata": {
        "id": "joTJjoTyVgi4"
      },
      "execution_count": 90,
      "outputs": []
    },
    {
      "cell_type": "code",
      "source": [
        "# %rm -rf /content/CityPersonDataset_ChangedFormat"
      ],
      "metadata": {
        "id": "RFxzTks7gwIK"
      },
      "execution_count": 113,
      "outputs": []
    },
    {
      "cell_type": "code",
      "source": [
        "# Extract both datasets zip files\n",
        "# extract_zip(gtFine_Org, gtFine_ExtPath)\n",
        "extract_zip(gtFinePanopticParts_Org, gtFinePano_ChangedFormat_ExtPath)\n",
        "extract_zip(gtBbox_Org, gtBbox_ChangedFormat_ExtPath)"
      ],
      "metadata": {
        "id": "_bLhX_uEWDWJ"
      },
      "execution_count": 92,
      "outputs": []
    },
    {
      "cell_type": "code",
      "source": [
        "# Path to core folder\n",
        "# gtFine_Org_CorePath = os.path.join(gtFine_Org_ExtPath, 'gtFine')\n",
        "gtFinePano_ChangedFormat_CorePath = os.path.join(gtFinePano_ChangedFormat_ExtPath, 'gtFinePanopticParts')\n",
        "gtBbox_ChangedFormat_CorePath = os.path.join(gtBbox_ChangedFormat_ExtPath, 'gtBboxCityPersons')"
      ],
      "metadata": {
        "id": "QHGnf87mW0bh"
      },
      "execution_count": 93,
      "outputs": []
    },
    {
      "cell_type": "code",
      "source": [
        "gtFinePano_ChangedFormat_CorePath, gtBbox_ChangedFormat_CorePath"
      ],
      "metadata": {
        "colab": {
          "base_uri": "https://localhost:8080/"
        },
        "id": "zRXi6GEZffH5",
        "outputId": "a0bae1ff-a668-4a83-a3a7-9406738ee9ab"
      },
      "execution_count": 94,
      "outputs": [
        {
          "output_type": "execute_result",
          "data": {
            "text/plain": [
              "('/content/CityPersonDataset_ChangedFormat/gtFinePanopticParts_trainval/gtFinePanopticParts',\n",
              " '/content/CityPersonDataset_ChangedFormat/gtBbox_cityPersons_trainval/gtBboxCityPersons')"
            ]
          },
          "metadata": {},
          "execution_count": 94
        }
      ]
    },
    {
      "cell_type": "code",
      "source": [
        "# List driectories inside core folders\n",
        "#gtFine_Dirs = os.listdir(gtFine_CorePath) if os.path.exists(gtFine_CorePath) else []\n",
        "gtFinePano_ChangedFormat_Dirs = os.listdir(gtFinePano_ChangedFormat_CorePath) if os.path.exists(gtFinePano_ChangedFormat_CorePath) else []\n",
        "gtBbox_ChangedFormat_Dirs = os.listdir(gtBbox_ChangedFormat_CorePath) if os.path.exists(gtBbox_ChangedFormat_CorePath) else []\n",
        "\n",
        "#gtFine_Dirs,\n",
        "gtFinePano_ChangedFormat_Dirs, gtBbox_ChangedFormat_Dirs"
      ],
      "metadata": {
        "colab": {
          "base_uri": "https://localhost:8080/"
        },
        "id": "90KP2eaSc5IJ",
        "outputId": "853e497d-b2c4-47fa-8116-06f5773ba664"
      },
      "execution_count": 95,
      "outputs": [
        {
          "output_type": "execute_result",
          "data": {
            "text/plain": [
              "(['train', 'val'], ['train', 'val'])"
            ]
          },
          "metadata": {},
          "execution_count": 95
        }
      ]
    },
    {
      "cell_type": "code",
      "source": [
        "##############################################\n",
        "# # File type distribution for gtFine dataset\n",
        "# print(\"File Type Distribution in gtFine Dataset:\")\n",
        "# gtFine_file_types = count_file_types(gtFine_CorePath)\n",
        "# print(pd.DataFrame(gtFine_file_types.items(), columns=[\"File Type\", \"Count\"]))\n",
        "\n",
        "# Analyze file type distribution for gtFinePanopticParts dataset\n",
        "print(\"\\nFile Type Distribution in gtFinePanopticParts Dataset:\")\n",
        "gtFinePano_ChangedFormat_file_types = count_file_types(gtFinePano_ChangedFormat_CorePath)\n",
        "print(pd.DataFrame(gtFinePano_ChangedFormat_file_types.items(), columns=[\"File Type\", \"Count\"]))\n",
        "\n",
        "# Analyze file type distribution for gtBboxCityPersons dataset\n",
        "print(\"\\nFile Type Distribution in gtBboxCityPersons Dataset:\")\n",
        "gtBbox_ChangedFormat_file_types = count_file_types(gtBbox_ChangedFormat_CorePath)\n",
        "print(pd.DataFrame(gtBbox_ChangedFormat_file_types.items(), columns=[\"File Type\", \"Count\"]))"
      ],
      "metadata": {
        "colab": {
          "base_uri": "https://localhost:8080/"
        },
        "id": "aiWIINRTdh7J",
        "outputId": "9bfc0e3d-1452-4701-82b0-652d07a199ca"
      },
      "execution_count": 96,
      "outputs": [
        {
          "output_type": "stream",
          "name": "stdout",
          "text": [
            "\n",
            "File Type Distribution in gtFinePanopticParts Dataset:\n",
            "  File Type  Count\n",
            "0      .tif   3475\n",
            "\n",
            "File Type Distribution in gtBboxCityPersons Dataset:\n",
            "  File Type  Count\n",
            "0     .json   3475\n"
          ]
        }
      ]
    },
    {
      "cell_type": "code",
      "source": [
        "# Define the subdirectories\n",
        "subdirs = gtBbox_ChangedFormat_Dirs #[\"train\", \"val\", \"test\"]\n",
        "\n",
        "# Initialize dictionaries to store samples from each subdirectory\n",
        "#gtFine_CityFolders = {}\n",
        "gtFinePano_ChangedFormat_CityFolders = {}\n",
        "gtBbox_ChangedFormat_CityFolders = {}\n",
        "\n",
        "# Process each subdirectory\n",
        "for subdir in subdirs:\n",
        "    #gtFine_CityFolders[subdir] = os.listdir(os.path.join(gtFine_CorePath, subdir)) if subdir in gtFine_Dirs else []\n",
        "    gtFinePano_ChangedFormat_CityFolders[subdir] = os.listdir(os.path.join(gtFinePano_ChangedFormat_CorePath, subdir)) if subdir in gtFinePano_Dirs else []\n",
        "    gtBbox_ChangedFormat_CityFolders[subdir] = os.listdir(os.path.join(gtBbox_ChangedFormat_CorePath, subdir)) if subdir in gtBbox_Dirs else []\n",
        "\n",
        "# Output the first few files for each subdirectory\n",
        "#gtFine_CityFolders_Preview = {key: value[:] for key, value in gtFine_CityFolders.items()}\n",
        "gtFinePano_ChangedFormat_CityFolders_Preview = {key: value[:] for key, value in gtFinePano_ChangedFormat_CityFolders.items()}\n",
        "gtBbox_ChangedFormat_CityFolders_Preview = {key: value[:] for key, value in gtBbox_ChangedFormat_CityFolders.items()}\n",
        "\n",
        "#gtFine_CityFolders_Preview,\n",
        "gtFinePano_ChangedFormat_CityFolders_Preview, gtBbox_ChangedFormat_CityFolders_Preview"
      ],
      "metadata": {
        "colab": {
          "base_uri": "https://localhost:8080/"
        },
        "id": "L0j5n4i3fSBT",
        "outputId": "3f33a694-96e1-41a6-d98a-9202a4605d49"
      },
      "execution_count": 97,
      "outputs": [
        {
          "output_type": "execute_result",
          "data": {
            "text/plain": [
              "({'train': ['zurich',\n",
              "   'hanover',\n",
              "   'bochum',\n",
              "   'bremen',\n",
              "   'aachen',\n",
              "   'cologne',\n",
              "   'hamburg',\n",
              "   'darmstadt',\n",
              "   'erfurt',\n",
              "   'tubingen',\n",
              "   'jena',\n",
              "   'dusseldorf',\n",
              "   'krefeld',\n",
              "   'strasbourg',\n",
              "   'monchengladbach',\n",
              "   'ulm',\n",
              "   'stuttgart',\n",
              "   'weimar'],\n",
              "  'val': ['lindau', 'frankfurt', 'munster']},\n",
              " {'train': ['zurich',\n",
              "   'hanover',\n",
              "   'bochum',\n",
              "   'bremen',\n",
              "   'aachen',\n",
              "   'cologne',\n",
              "   'hamburg',\n",
              "   'darmstadt',\n",
              "   'erfurt',\n",
              "   'tubingen',\n",
              "   'jena',\n",
              "   'dusseldorf',\n",
              "   'krefeld',\n",
              "   'strasbourg',\n",
              "   'monchengladbach',\n",
              "   'ulm',\n",
              "   'stuttgart',\n",
              "   'weimar'],\n",
              "  'val': ['lindau', 'frankfurt', 'munster']})"
            ]
          },
          "metadata": {},
          "execution_count": 97
        }
      ]
    },
    {
      "cell_type": "code",
      "source": [
        "# # Convert .json to .txt\n",
        "# def convert_json_to_txt(directory):\n",
        "#     for root, _, files in tqdm(os.walk(directory), desc=\"Converting JSON to TXT\"):\n",
        "#         for file in files:\n",
        "#             if file.endswith(\".json\"):\n",
        "#                 json_path = os.path.join(root, file)\n",
        "#                 txt_path = os.path.join(root, file.replace(\".json\", \".txt\"))\n",
        "\n",
        "#                 with open(json_path, \"r\", encoding=\"utf-8\") as json_file:\n",
        "#                     data = json.load(json_file)\n",
        "\n",
        "#                 with open(txt_path, \"w\", encoding=\"utf-8\") as txt_file:\n",
        "#                     txt_file.write(json.dumps(data, indent=4))  # Save JSON content in readable format\n",
        "\n",
        "#                 os.remove(json_path)  # Remove original JSON file\n",
        "\n",
        "# # Run conversions\n",
        "# convert_json_to_txt(gtBbox_ChangedFormat_CorePath)"
      ],
      "metadata": {
        "id": "OYulDLYEhYrF"
      },
      "execution_count": 98,
      "outputs": []
    },
    {
      "cell_type": "code",
      "source": [
        "# Function to convert .tif to .jpg\n",
        "def convert_tif_to_jpg(directory):\n",
        "    for root, _, files in tqdm(os.walk(directory), desc=\"Converting TIF to JPG\"):\n",
        "        for file in files:\n",
        "            if file.endswith(\".tif\"):\n",
        "                tif_path = os.path.join(root, file)\n",
        "                jpg_path = os.path.join(root, file.replace(\".tif\", \".jpg\"))\n",
        "\n",
        "                try:\n",
        "                    # Open image with PIL\n",
        "                    image = Image.open(tif_path)\n",
        "\n",
        "                    # Convert to RGB (if needed) and save as JPG\n",
        "                    image.convert(\"RGB\").save(jpg_path, \"JPEG\", quality=95)\n",
        "                    os.remove(tif_path)  # Remove the original .tif file\n",
        "                except Exception as e:\n",
        "                    print(f\"Failed to convert: {tif_path}, Error: {e}\")\n",
        "\n",
        "# Run conversion\n",
        "convert_tif_to_jpg(gtFinePano_ChangedFormat_CorePath)"
      ],
      "metadata": {
        "colab": {
          "base_uri": "https://localhost:8080/"
        },
        "id": "w65vDh2ri7kN",
        "outputId": "112c123a-7e12-4912-a1f1-f5b799d2bb6c"
      },
      "execution_count": 99,
      "outputs": [
        {
          "output_type": "stream",
          "name": "stderr",
          "text": [
            "Converting TIF to JPG: 24it [03:54,  9.75s/it]\n"
          ]
        }
      ]
    },
    {
      "cell_type": "code",
      "source": [
        "# Parse a JSON annotation file function\n",
        "def parse_json_file(json_path):\n",
        "    with open(json_path, 'r') as file:\n",
        "        data = json.load(file)\n",
        "    print(\"Keys in JSON file:\", data.keys())\n",
        "    return data\n",
        "\n",
        "# Create a list of all JSON files from gtFine\n",
        "def get_json_files(directory):\n",
        "    json_files = []\n",
        "    for root, dirs, files in os.walk(directory):\n",
        "        for file in files:\n",
        "            if file.endswith('.json'):\n",
        "                json_files.append(os.path.join(root, file))\n",
        "    return json_files\n",
        "\n",
        "gtBbox_json_files = get_json_files(gtBbox_ChangedFormat_CorePath)\n",
        "#gtBbox_json_files"
      ],
      "metadata": {
        "id": "yz1LaLeV9gBl"
      },
      "execution_count": 100,
      "outputs": []
    },
    {
      "cell_type": "code",
      "source": [
        "# Randomly select a JSON file from gtBbox\n",
        "if not gtBbox_json_files:\n",
        "    print(\"No JSON files found in gtFine dataset.\")\n",
        "else:\n",
        "    sample_json = random.choice(gtBbox_json_files)\n",
        "    print(f\"Randomly Selected JSON file: {sample_json}\")\n",
        "    sample_gtBbox_data = parse_json_file(sample_json)\n",
        "\n",
        "    # Derive the corresponding .tif file path in gtFinePanopticParts\n",
        "    json_filename = os.path.basename(sample_json)\n",
        "    jpg_filename = json_filename.replace('_gtBboxCityPersons.json', '_gtFinePanopticParts.jpg')\n",
        "\n",
        "    jpg_file_path = None\n",
        "    for root, _, files in os.walk(gtFinePano_ChangedFormat_CorePath):\n",
        "        for file in files:\n",
        "            if file == jpg_filename:\n",
        "                jpg_file_path = os.path.join(root, file)\n",
        "                break\n",
        "        if jpg_file_path:\n",
        "            break\n",
        "\n",
        "    # Visualize the .jpg file if it exists\n",
        "    if jpg_file_path:\n",
        "        print(f\"Corresponding JPG file: {jpg_file_path}\")\n",
        "        jpg_image = Image.open(jpg_file_path)\n",
        "        plt.imshow(jpg_image)\n",
        "        plt.title(\"Visualizing JPG File\")\n",
        "        plt.axis('off')  # Turn off axis for better visualization\n",
        "        plt.show()\n",
        "    else:\n",
        "        print(f\"No corresponding JPG file found for {sample_json}\")"
      ],
      "metadata": {
        "colab": {
          "base_uri": "https://localhost:8080/",
          "height": 379
        },
        "id": "8fnCjM5o9ip1",
        "outputId": "066dbf33-1b35-4aee-9a7d-938b615c3007"
      },
      "execution_count": 102,
      "outputs": [
        {
          "output_type": "stream",
          "name": "stdout",
          "text": [
            "Randomly Selected JSON file: /content/CityPersonDataset_ChangedFormat/gtBbox_cityPersons_trainval/gtBboxCityPersons/train/darmstadt/darmstadt_000021_000019_gtBboxCityPersons.json\n",
            "Keys in JSON file: dict_keys(['imgHeight', 'imgWidth', 'objects'])\n",
            "Corresponding JPG file: /content/CityPersonDataset_ChangedFormat/gtFinePanopticParts_trainval/gtFinePanopticParts/train/darmstadt/darmstadt_000021_000019_gtFinePanopticParts.jpg\n"
          ]
        },
        {
          "output_type": "display_data",
          "data": {
            "text/plain": [
              "<Figure size 640x480 with 1 Axes>"
            ],
            "image/png": "[encoded data removed]"
          },
          "metadata": {}
        }
      ]
    },
    {
      "cell_type": "code",
      "source": [
        "# # Parse a TXT annotation file function\n",
        "# def parse_txt_file(txt_path):\n",
        "#     with open(txt_path, 'r') as file:\n",
        "#         data = file.readlines()\n",
        "#     print(\"Contents of TXT file:\")\n",
        "#     for line in data[:5]:  # Print first 10 lines for preview\n",
        "#         print(line.strip())\n",
        "#     return data\n",
        "\n",
        "# # Create a list of all TXT files from gtBbox\n",
        "# def get_txt_files(directory):\n",
        "#     txt_files = []\n",
        "#     for root, dirs, files in os.walk(directory):\n",
        "#         for file in files:\n",
        "#             if file.endswith('.txt'):\n",
        "#                 txt_files.append(os.path.join(root, file))\n",
        "#     return txt_files\n",
        "\n",
        "# gtBbox_txt_files = get_txt_files(gtBbox_ChangedFormat_CorePath)\n",
        "# #gtBbox_txt_files"
      ],
      "metadata": {
        "id": "5Hvh9LZdlliX"
      },
      "execution_count": 103,
      "outputs": []
    },
    {
      "cell_type": "code",
      "source": [
        "# # Randomly select a TXT file from gtBbox\n",
        "# if not gtBbox_txt_files:\n",
        "#     print(\"No TXT files found in gtBbox dataset.\")\n",
        "# else:\n",
        "#     sample_txt = random.choice(gtBbox_txt_files)\n",
        "#     print(f\"Randomly Selected TXT file: {sample_txt}\")\n",
        "#     sample_gtBbox_data = parse_txt_file(sample_txt)\n",
        "\n",
        "#     # Derive the corresponding .jpg file path in gtFinePanopticParts\n",
        "#     txt_filename = os.path.basename(sample_txt)\n",
        "#     jpg_filename = txt_filename.replace('_gtBboxCityPersons.txt', '_gtFinePanopticParts.jpg')\n",
        "\n",
        "#     jpg_file_path = None\n",
        "#     for root, _, files in os.walk(gtFinePano_ChangedFormat_CorePath):\n",
        "#         for file in files:\n",
        "#             if file == jpg_filename:\n",
        "#                 jpg_file_path = os.path.join(root, file)\n",
        "#                 break\n",
        "#         if jpg_file_path:\n",
        "#             break\n",
        "\n",
        "#     # Visualize the .jpg file if it exists\n",
        "#     if jpg_file_path:\n",
        "#         print(f\"Corresponding JPG file: {jpg_file_path}\")\n",
        "#         jpg_image = Image.open(jpg_file_path)\n",
        "#         plt.imshow(jpg_image)\n",
        "#         plt.title(\"Visualizing JPG File\")\n",
        "#         plt.axis('off')  # Turn off axis for better visualization\n",
        "#         plt.show()\n",
        "#     else:\n",
        "#         print(f\"No corresponding JPG file found for {sample_txt}\")"
      ],
      "metadata": {
        "id": "ZoATMxHDlezT"
      },
      "execution_count": 104,
      "outputs": []
    },
    {
      "cell_type": "code",
      "source": [
        "# Define dataset class for CityPersons\n",
        "class CityPersonsDataset(Dataset):\n",
        "    def __init__(self, image_root, annotation_root, transform=None):\n",
        "        self.image_root = image_root\n",
        "        self.annotation_root = annotation_root\n",
        "        self.transform = transform\n",
        "        self.image_paths = []\n",
        "        self.annotation_paths = []\n",
        "\n",
        "        # Walk through city-wise subdirectories\n",
        "        for subset in [\"train\", \"val\"]:\n",
        "            subset_image_path = os.path.join(image_root, subset)\n",
        "            subset_annotation_path = os.path.join(annotation_root, subset)\n",
        "\n",
        "            for city in os.listdir(subset_image_path):\n",
        "                city_image_dir = os.path.join(subset_image_path, city)\n",
        "                city_annotation_dir = os.path.join(subset_annotation_path, city)\n",
        "\n",
        "                if os.path.isdir(city_image_dir):\n",
        "                    for file in os.listdir(city_image_dir):\n",
        "                        if file.endswith(\"_gtFinePanopticParts.jpg\"):\n",
        "                            image_path = os.path.join(city_image_dir, file)\n",
        "                            annotation_path = os.path.join(city_annotation_dir, file.replace(\"_gtFinePanopticParts.jpg\", \"_gtBboxCityPersons.json\"))\n",
        "\n",
        "                            if os.path.exists(annotation_path):\n",
        "                                self.image_paths.append(image_path)\n",
        "                                self.annotation_paths.append(annotation_path)\n",
        "\n",
        "    def __len__(self):\n",
        "        return len(self.image_paths)\n",
        "\n",
        "    def __getitem__(self, idx):\n",
        "        image = Image.open(self.image_paths[idx]).convert(\"RGB\")\n",
        "        with open(self.annotation_paths[idx], 'r') as f:\n",
        "            annotation = json.load(f)\n",
        "\n",
        "        # Extract bounding boxes and labels\n",
        "        boxes = []\n",
        "        labels = []\n",
        "        for obj in annotation[\"objects\"]:\n",
        "            if obj[\"label\"] == \"pedestrian\":\n",
        "                x, y, w, h = obj[\"bbox\"]\n",
        "                boxes.append([x, y, x + w, y + h])\n",
        "                labels.append(1)  # Label 1 for pedestrian\n",
        "\n",
        "        target = {\"boxes\": torch.tensor(boxes, dtype=torch.float32),\n",
        "                  \"labels\": torch.tensor(labels, dtype=torch.int64)}\n",
        "\n",
        "        if self.transform:\n",
        "            image = self.transform(image)\n",
        "\n",
        "        return image, target"
      ],
      "metadata": {
        "id": "FzBe_nk5_Sfm"
      },
      "execution_count": 105,
      "outputs": []
    },
    {
      "cell_type": "code",
      "source": [
        "# Define transforms\n",
        "transform = transforms.Compose([\n",
        "    transforms.Resize((512, 512)),\n",
        "    transforms.ToTensor()\n",
        "])"
      ],
      "metadata": {
        "id": "cFMsHIJx_w-7"
      },
      "execution_count": 106,
      "outputs": []
    },
    {
      "cell_type": "code",
      "source": [
        "# Load dataset\n",
        "image_root = \"/content/CityPersonDataset_ChangedFormat/gtFinePanopticParts_trainval/gtFinePanopticParts\"\n",
        "annotation_root = \"/content/CityPersonDataset_ChangedFormat/gtBbox_cityPersons_trainval/gtBboxCityPersons\"\n",
        "dataset = CityPersonsDataset(image_root, annotation_root, transform)\n",
        "dataloader = DataLoader(dataset, batch_size=8, shuffle=True, collate_fn=lambda x: tuple(zip(*x)))"
      ],
      "metadata": {
        "id": "gIsGtC2i_0-l"
      },
      "execution_count": 107,
      "outputs": []
    },
    {
      "cell_type": "code",
      "source": [
        "import torchvision.models.detection as detection\n",
        "\n",
        "# Load the SSD model with pretrained weights\n",
        "model = detection.ssd300_vgg16(weights=SSD300_VGG16_Weights.DEFAULT)\n",
        "\n",
        "# Modify the classification head for two classes: Background + Pedestrian\n",
        "num_classes = 2\n",
        "in_features = model.head.classification_head.classifier[0].in_features  # Get input features\n",
        "model.head.classification_head.classifier = torch.nn.Linear(in_features, num_classes)  # Modify classifier\n",
        "\n",
        "print(model)"
      ],
      "metadata": {
        "colab": {
          "base_uri": "https://localhost:8080/",
          "height": 332
        },
        "id": "hEgX-IJmAQB5",
        "outputId": "79284966-d972-4617-89ea-b6328c5afb47"
      },
      "execution_count": 111,
      "outputs": [
        {
          "output_type": "error",
          "ename": "AttributeError",
          "evalue": "'SSDClassificationHead' object has no attribute 'classifier'",
          "traceback": [
            "\u001b[0;31m---------------------------------------------------------------------------\u001b[0m",
            "\u001b[0;31mAttributeError\u001b[0m                            Traceback (most recent call last)",
            "\u001b[0;32m<ipython-input-111-8ed4dc3391a5>\u001b[0m in \u001b[0;36m<cell line: 0>\u001b[0;34m()\u001b[0m\n\u001b[1;32m      6\u001b[0m \u001b[0;31m# Modify the classification head for two classes: Background + Pedestrian\u001b[0m\u001b[0;34m\u001b[0m\u001b[0;34m\u001b[0m\u001b[0m\n\u001b[1;32m      7\u001b[0m \u001b[0mnum_classes\u001b[0m \u001b[0;34m=\u001b[0m \u001b[0;36m2\u001b[0m\u001b[0;34m\u001b[0m\u001b[0;34m\u001b[0m\u001b[0m\n\u001b[0;32m----> 8\u001b[0;31m \u001b[0min_features\u001b[0m \u001b[0;34m=\u001b[0m \u001b[0mmodel\u001b[0m\u001b[0;34m.\u001b[0m\u001b[0mhead\u001b[0m\u001b[0;34m.\u001b[0m\u001b[0mclassification_head\u001b[0m\u001b[0;34m.\u001b[0m\u001b[0mclassifier\u001b[0m\u001b[0;34m[\u001b[0m\u001b[0;36m0\u001b[0m\u001b[0;34m]\u001b[0m\u001b[0;34m.\u001b[0m\u001b[0min_features\u001b[0m  \u001b[0;31m# Get input features\u001b[0m\u001b[0;34m\u001b[0m\u001b[0;34m\u001b[0m\u001b[0m\n\u001b[0m\u001b[1;32m      9\u001b[0m \u001b[0mmodel\u001b[0m\u001b[0;34m.\u001b[0m\u001b[0mhead\u001b[0m\u001b[0;34m.\u001b[0m\u001b[0mclassification_head\u001b[0m\u001b[0;34m.\u001b[0m\u001b[0mclassifier\u001b[0m \u001b[0;34m=\u001b[0m \u001b[0mtorch\u001b[0m\u001b[0;34m.\u001b[0m\u001b[0mnn\u001b[0m\u001b[0;34m.\u001b[0m\u001b[0mLinear\u001b[0m\u001b[0;34m(\u001b[0m\u001b[0min_features\u001b[0m\u001b[0;34m,\u001b[0m \u001b[0mnum_classes\u001b[0m\u001b[0;34m)\u001b[0m  \u001b[0;31m# Modify classifier\u001b[0m\u001b[0;34m\u001b[0m\u001b[0;34m\u001b[0m\u001b[0m\n\u001b[1;32m     10\u001b[0m \u001b[0;34m\u001b[0m\u001b[0m\n",
            "\u001b[0;32m/usr/local/lib/python3.11/dist-packages/torch/nn/modules/module.py\u001b[0m in \u001b[0;36m__getattr__\u001b[0;34m(self, name)\u001b[0m\n\u001b[1;32m   1929\u001b[0m             \u001b[0;32mif\u001b[0m \u001b[0mname\u001b[0m \u001b[0;32min\u001b[0m \u001b[0mmodules\u001b[0m\u001b[0;34m:\u001b[0m\u001b[0;34m\u001b[0m\u001b[0;34m\u001b[0m\u001b[0m\n\u001b[1;32m   1930\u001b[0m                 \u001b[0;32mreturn\u001b[0m \u001b[0mmodules\u001b[0m\u001b[0;34m[\u001b[0m\u001b[0mname\u001b[0m\u001b[0;34m]\u001b[0m\u001b[0;34m\u001b[0m\u001b[0;34m\u001b[0m\u001b[0m\n\u001b[0;32m-> 1931\u001b[0;31m         raise AttributeError(\n\u001b[0m\u001b[1;32m   1932\u001b[0m             \u001b[0;34mf\"'{type(self).__name__}' object has no attribute '{name}'\"\u001b[0m\u001b[0;34m\u001b[0m\u001b[0;34m\u001b[0m\u001b[0m\n\u001b[1;32m   1933\u001b[0m         )\n",
            "\u001b[0;31mAttributeError\u001b[0m: 'SSDClassificationHead' object has no attribute 'classifier'"
          ]
        }
      ]
    }
  ]
}