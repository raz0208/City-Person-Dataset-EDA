{
  "nbformat": 4,
  "nbformat_minor": 0,
  "metadata": {
    "colab": {
      "provenance": [],
      "mount_file_id": "1hKXaSws-nzPAss7Kxw66KxT3yCpV6Y9X",
      "authorship_tag": "ABX9TyPZfvnmnBePXbu4N9Uqb7ZR",
      "include_colab_link": true
    },
    "kernelspec": {
      "name": "python3",
      "display_name": "Python 3"
    },
    "language_info": {
      "name": "python"
    }
  },
  "cells": [
    {
      "cell_type": "markdown",
      "metadata": {
        "id": "view-in-github",
        "colab_type": "text"
      },
      "source": [
        "<a href=\"https://colab.research.google.com/github/raz0208/City-Person-Dataset-EDA/blob/main/SSDModelOnCityPersonDataset.ipynb\" target=\"_parent\"><img src=\"https://colab.research.google.com/assets/colab-badge.svg\" alt=\"Open In Colab\"/></a>"
      ]
    },
    {
      "cell_type": "markdown",
      "source": [
        "## SSD (Single Shot MultiBox Detector) Implementation on CityPerson Dataset"
      ],
      "metadata": {
        "id": "SpcMwwi47cW-"
      }
    },
    {
      "cell_type": "markdown",
      "source": [
        "### Step 1: Extract and read the datasets"
      ],
      "metadata": {
        "id": "68o58_lt7t7U"
      }
    },
    {
      "cell_type": "code",
      "execution_count": 24,
      "metadata": {
        "id": "q8zWx5k_7WHP"
      },
      "outputs": [],
      "source": [
        "# import required libraries\n",
        "import os\n",
        "import zipfile\n",
        "import torch\n",
        "import torchvision\n",
        "import cv2\n",
        "import numpy as np\n",
        "import matplotlib.pyplot as plt\n",
        "from PIL import Image\n",
        "from torchvision import transforms\n",
        "from collections import Counter\n",
        "import pandas as pd\n",
        "from torchvision.models.detection.ssd import SSD300_VGG16_Weights"
      ]
    },
    {
      "cell_type": "code",
      "source": [
        "# Dataset zip files path from Google Drive\n",
        "#gtFine = '/content/drive/MyDrive/CityPersonDataset/gtFine_trainvaltest.zip'\n",
        "gtFinePanopticParts = '/content/drive/MyDrive/CityPersonDataset/gtFinePanopticParts_trainval.zip'\n",
        "gtBbox = '/content/drive/MyDrive/CityPersonDataset/gtBbox_cityPersons_trainval.zip'\n",
        "\n",
        "#gtFine_ExtPath = '/content/CityPersonDataset/gtFine_trainvaltest'\n",
        "gtFinePano_ExtPath = '/content/CityPersonDataset/gtFinePanopticParts_trainval'\n",
        "gtBbox_ExtPath = '/content/CityPersonDataset/gtBbox_cityPersons_trainval'"
      ],
      "metadata": {
        "id": "AtIpjkyL8Hyd"
      },
      "execution_count": 14,
      "outputs": []
    },
    {
      "cell_type": "code",
      "source": [
        "# Extracting files function\n",
        "def extract_zip(file_path, extract_path):\n",
        "    if not os.path.exists(extract_path):\n",
        "        os.makedirs(extract_path)\n",
        "    with zipfile.ZipFile(file_path, 'r') as zip_ref:\n",
        "        zip_ref.extractall(extract_path)\n",
        "\n",
        "# Extract both datasets zip files\n",
        "#extract_zip(gtFine, gtFine_ExtPath)\n",
        "extract_zip(gtFinePanopticParts, gtFinePano_ExtPath)\n",
        "extract_zip(gtBbox, gtBbox_ExtPath)"
      ],
      "metadata": {
        "id": "XfjCgI6T8MvR"
      },
      "execution_count": 15,
      "outputs": []
    },
    {
      "cell_type": "code",
      "source": [
        "# List the extracted content from both datasets\n",
        "#gtFine_Files = os.listdir(gtFine_ExtPath)\n",
        "gtFinepano_Files = os.listdir(gtFinePano_ExtPath)\n",
        "gtBbox_Files = os.listdir(gtBbox_ExtPath)\n",
        "\n",
        "#gtFine_Files,\n",
        "gtFinepano_Files, gtBbox_Files"
      ],
      "metadata": {
        "colab": {
          "base_uri": "https://localhost:8080/"
        },
        "id": "lduNoByR85Kk",
        "outputId": "a15a4472-fb0e-45c8-a084-ee7ed7e8efb3"
      },
      "execution_count": 16,
      "outputs": [
        {
          "output_type": "execute_result",
          "data": {
            "text/plain": [
              "(['license.txt', 'README_panopticParts.md', 'gtFinePanopticParts'],\n",
              " ['license.txt', 'README_cityPersons', 'gtBboxCityPersons'])"
            ]
          },
          "metadata": {},
          "execution_count": 16
        }
      ]
    },
    {
      "cell_type": "code",
      "source": [
        "# Path to core folder\n",
        "#gtFine_CorePath = os.path.join(gtFine_ExtPath, 'gtFine')\n",
        "gtFinePano_CorePath = os.path.join(gtFinePano_ExtPath, 'gtFinePanopticParts')\n",
        "gtBbox_CorePath = os.path.join(gtBbox_ExtPath, 'gtBboxCityPersons')\n",
        "\n",
        "# List driectories inside core folders\n",
        "#gtFine_Dirs = os.listdir(gtFine_CorePath) if os.path.exists(gtFine_CorePath) else []\n",
        "gtFinePano_Dirs = os.listdir(gtFinePano_CorePath) if os.path.exists(gtFinePano_CorePath) else []\n",
        "gtBbox_Dirs = os.listdir(gtBbox_CorePath) if os.path.exists(gtBbox_CorePath) else []\n",
        "\n",
        "#gtFine_Dirs,\n",
        "gtFinePano_Dirs, gtBbox_Dirs"
      ],
      "metadata": {
        "colab": {
          "base_uri": "https://localhost:8080/"
        },
        "id": "veOwW1vp9Tf8",
        "outputId": "22fe475e-f383-4bf1-a556-09f76dd88102"
      },
      "execution_count": 17,
      "outputs": [
        {
          "output_type": "execute_result",
          "data": {
            "text/plain": [
              "(['val', 'train'], ['val', 'train'])"
            ]
          },
          "metadata": {},
          "execution_count": 17
        }
      ]
    },
    {
      "cell_type": "code",
      "source": [
        "# Define the subdirectories\n",
        "subdirs = gtBbox_Dirs #[\"train\", \"val\", \"test\"]\n",
        "\n",
        "# Initialize dictionaries to store samples from each subdirectory\n",
        "#gtFine_CityFolders = {}\n",
        "gtFinePano_CityFolders = {}\n",
        "gtBbox_CityFolders = {}\n",
        "\n",
        "# Process each subdirectory\n",
        "for subdir in subdirs:\n",
        "    #gtFine_CityFolders[subdir] = os.listdir(os.path.join(gtFine_CorePath, subdir)) if subdir in gtFine_Dirs else []\n",
        "    gtFinePano_CityFolders[subdir] = os.listdir(os.path.join(gtFinePano_CorePath, subdir)) if subdir in gtFinePano_Dirs else []\n",
        "    gtBbox_CityFolders[subdir] = os.listdir(os.path.join(gtBbox_CorePath, subdir)) if subdir in gtBbox_Dirs else []\n",
        "\n",
        "# Output the first few files for each subdirectory\n",
        "#gtFine_CityFolders_Preview = {key: value[:] for key, value in gtFine_CityFolders.items()}\n",
        "gtFinePano_CityFolders_Preview = {key: value[:] for key, value in gtFinePano_CityFolders.items()}\n",
        "gtBbox_CityFolders_Preview = {key: value[:] for key, value in gtBbox_CityFolders.items()}\n",
        "\n",
        "#gtFine_CityFolders_Preview,\n",
        "gtFinePano_CityFolders_Preview, gtBbox_CityFolders_Preview"
      ],
      "metadata": {
        "colab": {
          "base_uri": "https://localhost:8080/"
        },
        "id": "zIBRhfJF-cFb",
        "outputId": "29928bfc-e600-4393-909f-970ca3aea2ef"
      },
      "execution_count": 21,
      "outputs": [
        {
          "output_type": "execute_result",
          "data": {
            "text/plain": [
              "({'val': ['lindau', 'munster', 'frankfurt'],\n",
              "  'train': ['hanover',\n",
              "   'strasbourg',\n",
              "   'cologne',\n",
              "   'bochum',\n",
              "   'jena',\n",
              "   'hamburg',\n",
              "   'monchengladbach',\n",
              "   'zurich',\n",
              "   'dusseldorf',\n",
              "   'weimar',\n",
              "   'stuttgart',\n",
              "   'erfurt',\n",
              "   'darmstadt',\n",
              "   'bremen',\n",
              "   'aachen',\n",
              "   'tubingen',\n",
              "   'ulm',\n",
              "   'krefeld']},\n",
              " {'val': ['lindau', 'munster', 'frankfurt'],\n",
              "  'train': ['hanover',\n",
              "   'strasbourg',\n",
              "   'cologne',\n",
              "   'bochum',\n",
              "   'jena',\n",
              "   'hamburg',\n",
              "   'monchengladbach',\n",
              "   'zurich',\n",
              "   'dusseldorf',\n",
              "   'weimar',\n",
              "   'stuttgart',\n",
              "   'erfurt',\n",
              "   'darmstadt',\n",
              "   'bremen',\n",
              "   'aachen',\n",
              "   'tubingen',\n",
              "   'ulm',\n",
              "   'krefeld']})"
            ]
          },
          "metadata": {},
          "execution_count": 21
        }
      ]
    },
    {
      "cell_type": "code",
      "source": [
        "# Count the distribution of file types in a given directory\n",
        "def count_file_types(directory):\n",
        "    if not os.path.exists(directory):\n",
        "      print(f\"Error: Directory '{directory}' not found.\")\n",
        "      return None\n",
        "\n",
        "    file_type_counts = Counter()\n",
        "    for root, _, files in os.walk(directory):\n",
        "        for file in files:\n",
        "            ext = os.path.splitext(file)[-1].lower()\n",
        "            file_type_counts[ext] += 1\n",
        "    return file_type_counts\n",
        "\n",
        "# # File type distribution for gtFine dataset\n",
        "# print(\"File Type Distribution in gtFine Dataset:\")\n",
        "# gtFine_file_types = count_file_types(gtFine_CorePath)\n",
        "# print(pd.DataFrame(gtFine_file_types.items(), columns=[\"File Type\", \"Count\"]))\n",
        "\n",
        "# Analyze file type distribution for gtFinePanopticParts dataset\n",
        "print(\"\\nFile Type Distribution in gtFinePanopticParts Dataset:\")\n",
        "gtFinePano_file_types = count_file_types(gtFinePano_CorePath)\n",
        "print(pd.DataFrame(gtFinePano_file_types.items(), columns=[\"File Type\", \"Count\"]))\n",
        "\n",
        "# Analyze file type distribution for gtBboxCityPersons dataset\n",
        "print(\"\\nFile Type Distribution in gtBboxCityPersons Dataset:\")\n",
        "gtBbox_file_types = count_file_types(gtBbox_CorePath)\n",
        "print(pd.DataFrame(gtBbox_file_types.items(), columns=[\"File Type\", \"Count\"]))"
      ],
      "metadata": {
        "colab": {
          "base_uri": "https://localhost:8080/"
        },
        "id": "1Vd9wuN4-nJE",
        "outputId": "7dfebf1b-88e6-46fe-ae87-de3384cf46b2"
      },
      "execution_count": 23,
      "outputs": [
        {
          "output_type": "stream",
          "name": "stdout",
          "text": [
            "\n",
            "File Type Distribution in gtFinePanopticParts Dataset:\n",
            "  File Type  Count\n",
            "0      .tif   3475\n",
            "\n",
            "File Type Distribution in gtBboxCityPersons Dataset:\n",
            "  File Type  Count\n",
            "0     .json   3475\n"
          ]
        }
      ]
    },
    {
      "cell_type": "code",
      "source": [
        "# Load SSD model pre-trained on COCO\n",
        "model = torchvision.models.detection.ssd300_vgg16(weights=SSD300_VGG16_Weights.DEFAULT)\n",
        "model.eval()  # Set to evaluation mode\n",
        "\n",
        "# Move model to GPU if available\n",
        "device = torch.device(\"cuda\" if torch.cuda.is_available() else \"cpu\")\n",
        "model.to(device)"
      ],
      "metadata": {
        "colab": {
          "base_uri": "https://localhost:8080/"
        },
        "id": "BypANVzRAZY0",
        "outputId": "fac9b349-9a5e-4fe0-fbfe-2d028592987f"
      },
      "execution_count": 25,
      "outputs": [
        {
          "output_type": "execute_result",
          "data": {
            "text/plain": [
              "SSD(\n",
              "  (backbone): SSDFeatureExtractorVGG(\n",
              "    (features): Sequential(\n",
              "      (0): Conv2d(3, 64, kernel_size=(3, 3), stride=(1, 1), padding=(1, 1))\n",
              "      (1): ReLU(inplace=True)\n",
              "      (2): Conv2d(64, 64, kernel_size=(3, 3), stride=(1, 1), padding=(1, 1))\n",
              "      (3): ReLU(inplace=True)\n",
              "      (4): MaxPool2d(kernel_size=2, stride=2, padding=0, dilation=1, ceil_mode=False)\n",
              "      (5): Conv2d(64, 128, kernel_size=(3, 3), stride=(1, 1), padding=(1, 1))\n",
              "      (6): ReLU(inplace=True)\n",
              "      (7): Conv2d(128, 128, kernel_size=(3, 3), stride=(1, 1), padding=(1, 1))\n",
              "      (8): ReLU(inplace=True)\n",
              "      (9): MaxPool2d(kernel_size=2, stride=2, padding=0, dilation=1, ceil_mode=False)\n",
              "      (10): Conv2d(128, 256, kernel_size=(3, 3), stride=(1, 1), padding=(1, 1))\n",
              "      (11): ReLU(inplace=True)\n",
              "      (12): Conv2d(256, 256, kernel_size=(3, 3), stride=(1, 1), padding=(1, 1))\n",
              "      (13): ReLU(inplace=True)\n",
              "      (14): Conv2d(256, 256, kernel_size=(3, 3), stride=(1, 1), padding=(1, 1))\n",
              "      (15): ReLU(inplace=True)\n",
              "      (16): MaxPool2d(kernel_size=2, stride=2, padding=0, dilation=1, ceil_mode=True)\n",
              "      (17): Conv2d(256, 512, kernel_size=(3, 3), stride=(1, 1), padding=(1, 1))\n",
              "      (18): ReLU(inplace=True)\n",
              "      (19): Conv2d(512, 512, kernel_size=(3, 3), stride=(1, 1), padding=(1, 1))\n",
              "      (20): ReLU(inplace=True)\n",
              "      (21): Conv2d(512, 512, kernel_size=(3, 3), stride=(1, 1), padding=(1, 1))\n",
              "      (22): ReLU(inplace=True)\n",
              "    )\n",
              "    (extra): ModuleList(\n",
              "      (0): Sequential(\n",
              "        (0): MaxPool2d(kernel_size=2, stride=2, padding=0, dilation=1, ceil_mode=False)\n",
              "        (1): Conv2d(512, 512, kernel_size=(3, 3), stride=(1, 1), padding=(1, 1))\n",
              "        (2): ReLU(inplace=True)\n",
              "        (3): Conv2d(512, 512, kernel_size=(3, 3), stride=(1, 1), padding=(1, 1))\n",
              "        (4): ReLU(inplace=True)\n",
              "        (5): Conv2d(512, 512, kernel_size=(3, 3), stride=(1, 1), padding=(1, 1))\n",
              "        (6): ReLU(inplace=True)\n",
              "        (7): Sequential(\n",
              "          (0): MaxPool2d(kernel_size=3, stride=1, padding=1, dilation=1, ceil_mode=False)\n",
              "          (1): Conv2d(512, 1024, kernel_size=(3, 3), stride=(1, 1), padding=(6, 6), dilation=(6, 6))\n",
              "          (2): ReLU(inplace=True)\n",
              "          (3): Conv2d(1024, 1024, kernel_size=(1, 1), stride=(1, 1))\n",
              "          (4): ReLU(inplace=True)\n",
              "        )\n",
              "      )\n",
              "      (1): Sequential(\n",
              "        (0): Conv2d(1024, 256, kernel_size=(1, 1), stride=(1, 1))\n",
              "        (1): ReLU(inplace=True)\n",
              "        (2): Conv2d(256, 512, kernel_size=(3, 3), stride=(2, 2), padding=(1, 1))\n",
              "        (3): ReLU(inplace=True)\n",
              "      )\n",
              "      (2): Sequential(\n",
              "        (0): Conv2d(512, 128, kernel_size=(1, 1), stride=(1, 1))\n",
              "        (1): ReLU(inplace=True)\n",
              "        (2): Conv2d(128, 256, kernel_size=(3, 3), stride=(2, 2), padding=(1, 1))\n",
              "        (3): ReLU(inplace=True)\n",
              "      )\n",
              "      (3-4): 2 x Sequential(\n",
              "        (0): Conv2d(256, 128, kernel_size=(1, 1), stride=(1, 1))\n",
              "        (1): ReLU(inplace=True)\n",
              "        (2): Conv2d(128, 256, kernel_size=(3, 3), stride=(1, 1))\n",
              "        (3): ReLU(inplace=True)\n",
              "      )\n",
              "    )\n",
              "  )\n",
              "  (anchor_generator): DefaultBoxGenerator(aspect_ratios=[[2], [2, 3], [2, 3], [2, 3], [2], [2]], clip=True, scales=[0.07, 0.15, 0.33, 0.51, 0.69, 0.87, 1.05], steps=[8, 16, 32, 64, 100, 300])\n",
              "  (head): SSDHead(\n",
              "    (classification_head): SSDClassificationHead(\n",
              "      (module_list): ModuleList(\n",
              "        (0): Conv2d(512, 364, kernel_size=(3, 3), stride=(1, 1), padding=(1, 1))\n",
              "        (1): Conv2d(1024, 546, kernel_size=(3, 3), stride=(1, 1), padding=(1, 1))\n",
              "        (2): Conv2d(512, 546, kernel_size=(3, 3), stride=(1, 1), padding=(1, 1))\n",
              "        (3): Conv2d(256, 546, kernel_size=(3, 3), stride=(1, 1), padding=(1, 1))\n",
              "        (4-5): 2 x Conv2d(256, 364, kernel_size=(3, 3), stride=(1, 1), padding=(1, 1))\n",
              "      )\n",
              "    )\n",
              "    (regression_head): SSDRegressionHead(\n",
              "      (module_list): ModuleList(\n",
              "        (0): Conv2d(512, 16, kernel_size=(3, 3), stride=(1, 1), padding=(1, 1))\n",
              "        (1): Conv2d(1024, 24, kernel_size=(3, 3), stride=(1, 1), padding=(1, 1))\n",
              "        (2): Conv2d(512, 24, kernel_size=(3, 3), stride=(1, 1), padding=(1, 1))\n",
              "        (3): Conv2d(256, 24, kernel_size=(3, 3), stride=(1, 1), padding=(1, 1))\n",
              "        (4-5): 2 x Conv2d(256, 16, kernel_size=(3, 3), stride=(1, 1), padding=(1, 1))\n",
              "      )\n",
              "    )\n",
              "  )\n",
              "  (transform): GeneralizedRCNNTransform(\n",
              "      Normalize(mean=[0.48235, 0.45882, 0.40784], std=[0.00392156862745098, 0.00392156862745098, 0.00392156862745098])\n",
              "      Resize(min_size=(300,), max_size=300, mode='bilinear')\n",
              "  )\n",
              ")"
            ]
          },
          "metadata": {},
          "execution_count": 25
        }
      ]
    },
    {
      "cell_type": "code",
      "source": [
        "def preprocess_image(image_path):\n",
        "    image = Image.open(image_path).convert(\"RGB\")\n",
        "\n",
        "    transform = transforms.Compose([\n",
        "        transforms.Resize((300, 300)),  # SSD300 expects 300x300 images\n",
        "        transforms.ToTensor(),\n",
        "        transforms.Normalize(mean=[0.485, 0.456, 0.406], std=[0.229, 0.224, 0.225])\n",
        "    ])\n",
        "\n",
        "    return transform(image).unsqueeze(0)  # Add batch dimension"
      ],
      "metadata": {
        "id": "VgY3cj6RAzu0"
      },
      "execution_count": 26,
      "outputs": []
    },
    {
      "cell_type": "code",
      "source": [
        "# Sample image from the dataset\n",
        "sample_image_path = os.path.join(gtFinePano_CorePath, \"train\", \"aachen\", \"aachen_000052_000019_gtFinePanopticParts.tif\")\n",
        "\n",
        "# Preprocess the image\n",
        "input_tensor = preprocess_image(sample_image_path).to(device)\n",
        "\n",
        "# Perform inference\n",
        "with torch.no_grad():\n",
        "    predictions = model(input_tensor)\n",
        "\n",
        "# Extract detections\n",
        "boxes = predictions[0]['boxes'].cpu().numpy()\n",
        "labels = predictions[0]['labels'].cpu().numpy()\n",
        "scores = predictions[0]['scores'].cpu().numpy()\n",
        "\n",
        "# Filter detections based on confidence threshold\n",
        "threshold = 0.5\n",
        "filtered_indices = np.where(scores >= threshold)[0]\n",
        "filtered_boxes = boxes[filtered_indices]\n",
        "filtered_labels = labels[filtered_indices]\n",
        "filtered_scores = scores[filtered_indices]\n"
      ],
      "metadata": {
        "id": "zzxL4xFpA2ls"
      },
      "execution_count": 31,
      "outputs": []
    },
    {
      "cell_type": "code",
      "source": [
        "def draw_detections(image_path, boxes, labels, scores):\n",
        "    if not os.path.exists(image_path):\n",
        "        print(f\"Error: Image not found at {image_path}\")\n",
        "        return\n",
        "\n",
        "    image = Image.open(image_path).convert(\"RGB\")  # Use PIL to load .tif images\n",
        "    image = np.array(image)  # Convert to NumPy array for OpenCV compatibility\n",
        "\n",
        "    for i in range(len(boxes)):\n",
        "        x1, y1, x2, y2 = boxes[i].astype(int)\n",
        "        label = labels[i]\n",
        "        score = scores[i]\n",
        "\n",
        "        # Draw bounding box using OpenCV\n",
        "        cv2.rectangle(image, (x1, y1), (x2, y2), (0, 255, 0), 2)\n",
        "        text = f\"Person: {score:.2f}\"\n",
        "        cv2.putText(image, text, (x1, y1 - 5), cv2.FONT_HERSHEY_SIMPLEX, 0.5, (0, 255, 0), 2)\n",
        "\n",
        "    plt.figure(figsize=(10, 6))\n",
        "    plt.imshow(image)\n",
        "    plt.axis(\"off\")\n",
        "    plt.show()\n",
        "\n",
        "# Test again\n",
        "draw_detections(sample_image_path, filtered_boxes, filtered_labels, filtered_scores)"
      ],
      "metadata": {
        "colab": {
          "base_uri": "https://localhost:8080/",
          "height": 424
        },
        "id": "PGXIUZLABLOc",
        "outputId": "51d62e88-8f3a-4396-cf38-df223637f915"
      },
      "execution_count": 32,
      "outputs": [
        {
          "output_type": "display_data",
          "data": {
            "text/plain": [
              "<Figure size 1000x600 with 1 Axes>"
            ],
            "image/png": "[encoded data removed]"
          },
          "metadata": {}
        }
      ]
    }
  ]
}